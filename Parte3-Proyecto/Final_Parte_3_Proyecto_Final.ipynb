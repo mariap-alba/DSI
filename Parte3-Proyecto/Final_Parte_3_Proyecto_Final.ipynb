{
  "nbformat": 4,
  "nbformat_minor": 0,
  "metadata": {
    "colab": {
      "provenance": []
    },
    "kernelspec": {
      "name": "python3",
      "display_name": "Python 3"
    },
    "language_info": {
      "name": "python"
    }
  },
  "cells": [
    {
      "cell_type": "markdown",
      "source": [
        "# **Parte 3: Proyecto Final**\n",
        "Maria Paula Alba Gomez <br>\n",
        "Diseño de Software Inteligente <br>\n",
        "Maestria en Inteligencia Artificial<br>\n",
        "\n"
      ],
      "metadata": {
        "id": "ihtj0JpQxt-b"
      }
    },
    {
      "cell_type": "markdown",
      "source": [
        "Conjunto de datos seleccionado: [Students Performance in Exams](https://www.kaggle.com/datasets/spscientist/students-performance-in-exams?select=StudentsPerformance.csv)\n",
        "\n",
        "Para este proyecto se pretende realizar un modelo de clasificación que predice si se pasa un exámen o no de acuerdo a ciertas características como son el género, el tipo de comida que se le da al estudiante, el nivel de preparación para el exámen, el nivel de educación de los padres y a partir del promedio de las notas obtenidas en matemáticas, lectura y escritura."
      ],
      "metadata": {
        "id": "GyMraqMXu0DR"
      }
    },
    {
      "cell_type": "markdown",
      "source": [
        "# Importación de Librerias"
      ],
      "metadata": {
        "id": "iKb2XsA8bx0T"
      }
    },
    {
      "cell_type": "code",
      "source": [
        "import sys\n",
        "from packaging import version\n",
        "\n",
        "import sklearn\n",
        "\n",
        "import pandas as pd\n",
        "import numpy as np\n",
        "\n",
        "import matplotlib.pyplot as plt\n",
        "import seaborn as sns\n",
        "\n",
        "from pathlib import Path"
      ],
      "metadata": {
        "id": "iJUitAGwbn2Z"
      },
      "execution_count": 1,
      "outputs": []
    },
    {
      "cell_type": "markdown",
      "source": [
        "Se requiere Python 3.7 o superior y  Scikit-Learn ≥ 1.0.1:"
      ],
      "metadata": {
        "id": "e63ggEVAzGiW"
      }
    },
    {
      "cell_type": "code",
      "execution_count": 2,
      "metadata": {
        "colab": {
          "base_uri": "https://localhost:8080/"
        },
        "id": "S0_y7HJgrJcF",
        "outputId": "226cc169-0e3e-4246-c118-5937e24b5f6b"
      },
      "outputs": [
        {
          "output_type": "stream",
          "name": "stdout",
          "text": [
            "1.2.2\n"
          ]
        }
      ],
      "source": [
        "assert sys.version_info >= (3, 7)\n",
        "print(version.parse(sklearn.__version__))"
      ]
    },
    {
      "cell_type": "markdown",
      "source": [
        "Código extra - código para guardar las figuras como PNG de alta resolución para el libro (Tomado del colab de ejemplo presentado en la clase)"
      ],
      "metadata": {
        "id": "SW3JapaFg80Q"
      }
    },
    {
      "cell_type": "code",
      "source": [
        "IMAGES_PATH = Path() / \"images\" / \"end_to_end_project\"\n",
        "IMAGES_PATH.mkdir(parents=True, exist_ok=True)\n",
        "\n",
        "def save_fig(fig_id, tight_layout=True, fig_extension=\"png\", resolution=300):\n",
        "    path = IMAGES_PATH / f\"{fig_id}.{fig_extension}\"\n",
        "    if tight_layout:\n",
        "        plt.tight_layout()\n",
        "    plt.savefig(path, format=fig_extension, dpi=resolution)"
      ],
      "metadata": {
        "id": "yf1rroA-g5lG"
      },
      "execution_count": 3,
      "outputs": []
    },
    {
      "cell_type": "markdown",
      "source": [
        "# Cargue de datos"
      ],
      "metadata": {
        "id": "3KlH96-R_pu-"
      }
    },
    {
      "cell_type": "markdown",
      "source": [
        "El conjunto de datos [Students Performance in Exams](https://www.kaggle.com/datasets/spscientist/students-performance-in-exams?select=StudentsPerformance.csv) se encuentran en el repositorios de [GitHub](https://github.com/mariap-alba/DSI).\n",
        "\n"
      ],
      "metadata": {
        "id": "6atdD3-0aSBy"
      }
    },
    {
      "cell_type": "code",
      "source": [
        "url = \"https://raw.githubusercontent.com/mariap-alba/DSI/master/dataset/StudentsPerformance.csv\"\n",
        "dataset = pd.read_csv(url)"
      ],
      "metadata": {
        "id": "kM_MJLRhZfyj"
      },
      "execution_count": 4,
      "outputs": []
    },
    {
      "cell_type": "markdown",
      "source": [
        "# Visualización de los datos"
      ],
      "metadata": {
        "id": "biv7v4YV_w8_"
      }
    },
    {
      "cell_type": "markdown",
      "source": [
        "Se visualiza las primeras 5 lineas del dataset con el método head()"
      ],
      "metadata": {
        "id": "ACWNpWQZABK0"
      }
    },
    {
      "cell_type": "code",
      "source": [
        "dataset.head()"
      ],
      "metadata": {
        "colab": {
          "base_uri": "https://localhost:8080/",
          "height": 206
        },
        "id": "akNLLigT_2JA",
        "outputId": "c818565f-5086-4ad9-a6b8-9582bc41a664"
      },
      "execution_count": 5,
      "outputs": [
        {
          "output_type": "execute_result",
          "data": {
            "text/plain": [
              "   gender race/ethnicity parental level of education         lunch  \\\n",
              "0  female        group B           bachelor's degree      standard   \n",
              "1  female        group C                some college      standard   \n",
              "2  female        group B             master's degree      standard   \n",
              "3    male        group A          associate's degree  free/reduced   \n",
              "4    male        group C                some college      standard   \n",
              "\n",
              "  test preparation course  math score  reading score  writing score  \n",
              "0                    none          72             72             74  \n",
              "1               completed          69             90             88  \n",
              "2                    none          90             95             93  \n",
              "3                    none          47             57             44  \n",
              "4                    none          76             78             75  "
            ],
            "text/html": [
              "\n",
              "  <div id=\"df-3129e1e5-9890-4b89-b596-9a0691c5d55f\">\n",
              "    <div class=\"colab-df-container\">\n",
              "      <div>\n",
              "<style scoped>\n",
              "    .dataframe tbody tr th:only-of-type {\n",
              "        vertical-align: middle;\n",
              "    }\n",
              "\n",
              "    .dataframe tbody tr th {\n",
              "        vertical-align: top;\n",
              "    }\n",
              "\n",
              "    .dataframe thead th {\n",
              "        text-align: right;\n",
              "    }\n",
              "</style>\n",
              "<table border=\"1\" class=\"dataframe\">\n",
              "  <thead>\n",
              "    <tr style=\"text-align: right;\">\n",
              "      <th></th>\n",
              "      <th>gender</th>\n",
              "      <th>race/ethnicity</th>\n",
              "      <th>parental level of education</th>\n",
              "      <th>lunch</th>\n",
              "      <th>test preparation course</th>\n",
              "      <th>math score</th>\n",
              "      <th>reading score</th>\n",
              "      <th>writing score</th>\n",
              "    </tr>\n",
              "  </thead>\n",
              "  <tbody>\n",
              "    <tr>\n",
              "      <th>0</th>\n",
              "      <td>female</td>\n",
              "      <td>group B</td>\n",
              "      <td>bachelor's degree</td>\n",
              "      <td>standard</td>\n",
              "      <td>none</td>\n",
              "      <td>72</td>\n",
              "      <td>72</td>\n",
              "      <td>74</td>\n",
              "    </tr>\n",
              "    <tr>\n",
              "      <th>1</th>\n",
              "      <td>female</td>\n",
              "      <td>group C</td>\n",
              "      <td>some college</td>\n",
              "      <td>standard</td>\n",
              "      <td>completed</td>\n",
              "      <td>69</td>\n",
              "      <td>90</td>\n",
              "      <td>88</td>\n",
              "    </tr>\n",
              "    <tr>\n",
              "      <th>2</th>\n",
              "      <td>female</td>\n",
              "      <td>group B</td>\n",
              "      <td>master's degree</td>\n",
              "      <td>standard</td>\n",
              "      <td>none</td>\n",
              "      <td>90</td>\n",
              "      <td>95</td>\n",
              "      <td>93</td>\n",
              "    </tr>\n",
              "    <tr>\n",
              "      <th>3</th>\n",
              "      <td>male</td>\n",
              "      <td>group A</td>\n",
              "      <td>associate's degree</td>\n",
              "      <td>free/reduced</td>\n",
              "      <td>none</td>\n",
              "      <td>47</td>\n",
              "      <td>57</td>\n",
              "      <td>44</td>\n",
              "    </tr>\n",
              "    <tr>\n",
              "      <th>4</th>\n",
              "      <td>male</td>\n",
              "      <td>group C</td>\n",
              "      <td>some college</td>\n",
              "      <td>standard</td>\n",
              "      <td>none</td>\n",
              "      <td>76</td>\n",
              "      <td>78</td>\n",
              "      <td>75</td>\n",
              "    </tr>\n",
              "  </tbody>\n",
              "</table>\n",
              "</div>\n",
              "      <button class=\"colab-df-convert\" onclick=\"convertToInteractive('df-3129e1e5-9890-4b89-b596-9a0691c5d55f')\"\n",
              "              title=\"Convert this dataframe to an interactive table.\"\n",
              "              style=\"display:none;\">\n",
              "        \n",
              "  <svg xmlns=\"http://www.w3.org/2000/svg\" height=\"24px\"viewBox=\"0 0 24 24\"\n",
              "       width=\"24px\">\n",
              "    <path d=\"M0 0h24v24H0V0z\" fill=\"none\"/>\n",
              "    <path d=\"M18.56 5.44l.94 2.06.94-2.06 2.06-.94-2.06-.94-.94-2.06-.94 2.06-2.06.94zm-11 1L8.5 8.5l.94-2.06 2.06-.94-2.06-.94L8.5 2.5l-.94 2.06-2.06.94zm10 10l.94 2.06.94-2.06 2.06-.94-2.06-.94-.94-2.06-.94 2.06-2.06.94z\"/><path d=\"M17.41 7.96l-1.37-1.37c-.4-.4-.92-.59-1.43-.59-.52 0-1.04.2-1.43.59L10.3 9.45l-7.72 7.72c-.78.78-.78 2.05 0 2.83L4 21.41c.39.39.9.59 1.41.59.51 0 1.02-.2 1.41-.59l7.78-7.78 2.81-2.81c.8-.78.8-2.07 0-2.86zM5.41 20L4 18.59l7.72-7.72 1.47 1.35L5.41 20z\"/>\n",
              "  </svg>\n",
              "      </button>\n",
              "      \n",
              "  <style>\n",
              "    .colab-df-container {\n",
              "      display:flex;\n",
              "      flex-wrap:wrap;\n",
              "      gap: 12px;\n",
              "    }\n",
              "\n",
              "    .colab-df-convert {\n",
              "      background-color: #E8F0FE;\n",
              "      border: none;\n",
              "      border-radius: 50%;\n",
              "      cursor: pointer;\n",
              "      display: none;\n",
              "      fill: #1967D2;\n",
              "      height: 32px;\n",
              "      padding: 0 0 0 0;\n",
              "      width: 32px;\n",
              "    }\n",
              "\n",
              "    .colab-df-convert:hover {\n",
              "      background-color: #E2EBFA;\n",
              "      box-shadow: 0px 1px 2px rgba(60, 64, 67, 0.3), 0px 1px 3px 1px rgba(60, 64, 67, 0.15);\n",
              "      fill: #174EA6;\n",
              "    }\n",
              "\n",
              "    [theme=dark] .colab-df-convert {\n",
              "      background-color: #3B4455;\n",
              "      fill: #D2E3FC;\n",
              "    }\n",
              "\n",
              "    [theme=dark] .colab-df-convert:hover {\n",
              "      background-color: #434B5C;\n",
              "      box-shadow: 0px 1px 3px 1px rgba(0, 0, 0, 0.15);\n",
              "      filter: drop-shadow(0px 1px 2px rgba(0, 0, 0, 0.3));\n",
              "      fill: #FFFFFF;\n",
              "    }\n",
              "  </style>\n",
              "\n",
              "      <script>\n",
              "        const buttonEl =\n",
              "          document.querySelector('#df-3129e1e5-9890-4b89-b596-9a0691c5d55f button.colab-df-convert');\n",
              "        buttonEl.style.display =\n",
              "          google.colab.kernel.accessAllowed ? 'block' : 'none';\n",
              "\n",
              "        async function convertToInteractive(key) {\n",
              "          const element = document.querySelector('#df-3129e1e5-9890-4b89-b596-9a0691c5d55f');\n",
              "          const dataTable =\n",
              "            await google.colab.kernel.invokeFunction('convertToInteractive',\n",
              "                                                     [key], {});\n",
              "          if (!dataTable) return;\n",
              "\n",
              "          const docLinkHtml = 'Like what you see? Visit the ' +\n",
              "            '<a target=\"_blank\" href=https://colab.research.google.com/notebooks/data_table.ipynb>data table notebook</a>'\n",
              "            + ' to learn more about interactive tables.';\n",
              "          element.innerHTML = '';\n",
              "          dataTable['output_type'] = 'display_data';\n",
              "          await google.colab.output.renderOutput(dataTable, element);\n",
              "          const docLink = document.createElement('div');\n",
              "          docLink.innerHTML = docLinkHtml;\n",
              "          element.appendChild(docLink);\n",
              "        }\n",
              "      </script>\n",
              "    </div>\n",
              "  </div>\n",
              "  "
            ]
          },
          "metadata": {},
          "execution_count": 5
        }
      ]
    },
    {
      "cell_type": "markdown",
      "source": [
        "El dataset cuenta con 8 atributos: gender, race/ethnicity, parental level of education, lunch, test preparation course, math score, reading score y writing score."
      ],
      "metadata": {
        "id": "VuOAXcX_Bsa0"
      }
    },
    {
      "cell_type": "markdown",
      "source": [
        "Se realiza una copia del dataset con el método copy() para no modificar el dataset original."
      ],
      "metadata": {
        "id": "0Av0e6eWxstT"
      }
    },
    {
      "cell_type": "code",
      "source": [
        "students = dataset.copy()"
      ],
      "metadata": {
        "id": "W7xZUAcjiq7f"
      },
      "execution_count": 6,
      "outputs": []
    },
    {
      "cell_type": "markdown",
      "source": [
        "Se obtiene el promedio de las caracterícticas 'math score', 'reading score' y 'writing score' por cada instancia."
      ],
      "metadata": {
        "id": "uRuhG69mx3s0"
      }
    },
    {
      "cell_type": "code",
      "source": [
        "mean_score= []\n",
        "for i in range(students.shape[0]):\n",
        "  suma = students['math score'][i] + students['reading score'][i] + students['writing score'][i]\n",
        "  mean = suma/3\n",
        "  mean_score.append(round(mean,1))\n",
        "\n",
        "print(mean_score)"
      ],
      "metadata": {
        "colab": {
          "base_uri": "https://localhost:8080/"
        },
        "id": "X5WzGK2shyd7",
        "outputId": "745ac322-6350-4a06-dc85-26a719b281ff"
      },
      "execution_count": 7,
      "outputs": [
        {
          "output_type": "stream",
          "name": "stdout",
          "text": [
            "[72.7, 82.3, 92.7, 49.3, 76.3, 77.3, 91.7, 40.7, 65.0, 49.3, 54.7, 45.0, 73.0, 73.3, 53.7, 74.0, 87.7, 26.0, 44.7, 57.7, 66.0, 70.0, 50.3, 71.7, 75.0, 73.0, 59.3, 70.3, 68.3, 69.0, 72.3, 63.0, 64.3, 40.0, 88.7, 80.3, 79.3, 57.7, 84.3, 56.7, 56.7, 66.3, 58.7, 63.3, 53.3, 58.7, 60.7, 71.0, 69.0, 82.7, 52.0, 71.3, 46.3, 80.3, 80.7, 39.0, 84.3, 52.0, 58.3, 9.0, 75.0, 37.3, 59.3, 73.3, 58.7, 64.0, 39.7, 68.7, 58.3, 53.3, 64.7, 60.3, 46.7, 58.0, 46.3, 41.0, 26.0, 79.7, 69.0, 66.0, 48.7, 46.3, 50.3, 66.3, 38.3, 78.3, 82.3, 72.0, 65.0, 80.3, 70.3, 32.3, 73.7, 46.0, 85.7, 80.3, 64.3, 68.3, 62.3, 64.7, 71.0, 72.0, 88.3, 50.3, 91.3, 65.7, 95.7, 64.3, 66.0, 68.7, 88.0, 55.3, 51.3, 54.3, 99.7, 78.3, 80.7, 79.7, 58.3, 63.0, 86.7, 90.7, 91.3, 58.7, 78.7, 89.3, 69.0, 72.0, 79.3, 50.3, 85.0, 43.3, 77.0, 80.0, 76.0, 53.7, 48.7, 60.3, 64.0, 67.0, 73.0, 61.7, 50.3, 49.0, 79.7, 31.3, 82.3, 69.0, 74.7, 97.7, 66.0, 70.7, 65.0, 50.0, 63.3, 82.3, 72.7, 60.0, 78.0, 64.0, 78.0, 82.7, 51.3, 51.3, 88.0, 98.7, 51.7, 70.7, 76.3, 70.7, 73.0, 86.7, 82.0, 66.7, 49.3, 86.3, 52.7, 75.0, 61.3, 99.0, 68.3, 58.7, 49.0, 68.0, 48.7, 65.7, 73.7, 65.3, 48.3, 84.0, 66.7, 79.3, 64.0, 67.0, 79.3, 56.0, 64.3, 54.0, 51.0, 77.7, 79.0, 74.3, 71.7, 64.7, 47.3, 74.3, 68.7, 79.0, 77.0, 61.7, 79.3, 30.0, 54.7, 55.7, 86.3, 80.7, 85.7, 38.3, 71.0, 57.7, 66.0, 81.7, 60.7, 80.3, 63.7, 51.7, 71.7, 53.7, 68.0, 92.3, 68.7, 43.7, 78.7, 85.7, 83.0, 77.3, 65.3, 66.0, 52.3, 81.3, 69.0, 82.0, 54.3, 51.0, 72.7, 77.3, 79.7, 65.3, 63.7, 60.3, 48.3, 79.0, 66.7, 77.3, 52.7, 68.3, 68.3, 77.3, 74.3, 75.7, 73.3, 78.7, 48.3, 94.0, 72.3, 47.3, 73.0, 72.7, 91.7, 72.3, 64.3, 49.7, 52.7, 68.7, 83.0, 78.0, 90.0, 65.7, 77.0, 62.0, 49.0, 46.3, 78.7, 75.3, 43.0, 81.7, 89.0, 79.3, 79.7, 76.7, 71.3, 76.3, 60.0, 71.0, 78.3, 63.0, 43.3, 71.0, 45.3, 84.0, 80.0, 54.0, 77.3, 73.3, 77.3, 68.3, 89.0, 49.0, 63.7, 52.7, 76.3, 61.0, 65.3, 68.0, 66.0, 67.3, 83.3, 77.7, 67.7, 61.3, 76.7, 80.0, 77.3, 49.7, 43.3, 88.7, 61.3, 23.3, 78.0, 49.0, 64.0, 39.7, 57.0, 83.0, 90.3, 65.0, 71.7, 47.7, 29.7, 50.0, 57.0, 65.7, 73.0, 68.7, 73.0, 75.7, 60.0, 88.7, 71.7, 79.0, 62.0, 58.3, 73.7, 53.7, 66.7, 67.7, 61.7, 59.0, 60.7, 86.3, 59.7, 82.3, 56.0, 31.0, 59.0, 55.7, 60.0, 62.7, 55.3, 80.7, 77.3, 62.7, 73.3, 91.7, 67.3, 43.3, 84.0, 93.3, 77.0, 64.0, 83.0, 94.0, 77.0, 44.0, 41.3, 72.7, 69.0, 67.3, 63.3, 72.7, 66.3, 74.0, 70.0, 55.7, 72.0, 44.7, 60.0, 89.7, 64.7, 57.7, 60.0, 46.3, 56.3, 95.7, 58.3, 68.0, 64.3, 79.7, 55.0, 85.3, 71.7, 81.7, 65.7, 65.7, 67.3, 75.3, 71.0, 71.3, 63.0, 55.7, 89.3, 59.7, 57.3, 74.7, 38.0, 63.7, 85.0, 68.3, 59.0, 61.7, 63.0, 67.7, 57.3, 52.0, 68.3, 50.3, 69.0, 71.3, 59.0, 86.3, 75.7, 79.7, 67.0, 77.3, 78.0, 72.7, 65.0, 82.3, 45.0, 75.3, 78.0, 96.3, 72.0, 57.3, 58.7, 46.7, 85.7, 51.7, 100.0, 68.3, 55.3, 51.0, 72.3, 86.0, 65.0, 87.3, 31.7, 68.0, 83.3, 80.3, 86.0, 68.7, 79.3, 62.3, 90.3, 76.7, 68.0, 73.3, 63.0, 71.3, 70.7, 55.7, 65.7, 52.3, 51.7, 71.7, 54.7, 69.7, 58.0, 81.0, 75.3, 66.0, 85.3, 86.3, 62.0, 66.0, 51.3, 71.0, 67.7, 73.0, 78.3, 91.0, 59.3, 92.0, 51.0, 81.3, 68.0, 56.0, 78.0, 88.3, 73.3, 52.3, 54.3, 59.0, 89.3, 82.7, 82.3, 71.0, 74.0, 74.7, 57.3, 87.0, 61.3, 54.3, 51.3, 62.3, 59.0, 44.0, 39.0, 68.7, 69.3, 51.3, 60.3, 87.0, 70.0, 77.3, 56.3, 59.7, 74.0, 91.7, 70.7, 80.3, 79.0, 88.7, 64.3, 80.3, 96.3, 67.7, 64.3, 73.3, 73.3, 88.3, 46.0, 67.7, 46.0, 34.7, 68.7, 64.7, 64.3, 67.0, 76.0, 70.3, 92.7, 74.3, 48.3, 45.3, 97.3, 70.0, 52.7, 67.7, 72.0, 93.0, 57.0, 60.0, 75.3, 49.3, 54.7, 87.0, 54.0, 60.7, 91.3, 78.7, 71.3, 76.0, 74.3, 72.3, 67.0, 56.3, 61.0, 59.7, 56.3, 61.0, 66.7, 74.3, 97.0, 69.0, 23.0, 51.7, 73.0, 76.0, 59.0, 29.3, 78.0, 56.0, 87.7, 69.7, 83.7, 50.7, 62.3, 62.0, 64.0, 61.0, 91.7, 72.0, 89.3, 66.7, 40.0, 83.0, 86.7, 68.7, 50.0, 60.3, 53.7, 94.0, 60.3, 98.7, 67.3, 51.7, 50.7, 50.0, 67.0, 68.0, 73.7, 82.7, 82.7, 69.7, 76.0, 86.7, 78.7, 74.3, 48.0, 84.0, 77.3, 77.7, 65.0, 75.7, 64.7, 64.7, 52.7, 76.3, 53.3, 74.7, 89.7, 69.7, 77.0, 65.3, 69.3, 65.3, 53.7, 87.3, 74.7, 67.3, 65.0, 67.0, 68.7, 56.7, 69.0, 83.0, 69.3, 76.7, 70.0, 53.0, 74.3, 77.7, 74.7, 60.0, 75.7, 76.0, 78.0, 61.3, 71.0, 62.7, 57.0, 37.7, 65.3, 97.7, 76.0, 76.0, 51.7, 88.7, 51.7, 75.7, 73.7, 75.7, 56.0, 84.7, 82.3, 67.0, 71.3, 63.7, 80.7, 65.3, 86.0, 64.7, 62.0, 66.3, 38.7, 59.0, 85.0, 53.7, 89.0, 83.3, 99.0, 82.0, 68.0, 85.7, 74.3, 97.0, 75.3, 81.3, 68.0, 57.7, 84.0, 46.7, 43.7, 75.3, 72.3, 58.7, 83.0, 43.0, 75.0, 48.0, 90.0, 48.7, 56.0, 61.0, 85.0, 64.0, 75.0, 58.7, 75.0, 50.0, 82.3, 68.0, 52.3, 75.0, 71.7, 67.0, 56.3, 85.7, 69.3, 68.3, 77.0, 84.0, 55.3, 90.3, 55.0, 70.0, 58.7, 74.3, 63.0, 53.3, 81.7, 62.3, 60.7, 72.7, 70.0, 66.0, 71.3, 58.3, 49.7, 74.0, 63.7, 73.0, 63.7, 54.0, 69.3, 40.7, 77.7, 87.0, 53.0, 83.7, 81.0, 57.7, 83.7, 42.3, 76.0, 29.7, 64.7, 59.3, 56.7, 65.3, 69.7, 83.3, 48.3, 66.0, 70.0, 78.3, 61.0, 54.7, 69.3, 76.3, 92.0, 84.7, 75.7, 76.7, 71.0, 42.0, 78.0, 54.7, 39.3, 47.0, 61.7, 82.3, 78.3, 89.0, 56.0, 69.0, 66.7, 85.3, 89.0, 87.0, 50.7, 80.0, 52.7, 62.3, 64.7, 70.0, 78.7, 58.3, 59.3, 83.0, 60.7, 82.7, 51.0, 66.0, 64.7, 78.7, 56.0, 72.0, 45.7, 57.7, 34.3, 75.7, 56.3, 86.3, 87.0, 56.0, 66.3, 74.7, 68.3, 64.0, 88.3, 70.0, 60.3, 96.7, 69.3, 75.0, 49.0, 77.3, 56.0, 84.7, 39.7, 74.0, 93.7, 84.0, 54.7, 48.0, 74.7, 50.3, 54.7, 72.7, 81.3, 87.3, 55.3, 70.0, 82.3, 57.3, 70.3, 71.3, 64.3, 70.3, 69.3, 48.3, 52.0, 72.7, 96.0, 61.7, 69.3, 47.7, 87.3, 87.3, 63.3, 79.0, 63.3, 34.7, 30.7, 73.3, 61.3, 75.0, 86.0, 75.0, 41.0, 97.7, 78.3, 80.7, 52.0, 84.7, 71.3, 68.0, 46.7, 78.3, 59.7, 58.3, 54.0, 68.0, 100.0, 52.3, 71.3, 92.7, 68.7, 44.7, 68.0, 61.3, 71.0, 66.0, 57.3, 65.7, 44.3, 51.7, 70.3, 60.3, 68.3, 73.0, 91.7, 63.7, 59.0, 57.3, 83.7, 71.3, 70.0, 88.3, 70.3, 61.3, 62.3, 57.7, 81.3, 55.7, 50.3, 68.3, 79.3, 78.3, 73.3, 54.7, 66.7, 63.7, 84.0, 97.3, 55.7, 75.7, 59.3, 51.7, 100.0, 72.0, 62.3, 68.0, 66.0, 62.0, 70.3, 79.7, 96.3, 73.0, 54.3, 58.3, 61.3, 74.3, 60.7, 61.7, 48.0, 93.3, 18.3, 79.0, 83.3, 85.3, 77.0, 54.0, 50.0, 77.3, 44.7, 78.7, 80.7, 75.0, 69.0, 69.3, 62.7, 94.0, 57.3, 65.0, 74.3, 83.0]\n"
          ]
        }
      ]
    },
    {
      "cell_type": "markdown",
      "source": [
        "Se agrega al dataset una nueva característica llamada 'mean_score' el cual contiene el promedio de las notas obtenidas en matemáticas, lectura y escritura de cada uno de los estudiantes."
      ],
      "metadata": {
        "id": "_eYdNYUfyHzC"
      }
    },
    {
      "cell_type": "code",
      "source": [
        "students['mean_score'] = mean_score\n",
        "students.head()"
      ],
      "metadata": {
        "colab": {
          "base_uri": "https://localhost:8080/",
          "height": 206
        },
        "id": "v88Nys5Oi0Qg",
        "outputId": "0a1d7fc2-b015-4bdd-8386-6c7da754af4f"
      },
      "execution_count": 8,
      "outputs": [
        {
          "output_type": "execute_result",
          "data": {
            "text/plain": [
              "   gender race/ethnicity parental level of education         lunch  \\\n",
              "0  female        group B           bachelor's degree      standard   \n",
              "1  female        group C                some college      standard   \n",
              "2  female        group B             master's degree      standard   \n",
              "3    male        group A          associate's degree  free/reduced   \n",
              "4    male        group C                some college      standard   \n",
              "\n",
              "  test preparation course  math score  reading score  writing score  \\\n",
              "0                    none          72             72             74   \n",
              "1               completed          69             90             88   \n",
              "2                    none          90             95             93   \n",
              "3                    none          47             57             44   \n",
              "4                    none          76             78             75   \n",
              "\n",
              "   mean_score  \n",
              "0        72.7  \n",
              "1        82.3  \n",
              "2        92.7  \n",
              "3        49.3  \n",
              "4        76.3  "
            ],
            "text/html": [
              "\n",
              "  <div id=\"df-dd091aee-5b7a-494b-b21a-2a484757cd27\">\n",
              "    <div class=\"colab-df-container\">\n",
              "      <div>\n",
              "<style scoped>\n",
              "    .dataframe tbody tr th:only-of-type {\n",
              "        vertical-align: middle;\n",
              "    }\n",
              "\n",
              "    .dataframe tbody tr th {\n",
              "        vertical-align: top;\n",
              "    }\n",
              "\n",
              "    .dataframe thead th {\n",
              "        text-align: right;\n",
              "    }\n",
              "</style>\n",
              "<table border=\"1\" class=\"dataframe\">\n",
              "  <thead>\n",
              "    <tr style=\"text-align: right;\">\n",
              "      <th></th>\n",
              "      <th>gender</th>\n",
              "      <th>race/ethnicity</th>\n",
              "      <th>parental level of education</th>\n",
              "      <th>lunch</th>\n",
              "      <th>test preparation course</th>\n",
              "      <th>math score</th>\n",
              "      <th>reading score</th>\n",
              "      <th>writing score</th>\n",
              "      <th>mean_score</th>\n",
              "    </tr>\n",
              "  </thead>\n",
              "  <tbody>\n",
              "    <tr>\n",
              "      <th>0</th>\n",
              "      <td>female</td>\n",
              "      <td>group B</td>\n",
              "      <td>bachelor's degree</td>\n",
              "      <td>standard</td>\n",
              "      <td>none</td>\n",
              "      <td>72</td>\n",
              "      <td>72</td>\n",
              "      <td>74</td>\n",
              "      <td>72.7</td>\n",
              "    </tr>\n",
              "    <tr>\n",
              "      <th>1</th>\n",
              "      <td>female</td>\n",
              "      <td>group C</td>\n",
              "      <td>some college</td>\n",
              "      <td>standard</td>\n",
              "      <td>completed</td>\n",
              "      <td>69</td>\n",
              "      <td>90</td>\n",
              "      <td>88</td>\n",
              "      <td>82.3</td>\n",
              "    </tr>\n",
              "    <tr>\n",
              "      <th>2</th>\n",
              "      <td>female</td>\n",
              "      <td>group B</td>\n",
              "      <td>master's degree</td>\n",
              "      <td>standard</td>\n",
              "      <td>none</td>\n",
              "      <td>90</td>\n",
              "      <td>95</td>\n",
              "      <td>93</td>\n",
              "      <td>92.7</td>\n",
              "    </tr>\n",
              "    <tr>\n",
              "      <th>3</th>\n",
              "      <td>male</td>\n",
              "      <td>group A</td>\n",
              "      <td>associate's degree</td>\n",
              "      <td>free/reduced</td>\n",
              "      <td>none</td>\n",
              "      <td>47</td>\n",
              "      <td>57</td>\n",
              "      <td>44</td>\n",
              "      <td>49.3</td>\n",
              "    </tr>\n",
              "    <tr>\n",
              "      <th>4</th>\n",
              "      <td>male</td>\n",
              "      <td>group C</td>\n",
              "      <td>some college</td>\n",
              "      <td>standard</td>\n",
              "      <td>none</td>\n",
              "      <td>76</td>\n",
              "      <td>78</td>\n",
              "      <td>75</td>\n",
              "      <td>76.3</td>\n",
              "    </tr>\n",
              "  </tbody>\n",
              "</table>\n",
              "</div>\n",
              "      <button class=\"colab-df-convert\" onclick=\"convertToInteractive('df-dd091aee-5b7a-494b-b21a-2a484757cd27')\"\n",
              "              title=\"Convert this dataframe to an interactive table.\"\n",
              "              style=\"display:none;\">\n",
              "        \n",
              "  <svg xmlns=\"http://www.w3.org/2000/svg\" height=\"24px\"viewBox=\"0 0 24 24\"\n",
              "       width=\"24px\">\n",
              "    <path d=\"M0 0h24v24H0V0z\" fill=\"none\"/>\n",
              "    <path d=\"M18.56 5.44l.94 2.06.94-2.06 2.06-.94-2.06-.94-.94-2.06-.94 2.06-2.06.94zm-11 1L8.5 8.5l.94-2.06 2.06-.94-2.06-.94L8.5 2.5l-.94 2.06-2.06.94zm10 10l.94 2.06.94-2.06 2.06-.94-2.06-.94-.94-2.06-.94 2.06-2.06.94z\"/><path d=\"M17.41 7.96l-1.37-1.37c-.4-.4-.92-.59-1.43-.59-.52 0-1.04.2-1.43.59L10.3 9.45l-7.72 7.72c-.78.78-.78 2.05 0 2.83L4 21.41c.39.39.9.59 1.41.59.51 0 1.02-.2 1.41-.59l7.78-7.78 2.81-2.81c.8-.78.8-2.07 0-2.86zM5.41 20L4 18.59l7.72-7.72 1.47 1.35L5.41 20z\"/>\n",
              "  </svg>\n",
              "      </button>\n",
              "      \n",
              "  <style>\n",
              "    .colab-df-container {\n",
              "      display:flex;\n",
              "      flex-wrap:wrap;\n",
              "      gap: 12px;\n",
              "    }\n",
              "\n",
              "    .colab-df-convert {\n",
              "      background-color: #E8F0FE;\n",
              "      border: none;\n",
              "      border-radius: 50%;\n",
              "      cursor: pointer;\n",
              "      display: none;\n",
              "      fill: #1967D2;\n",
              "      height: 32px;\n",
              "      padding: 0 0 0 0;\n",
              "      width: 32px;\n",
              "    }\n",
              "\n",
              "    .colab-df-convert:hover {\n",
              "      background-color: #E2EBFA;\n",
              "      box-shadow: 0px 1px 2px rgba(60, 64, 67, 0.3), 0px 1px 3px 1px rgba(60, 64, 67, 0.15);\n",
              "      fill: #174EA6;\n",
              "    }\n",
              "\n",
              "    [theme=dark] .colab-df-convert {\n",
              "      background-color: #3B4455;\n",
              "      fill: #D2E3FC;\n",
              "    }\n",
              "\n",
              "    [theme=dark] .colab-df-convert:hover {\n",
              "      background-color: #434B5C;\n",
              "      box-shadow: 0px 1px 3px 1px rgba(0, 0, 0, 0.15);\n",
              "      filter: drop-shadow(0px 1px 2px rgba(0, 0, 0, 0.3));\n",
              "      fill: #FFFFFF;\n",
              "    }\n",
              "  </style>\n",
              "\n",
              "      <script>\n",
              "        const buttonEl =\n",
              "          document.querySelector('#df-dd091aee-5b7a-494b-b21a-2a484757cd27 button.colab-df-convert');\n",
              "        buttonEl.style.display =\n",
              "          google.colab.kernel.accessAllowed ? 'block' : 'none';\n",
              "\n",
              "        async function convertToInteractive(key) {\n",
              "          const element = document.querySelector('#df-dd091aee-5b7a-494b-b21a-2a484757cd27');\n",
              "          const dataTable =\n",
              "            await google.colab.kernel.invokeFunction('convertToInteractive',\n",
              "                                                     [key], {});\n",
              "          if (!dataTable) return;\n",
              "\n",
              "          const docLinkHtml = 'Like what you see? Visit the ' +\n",
              "            '<a target=\"_blank\" href=https://colab.research.google.com/notebooks/data_table.ipynb>data table notebook</a>'\n",
              "            + ' to learn more about interactive tables.';\n",
              "          element.innerHTML = '';\n",
              "          dataTable['output_type'] = 'display_data';\n",
              "          await google.colab.output.renderOutput(dataTable, element);\n",
              "          const docLink = document.createElement('div');\n",
              "          docLink.innerHTML = docLinkHtml;\n",
              "          element.appendChild(docLink);\n",
              "        }\n",
              "      </script>\n",
              "    </div>\n",
              "  </div>\n",
              "  "
            ]
          },
          "metadata": {},
          "execution_count": 8
        }
      ]
    },
    {
      "cell_type": "markdown",
      "source": [
        "Si el estudiante supera la nota de 65 en el promedio de las tres materias se le asigna 1 que quiere decir que aprueba el exámen, en caso contrario se le asigna 0"
      ],
      "metadata": {
        "id": "C0sw9_1Zz2ag"
      }
    },
    {
      "cell_type": "code",
      "source": [
        "pass_test= []\n",
        "for i in range(students.shape[0]):\n",
        "  if students['mean_score'][i] >= 65:\n",
        "    pass_test.append(1)\n",
        "  else:\n",
        "    pass_test.append(0)\n",
        "\n",
        "print(pass_test)"
      ],
      "metadata": {
        "colab": {
          "base_uri": "https://localhost:8080/"
        },
        "id": "u3GGbmT2zAK6",
        "outputId": "a8801490-64c0-4864-c358-1bd46d0ccf61"
      },
      "execution_count": 9,
      "outputs": [
        {
          "output_type": "stream",
          "name": "stdout",
          "text": [
            "[1, 1, 1, 0, 1, 1, 1, 0, 1, 0, 0, 0, 1, 1, 0, 1, 1, 0, 0, 0, 1, 1, 0, 1, 1, 1, 0, 1, 1, 1, 1, 0, 0, 0, 1, 1, 1, 0, 1, 0, 0, 1, 0, 0, 0, 0, 0, 1, 1, 1, 0, 1, 0, 1, 1, 0, 1, 0, 0, 0, 1, 0, 0, 1, 0, 0, 0, 1, 0, 0, 0, 0, 0, 0, 0, 0, 0, 1, 1, 1, 0, 0, 0, 1, 0, 1, 1, 1, 1, 1, 1, 0, 1, 0, 1, 1, 0, 1, 0, 0, 1, 1, 1, 0, 1, 1, 1, 0, 1, 1, 1, 0, 0, 0, 1, 1, 1, 1, 0, 0, 1, 1, 1, 0, 1, 1, 1, 1, 1, 0, 1, 0, 1, 1, 1, 0, 0, 0, 0, 1, 1, 0, 0, 0, 1, 0, 1, 1, 1, 1, 1, 1, 1, 0, 0, 1, 1, 0, 1, 0, 1, 1, 0, 0, 1, 1, 0, 1, 1, 1, 1, 1, 1, 1, 0, 1, 0, 1, 0, 1, 1, 0, 0, 1, 0, 1, 1, 1, 0, 1, 1, 1, 0, 1, 1, 0, 0, 0, 0, 1, 1, 1, 1, 0, 0, 1, 1, 1, 1, 0, 1, 0, 0, 0, 1, 1, 1, 0, 1, 0, 1, 1, 0, 1, 0, 0, 1, 0, 1, 1, 1, 0, 1, 1, 1, 1, 1, 1, 0, 1, 1, 1, 0, 0, 1, 1, 1, 1, 0, 0, 0, 1, 1, 1, 0, 1, 1, 1, 1, 1, 1, 1, 0, 1, 1, 0, 1, 1, 1, 1, 0, 0, 0, 1, 1, 1, 1, 1, 1, 0, 0, 0, 1, 1, 0, 1, 1, 1, 1, 1, 1, 1, 0, 1, 1, 0, 0, 1, 0, 1, 1, 0, 1, 1, 1, 1, 1, 0, 0, 0, 1, 0, 1, 1, 1, 1, 1, 1, 1, 0, 1, 1, 1, 0, 0, 1, 0, 0, 1, 0, 0, 0, 0, 1, 1, 1, 1, 0, 0, 0, 0, 1, 1, 1, 1, 1, 0, 1, 1, 1, 0, 0, 1, 0, 1, 1, 0, 0, 0, 1, 0, 1, 0, 0, 0, 0, 0, 0, 0, 1, 1, 0, 1, 1, 1, 0, 1, 1, 1, 0, 1, 1, 1, 0, 0, 1, 1, 1, 0, 1, 1, 1, 1, 0, 1, 0, 0, 1, 0, 0, 0, 0, 0, 1, 0, 1, 0, 1, 0, 1, 1, 1, 1, 1, 1, 1, 1, 1, 0, 0, 1, 0, 0, 1, 0, 0, 1, 1, 0, 0, 0, 1, 0, 0, 1, 0, 1, 1, 0, 1, 1, 1, 1, 1, 1, 1, 1, 1, 0, 1, 1, 1, 1, 0, 0, 0, 1, 0, 1, 1, 0, 0, 1, 1, 1, 1, 0, 1, 1, 1, 1, 1, 1, 0, 1, 1, 1, 1, 0, 1, 1, 0, 1, 0, 0, 1, 0, 1, 0, 1, 1, 1, 1, 1, 0, 1, 0, 1, 1, 1, 1, 1, 0, 1, 0, 1, 1, 0, 1, 1, 1, 0, 0, 0, 1, 1, 1, 1, 1, 1, 0, 1, 0, 0, 0, 0, 0, 0, 0, 1, 1, 0, 0, 1, 1, 1, 0, 0, 1, 1, 1, 1, 1, 1, 0, 1, 1, 1, 0, 1, 1, 1, 0, 1, 0, 0, 1, 0, 0, 1, 1, 1, 1, 1, 0, 0, 1, 1, 0, 1, 1, 1, 0, 0, 1, 0, 0, 1, 0, 0, 1, 1, 1, 1, 1, 1, 1, 0, 0, 0, 0, 0, 1, 1, 1, 1, 0, 0, 1, 1, 0, 0, 1, 0, 1, 1, 1, 0, 0, 0, 0, 0, 1, 1, 1, 1, 0, 1, 1, 1, 0, 0, 0, 1, 0, 1, 1, 0, 0, 0, 1, 1, 1, 1, 1, 1, 1, 1, 1, 1, 0, 1, 1, 1, 1, 1, 0, 0, 0, 1, 0, 1, 1, 1, 1, 1, 1, 1, 0, 1, 1, 1, 1, 1, 1, 0, 1, 1, 1, 1, 1, 0, 1, 1, 1, 0, 1, 1, 1, 0, 1, 0, 0, 0, 1, 1, 1, 1, 0, 1, 0, 1, 1, 1, 0, 1, 1, 1, 1, 0, 1, 1, 1, 0, 0, 1, 0, 0, 1, 0, 1, 1, 1, 1, 1, 1, 1, 1, 1, 1, 1, 0, 1, 0, 0, 1, 1, 0, 1, 0, 1, 0, 1, 0, 0, 0, 1, 0, 1, 0, 1, 0, 1, 1, 0, 1, 1, 1, 0, 1, 1, 1, 1, 1, 0, 1, 0, 1, 0, 1, 0, 0, 1, 0, 0, 1, 1, 1, 1, 0, 0, 1, 0, 1, 0, 0, 1, 0, 1, 1, 0, 1, 1, 0, 1, 0, 1, 0, 0, 0, 0, 1, 1, 1, 0, 1, 1, 1, 0, 0, 1, 1, 1, 1, 1, 1, 1, 0, 1, 0, 0, 0, 0, 1, 1, 1, 0, 1, 1, 1, 1, 1, 0, 1, 0, 0, 0, 1, 1, 0, 0, 1, 0, 1, 0, 1, 0, 1, 0, 1, 0, 0, 0, 1, 0, 1, 1, 0, 1, 1, 1, 0, 1, 1, 0, 1, 1, 1, 0, 1, 0, 1, 0, 1, 1, 1, 0, 0, 1, 0, 0, 1, 1, 1, 0, 1, 1, 0, 1, 1, 0, 1, 1, 0, 0, 1, 1, 0, 1, 0, 1, 1, 0, 1, 0, 0, 0, 1, 0, 1, 1, 1, 0, 1, 1, 1, 0, 1, 1, 1, 0, 1, 0, 0, 0, 1, 1, 0, 1, 1, 1, 0, 1, 0, 1, 1, 0, 1, 0, 0, 1, 0, 1, 1, 1, 0, 0, 0, 1, 1, 1, 1, 1, 0, 0, 0, 1, 0, 0, 1, 1, 1, 1, 0, 1, 0, 1, 1, 0, 1, 0, 0, 1, 1, 0, 1, 1, 0, 1, 1, 1, 1, 0, 0, 0, 1, 0, 0, 0, 1, 0, 1, 1, 1, 1, 0, 0, 1, 0, 1, 1, 1, 1, 1, 0, 1, 0, 1, 1, 1]\n"
          ]
        }
      ]
    },
    {
      "cell_type": "markdown",
      "source": [
        "Se agrega la nueva columna llamada pass_test que contiene 0 (no aprueba) y 1(aprueba) "
      ],
      "metadata": {
        "id": "un5sdFT40REA"
      }
    },
    {
      "cell_type": "code",
      "source": [
        "students['pass_test'] = pass_test\n",
        "students.head()"
      ],
      "metadata": {
        "colab": {
          "base_uri": "https://localhost:8080/",
          "height": 250
        },
        "id": "oRJcDDgEkx8G",
        "outputId": "e4209baf-0259-43c8-c0be-982fe157205e"
      },
      "execution_count": 10,
      "outputs": [
        {
          "output_type": "execute_result",
          "data": {
            "text/plain": [
              "   gender race/ethnicity parental level of education         lunch  \\\n",
              "0  female        group B           bachelor's degree      standard   \n",
              "1  female        group C                some college      standard   \n",
              "2  female        group B             master's degree      standard   \n",
              "3    male        group A          associate's degree  free/reduced   \n",
              "4    male        group C                some college      standard   \n",
              "\n",
              "  test preparation course  math score  reading score  writing score  \\\n",
              "0                    none          72             72             74   \n",
              "1               completed          69             90             88   \n",
              "2                    none          90             95             93   \n",
              "3                    none          47             57             44   \n",
              "4                    none          76             78             75   \n",
              "\n",
              "   mean_score  pass_test  \n",
              "0        72.7          1  \n",
              "1        82.3          1  \n",
              "2        92.7          1  \n",
              "3        49.3          0  \n",
              "4        76.3          1  "
            ],
            "text/html": [
              "\n",
              "  <div id=\"df-4f02d923-88b6-4f99-ae8a-1bb436f89cd2\">\n",
              "    <div class=\"colab-df-container\">\n",
              "      <div>\n",
              "<style scoped>\n",
              "    .dataframe tbody tr th:only-of-type {\n",
              "        vertical-align: middle;\n",
              "    }\n",
              "\n",
              "    .dataframe tbody tr th {\n",
              "        vertical-align: top;\n",
              "    }\n",
              "\n",
              "    .dataframe thead th {\n",
              "        text-align: right;\n",
              "    }\n",
              "</style>\n",
              "<table border=\"1\" class=\"dataframe\">\n",
              "  <thead>\n",
              "    <tr style=\"text-align: right;\">\n",
              "      <th></th>\n",
              "      <th>gender</th>\n",
              "      <th>race/ethnicity</th>\n",
              "      <th>parental level of education</th>\n",
              "      <th>lunch</th>\n",
              "      <th>test preparation course</th>\n",
              "      <th>math score</th>\n",
              "      <th>reading score</th>\n",
              "      <th>writing score</th>\n",
              "      <th>mean_score</th>\n",
              "      <th>pass_test</th>\n",
              "    </tr>\n",
              "  </thead>\n",
              "  <tbody>\n",
              "    <tr>\n",
              "      <th>0</th>\n",
              "      <td>female</td>\n",
              "      <td>group B</td>\n",
              "      <td>bachelor's degree</td>\n",
              "      <td>standard</td>\n",
              "      <td>none</td>\n",
              "      <td>72</td>\n",
              "      <td>72</td>\n",
              "      <td>74</td>\n",
              "      <td>72.7</td>\n",
              "      <td>1</td>\n",
              "    </tr>\n",
              "    <tr>\n",
              "      <th>1</th>\n",
              "      <td>female</td>\n",
              "      <td>group C</td>\n",
              "      <td>some college</td>\n",
              "      <td>standard</td>\n",
              "      <td>completed</td>\n",
              "      <td>69</td>\n",
              "      <td>90</td>\n",
              "      <td>88</td>\n",
              "      <td>82.3</td>\n",
              "      <td>1</td>\n",
              "    </tr>\n",
              "    <tr>\n",
              "      <th>2</th>\n",
              "      <td>female</td>\n",
              "      <td>group B</td>\n",
              "      <td>master's degree</td>\n",
              "      <td>standard</td>\n",
              "      <td>none</td>\n",
              "      <td>90</td>\n",
              "      <td>95</td>\n",
              "      <td>93</td>\n",
              "      <td>92.7</td>\n",
              "      <td>1</td>\n",
              "    </tr>\n",
              "    <tr>\n",
              "      <th>3</th>\n",
              "      <td>male</td>\n",
              "      <td>group A</td>\n",
              "      <td>associate's degree</td>\n",
              "      <td>free/reduced</td>\n",
              "      <td>none</td>\n",
              "      <td>47</td>\n",
              "      <td>57</td>\n",
              "      <td>44</td>\n",
              "      <td>49.3</td>\n",
              "      <td>0</td>\n",
              "    </tr>\n",
              "    <tr>\n",
              "      <th>4</th>\n",
              "      <td>male</td>\n",
              "      <td>group C</td>\n",
              "      <td>some college</td>\n",
              "      <td>standard</td>\n",
              "      <td>none</td>\n",
              "      <td>76</td>\n",
              "      <td>78</td>\n",
              "      <td>75</td>\n",
              "      <td>76.3</td>\n",
              "      <td>1</td>\n",
              "    </tr>\n",
              "  </tbody>\n",
              "</table>\n",
              "</div>\n",
              "      <button class=\"colab-df-convert\" onclick=\"convertToInteractive('df-4f02d923-88b6-4f99-ae8a-1bb436f89cd2')\"\n",
              "              title=\"Convert this dataframe to an interactive table.\"\n",
              "              style=\"display:none;\">\n",
              "        \n",
              "  <svg xmlns=\"http://www.w3.org/2000/svg\" height=\"24px\"viewBox=\"0 0 24 24\"\n",
              "       width=\"24px\">\n",
              "    <path d=\"M0 0h24v24H0V0z\" fill=\"none\"/>\n",
              "    <path d=\"M18.56 5.44l.94 2.06.94-2.06 2.06-.94-2.06-.94-.94-2.06-.94 2.06-2.06.94zm-11 1L8.5 8.5l.94-2.06 2.06-.94-2.06-.94L8.5 2.5l-.94 2.06-2.06.94zm10 10l.94 2.06.94-2.06 2.06-.94-2.06-.94-.94-2.06-.94 2.06-2.06.94z\"/><path d=\"M17.41 7.96l-1.37-1.37c-.4-.4-.92-.59-1.43-.59-.52 0-1.04.2-1.43.59L10.3 9.45l-7.72 7.72c-.78.78-.78 2.05 0 2.83L4 21.41c.39.39.9.59 1.41.59.51 0 1.02-.2 1.41-.59l7.78-7.78 2.81-2.81c.8-.78.8-2.07 0-2.86zM5.41 20L4 18.59l7.72-7.72 1.47 1.35L5.41 20z\"/>\n",
              "  </svg>\n",
              "      </button>\n",
              "      \n",
              "  <style>\n",
              "    .colab-df-container {\n",
              "      display:flex;\n",
              "      flex-wrap:wrap;\n",
              "      gap: 12px;\n",
              "    }\n",
              "\n",
              "    .colab-df-convert {\n",
              "      background-color: #E8F0FE;\n",
              "      border: none;\n",
              "      border-radius: 50%;\n",
              "      cursor: pointer;\n",
              "      display: none;\n",
              "      fill: #1967D2;\n",
              "      height: 32px;\n",
              "      padding: 0 0 0 0;\n",
              "      width: 32px;\n",
              "    }\n",
              "\n",
              "    .colab-df-convert:hover {\n",
              "      background-color: #E2EBFA;\n",
              "      box-shadow: 0px 1px 2px rgba(60, 64, 67, 0.3), 0px 1px 3px 1px rgba(60, 64, 67, 0.15);\n",
              "      fill: #174EA6;\n",
              "    }\n",
              "\n",
              "    [theme=dark] .colab-df-convert {\n",
              "      background-color: #3B4455;\n",
              "      fill: #D2E3FC;\n",
              "    }\n",
              "\n",
              "    [theme=dark] .colab-df-convert:hover {\n",
              "      background-color: #434B5C;\n",
              "      box-shadow: 0px 1px 3px 1px rgba(0, 0, 0, 0.15);\n",
              "      filter: drop-shadow(0px 1px 2px rgba(0, 0, 0, 0.3));\n",
              "      fill: #FFFFFF;\n",
              "    }\n",
              "  </style>\n",
              "\n",
              "      <script>\n",
              "        const buttonEl =\n",
              "          document.querySelector('#df-4f02d923-88b6-4f99-ae8a-1bb436f89cd2 button.colab-df-convert');\n",
              "        buttonEl.style.display =\n",
              "          google.colab.kernel.accessAllowed ? 'block' : 'none';\n",
              "\n",
              "        async function convertToInteractive(key) {\n",
              "          const element = document.querySelector('#df-4f02d923-88b6-4f99-ae8a-1bb436f89cd2');\n",
              "          const dataTable =\n",
              "            await google.colab.kernel.invokeFunction('convertToInteractive',\n",
              "                                                     [key], {});\n",
              "          if (!dataTable) return;\n",
              "\n",
              "          const docLinkHtml = 'Like what you see? Visit the ' +\n",
              "            '<a target=\"_blank\" href=https://colab.research.google.com/notebooks/data_table.ipynb>data table notebook</a>'\n",
              "            + ' to learn more about interactive tables.';\n",
              "          element.innerHTML = '';\n",
              "          dataTable['output_type'] = 'display_data';\n",
              "          await google.colab.output.renderOutput(dataTable, element);\n",
              "          const docLink = document.createElement('div');\n",
              "          docLink.innerHTML = docLinkHtml;\n",
              "          element.appendChild(docLink);\n",
              "        }\n",
              "      </script>\n",
              "    </div>\n",
              "  </div>\n",
              "  "
            ]
          },
          "metadata": {},
          "execution_count": 10
        }
      ]
    },
    {
      "cell_type": "markdown",
      "source": [
        "Mediante el método info() se puede obtener una descripción rápida de los datos, como es el número total de filas, el tipo de cada característica y el número de valores no nulos."
      ],
      "metadata": {
        "id": "Ze30uK-LCddU"
      }
    },
    {
      "cell_type": "code",
      "source": [
        "students.info()"
      ],
      "metadata": {
        "colab": {
          "base_uri": "https://localhost:8080/"
        },
        "id": "x16brtTtDCgP",
        "outputId": "11c7991f-b6fb-4985-c57a-f6fc75a55634"
      },
      "execution_count": 11,
      "outputs": [
        {
          "output_type": "stream",
          "name": "stdout",
          "text": [
            "<class 'pandas.core.frame.DataFrame'>\n",
            "RangeIndex: 1000 entries, 0 to 999\n",
            "Data columns (total 10 columns):\n",
            " #   Column                       Non-Null Count  Dtype  \n",
            "---  ------                       --------------  -----  \n",
            " 0   gender                       1000 non-null   object \n",
            " 1   race/ethnicity               1000 non-null   object \n",
            " 2   parental level of education  1000 non-null   object \n",
            " 3   lunch                        1000 non-null   object \n",
            " 4   test preparation course      1000 non-null   object \n",
            " 5   math score                   1000 non-null   int64  \n",
            " 6   reading score                1000 non-null   int64  \n",
            " 7   writing score                1000 non-null   int64  \n",
            " 8   mean_score                   1000 non-null   float64\n",
            " 9   pass_test                    1000 non-null   int64  \n",
            "dtypes: float64(1), int64(4), object(5)\n",
            "memory usage: 78.2+ KB\n"
          ]
        }
      ]
    },
    {
      "cell_type": "markdown",
      "source": [
        "En el conjunto de datos se encuentra 1000 instancias. Se observa que no se encuentran datos nulos.\n",
        "\n",
        "Los 5 primeros atributos observamos que son datos categóricos y los 5 últimos atributos son datos númericos."
      ],
      "metadata": {
        "id": "s93d6k4_dCat"
      }
    },
    {
      "cell_type": "markdown",
      "source": [
        "Con método describe() se puede observar el resumen de los datos númericos."
      ],
      "metadata": {
        "id": "5YTNd6K5dzqc"
      }
    },
    {
      "cell_type": "code",
      "source": [
        "students.describe()"
      ],
      "metadata": {
        "colab": {
          "base_uri": "https://localhost:8080/",
          "height": 300
        },
        "id": "BiWDxcwxd69p",
        "outputId": "ced1c4d5-6757-4635-e6da-88b0f45908a4"
      },
      "execution_count": 12,
      "outputs": [
        {
          "output_type": "execute_result",
          "data": {
            "text/plain": [
              "       math score  reading score  writing score   mean_score    pass_test\n",
              "count  1000.00000    1000.000000    1000.000000  1000.000000  1000.000000\n",
              "mean     66.08900      69.169000      68.054000    67.769800     0.601000\n",
              "std      15.16308      14.600192      15.195657    14.257197     0.489938\n",
              "min       0.00000      17.000000      10.000000     9.000000     0.000000\n",
              "25%      57.00000      59.000000      57.750000    58.300000     0.000000\n",
              "50%      66.00000      70.000000      69.000000    68.300000     1.000000\n",
              "75%      77.00000      79.000000      79.000000    77.700000     1.000000\n",
              "max     100.00000     100.000000     100.000000   100.000000     1.000000"
            ],
            "text/html": [
              "\n",
              "  <div id=\"df-83b5f865-6a6e-4fee-ac9b-6647f5f45bce\">\n",
              "    <div class=\"colab-df-container\">\n",
              "      <div>\n",
              "<style scoped>\n",
              "    .dataframe tbody tr th:only-of-type {\n",
              "        vertical-align: middle;\n",
              "    }\n",
              "\n",
              "    .dataframe tbody tr th {\n",
              "        vertical-align: top;\n",
              "    }\n",
              "\n",
              "    .dataframe thead th {\n",
              "        text-align: right;\n",
              "    }\n",
              "</style>\n",
              "<table border=\"1\" class=\"dataframe\">\n",
              "  <thead>\n",
              "    <tr style=\"text-align: right;\">\n",
              "      <th></th>\n",
              "      <th>math score</th>\n",
              "      <th>reading score</th>\n",
              "      <th>writing score</th>\n",
              "      <th>mean_score</th>\n",
              "      <th>pass_test</th>\n",
              "    </tr>\n",
              "  </thead>\n",
              "  <tbody>\n",
              "    <tr>\n",
              "      <th>count</th>\n",
              "      <td>1000.00000</td>\n",
              "      <td>1000.000000</td>\n",
              "      <td>1000.000000</td>\n",
              "      <td>1000.000000</td>\n",
              "      <td>1000.000000</td>\n",
              "    </tr>\n",
              "    <tr>\n",
              "      <th>mean</th>\n",
              "      <td>66.08900</td>\n",
              "      <td>69.169000</td>\n",
              "      <td>68.054000</td>\n",
              "      <td>67.769800</td>\n",
              "      <td>0.601000</td>\n",
              "    </tr>\n",
              "    <tr>\n",
              "      <th>std</th>\n",
              "      <td>15.16308</td>\n",
              "      <td>14.600192</td>\n",
              "      <td>15.195657</td>\n",
              "      <td>14.257197</td>\n",
              "      <td>0.489938</td>\n",
              "    </tr>\n",
              "    <tr>\n",
              "      <th>min</th>\n",
              "      <td>0.00000</td>\n",
              "      <td>17.000000</td>\n",
              "      <td>10.000000</td>\n",
              "      <td>9.000000</td>\n",
              "      <td>0.000000</td>\n",
              "    </tr>\n",
              "    <tr>\n",
              "      <th>25%</th>\n",
              "      <td>57.00000</td>\n",
              "      <td>59.000000</td>\n",
              "      <td>57.750000</td>\n",
              "      <td>58.300000</td>\n",
              "      <td>0.000000</td>\n",
              "    </tr>\n",
              "    <tr>\n",
              "      <th>50%</th>\n",
              "      <td>66.00000</td>\n",
              "      <td>70.000000</td>\n",
              "      <td>69.000000</td>\n",
              "      <td>68.300000</td>\n",
              "      <td>1.000000</td>\n",
              "    </tr>\n",
              "    <tr>\n",
              "      <th>75%</th>\n",
              "      <td>77.00000</td>\n",
              "      <td>79.000000</td>\n",
              "      <td>79.000000</td>\n",
              "      <td>77.700000</td>\n",
              "      <td>1.000000</td>\n",
              "    </tr>\n",
              "    <tr>\n",
              "      <th>max</th>\n",
              "      <td>100.00000</td>\n",
              "      <td>100.000000</td>\n",
              "      <td>100.000000</td>\n",
              "      <td>100.000000</td>\n",
              "      <td>1.000000</td>\n",
              "    </tr>\n",
              "  </tbody>\n",
              "</table>\n",
              "</div>\n",
              "      <button class=\"colab-df-convert\" onclick=\"convertToInteractive('df-83b5f865-6a6e-4fee-ac9b-6647f5f45bce')\"\n",
              "              title=\"Convert this dataframe to an interactive table.\"\n",
              "              style=\"display:none;\">\n",
              "        \n",
              "  <svg xmlns=\"http://www.w3.org/2000/svg\" height=\"24px\"viewBox=\"0 0 24 24\"\n",
              "       width=\"24px\">\n",
              "    <path d=\"M0 0h24v24H0V0z\" fill=\"none\"/>\n",
              "    <path d=\"M18.56 5.44l.94 2.06.94-2.06 2.06-.94-2.06-.94-.94-2.06-.94 2.06-2.06.94zm-11 1L8.5 8.5l.94-2.06 2.06-.94-2.06-.94L8.5 2.5l-.94 2.06-2.06.94zm10 10l.94 2.06.94-2.06 2.06-.94-2.06-.94-.94-2.06-.94 2.06-2.06.94z\"/><path d=\"M17.41 7.96l-1.37-1.37c-.4-.4-.92-.59-1.43-.59-.52 0-1.04.2-1.43.59L10.3 9.45l-7.72 7.72c-.78.78-.78 2.05 0 2.83L4 21.41c.39.39.9.59 1.41.59.51 0 1.02-.2 1.41-.59l7.78-7.78 2.81-2.81c.8-.78.8-2.07 0-2.86zM5.41 20L4 18.59l7.72-7.72 1.47 1.35L5.41 20z\"/>\n",
              "  </svg>\n",
              "      </button>\n",
              "      \n",
              "  <style>\n",
              "    .colab-df-container {\n",
              "      display:flex;\n",
              "      flex-wrap:wrap;\n",
              "      gap: 12px;\n",
              "    }\n",
              "\n",
              "    .colab-df-convert {\n",
              "      background-color: #E8F0FE;\n",
              "      border: none;\n",
              "      border-radius: 50%;\n",
              "      cursor: pointer;\n",
              "      display: none;\n",
              "      fill: #1967D2;\n",
              "      height: 32px;\n",
              "      padding: 0 0 0 0;\n",
              "      width: 32px;\n",
              "    }\n",
              "\n",
              "    .colab-df-convert:hover {\n",
              "      background-color: #E2EBFA;\n",
              "      box-shadow: 0px 1px 2px rgba(60, 64, 67, 0.3), 0px 1px 3px 1px rgba(60, 64, 67, 0.15);\n",
              "      fill: #174EA6;\n",
              "    }\n",
              "\n",
              "    [theme=dark] .colab-df-convert {\n",
              "      background-color: #3B4455;\n",
              "      fill: #D2E3FC;\n",
              "    }\n",
              "\n",
              "    [theme=dark] .colab-df-convert:hover {\n",
              "      background-color: #434B5C;\n",
              "      box-shadow: 0px 1px 3px 1px rgba(0, 0, 0, 0.15);\n",
              "      filter: drop-shadow(0px 1px 2px rgba(0, 0, 0, 0.3));\n",
              "      fill: #FFFFFF;\n",
              "    }\n",
              "  </style>\n",
              "\n",
              "      <script>\n",
              "        const buttonEl =\n",
              "          document.querySelector('#df-83b5f865-6a6e-4fee-ac9b-6647f5f45bce button.colab-df-convert');\n",
              "        buttonEl.style.display =\n",
              "          google.colab.kernel.accessAllowed ? 'block' : 'none';\n",
              "\n",
              "        async function convertToInteractive(key) {\n",
              "          const element = document.querySelector('#df-83b5f865-6a6e-4fee-ac9b-6647f5f45bce');\n",
              "          const dataTable =\n",
              "            await google.colab.kernel.invokeFunction('convertToInteractive',\n",
              "                                                     [key], {});\n",
              "          if (!dataTable) return;\n",
              "\n",
              "          const docLinkHtml = 'Like what you see? Visit the ' +\n",
              "            '<a target=\"_blank\" href=https://colab.research.google.com/notebooks/data_table.ipynb>data table notebook</a>'\n",
              "            + ' to learn more about interactive tables.';\n",
              "          element.innerHTML = '';\n",
              "          dataTable['output_type'] = 'display_data';\n",
              "          await google.colab.output.renderOutput(dataTable, element);\n",
              "          const docLink = document.createElement('div');\n",
              "          docLink.innerHTML = docLinkHtml;\n",
              "          element.appendChild(docLink);\n",
              "        }\n",
              "      </script>\n",
              "    </div>\n",
              "  </div>\n",
              "  "
            ]
          },
          "metadata": {},
          "execution_count": 12
        }
      ]
    },
    {
      "cell_type": "markdown",
      "source": [
        "Con ayuda de los histogramas se viasualizan las instancias en el eje vertical y lo valores en el eje horizontal. Unicamente se observan los datos númericos."
      ],
      "metadata": {
        "id": "hzl3WFoGBy1Z"
      }
    },
    {
      "cell_type": "code",
      "source": [
        "# código extra - las siguientes 5 líneas definen los tamaños de fuente por defecto\n",
        "plt.rc('font', size=14)\n",
        "plt.rc('axes', labelsize=14, titlesize=14)\n",
        "plt.rc('legend', fontsize=14)\n",
        "plt.rc('xtick', labelsize=10)\n",
        "plt.rc('ytick', labelsize=10)\n",
        "\n",
        "students.hist(bins=50, figsize=(12, 8))\n",
        "save_fig(\"Histogramas\")  # extra code\n",
        "plt.show()"
      ],
      "metadata": {
        "colab": {
          "base_uri": "https://localhost:8080/",
          "height": 577
        },
        "id": "rQVzXpNahQ3e",
        "outputId": "ac7e7a5b-584a-40a7-a5a4-e5238db81089"
      },
      "execution_count": 13,
      "outputs": [
        {
          "output_type": "display_data",
          "data": {
            "text/plain": [
              "<Figure size 864x576 with 6 Axes>"
            ],
            "image/png": "[encoded data removed]"
          },
          "metadata": {
            "needs_background": "light"
          }
        }
      ]
    },
    {
      "cell_type": "markdown",
      "source": [
        "# Matriz de Correlación"
      ],
      "metadata": {
        "id": "ImZwLgqsRsVC"
      }
    },
    {
      "cell_type": "markdown",
      "source": [
        "La Matriz de Correlación muestra la relación existente entre las características númericas."
      ],
      "metadata": {
        "id": "iUKlc6x10nqB"
      }
    },
    {
      "cell_type": "code",
      "source": [
        "corr_matrix = students.corr()"
      ],
      "metadata": {
        "id": "dz4lRQ_2RwBa"
      },
      "execution_count": 14,
      "outputs": []
    },
    {
      "cell_type": "code",
      "source": [
        "corr_matrix[\"pass_test\"].sort_values(ascending=False)"
      ],
      "metadata": {
        "colab": {
          "base_uri": "https://localhost:8080/"
        },
        "id": "dKr_0ifYR6cZ",
        "outputId": "ddf22c09-d935-4e66-fe39-9c10eb06b7ae"
      },
      "execution_count": 15,
      "outputs": [
        {
          "output_type": "execute_result",
          "data": {
            "text/plain": [
              "pass_test        1.000000\n",
              "mean_score       0.799173\n",
              "writing score    0.780311\n",
              "reading score    0.779514\n",
              "math score       0.721887\n",
              "Name: pass_test, dtype: float64"
            ]
          },
          "metadata": {},
          "execution_count": 15
        }
      ]
    },
    {
      "cell_type": "markdown",
      "source": [
        "El siguiente mapa de calor muestra la matriz de correlación donde se observa que hay una relación directamente proporcional entre las variables y la variable a predecir(pass_test) ya que el valor se acerca a 1."
      ],
      "metadata": {
        "id": "cg2KYyoG0wxp"
      }
    },
    {
      "cell_type": "code",
      "source": [
        "fig, ax = plt.subplots(figsize=(12,8)) \n",
        "sns.heatmap(corr_matrix, annot=True, cmap='YlGnBu', ax=ax)\n",
        "save_fig(\"Matriz de Correlacion\")  # extra code"
      ],
      "metadata": {
        "colab": {
          "base_uri": "https://localhost:8080/",
          "height": 577
        },
        "id": "DSJcHy8_pW-F",
        "outputId": "363bee11-9b84-41a0-c389-8a5cc0502f66"
      },
      "execution_count": 16,
      "outputs": [
        {
          "output_type": "display_data",
          "data": {
            "text/plain": [
              "<Figure size 864x576 with 2 Axes>"
            ],
            "image/png": "[encoded data removed]"
          },
          "metadata": {
            "needs_background": "light"
          }
        }
      ]
    },
    {
      "cell_type": "markdown",
      "source": [
        "Para comprobar la correlación entre los atributos, se utiliza la función scatter_matrix(), que compara entre si cada uno de las datos numéricos."
      ],
      "metadata": {
        "id": "lGHzYUv415FE"
      }
    },
    {
      "cell_type": "code",
      "source": [
        "from pandas.plotting import scatter_matrix\n",
        "\n",
        "scatter_matrix(students, figsize=(12, 8))\n",
        "save_fig(\"Scatter Matrix\")  # extra code\n",
        "plt.show()"
      ],
      "metadata": {
        "colab": {
          "base_uri": "https://localhost:8080/",
          "height": 577
        },
        "id": "ZB4XRjq6XVR4",
        "outputId": "5a1fd23e-29f5-462e-a641-8aca94b23cc6"
      },
      "execution_count": 17,
      "outputs": [
        {
          "output_type": "display_data",
          "data": {
            "text/plain": [
              "<Figure size 864x576 with 25 Axes>"
            ],
            "image/png": "[encoded data removed]"
          },
          "metadata": {
            "needs_background": "light"
          }
        }
      ]
    },
    {
      "cell_type": "markdown",
      "source": [
        "# División de datos train y test"
      ],
      "metadata": {
        "id": "vZzeGUOq9OgI"
      }
    },
    {
      "cell_type": "markdown",
      "source": [
        "Se divide la variable a predecir del resto de los datos"
      ],
      "metadata": {
        "id": "UOJ7R6cVRE9G"
      }
    },
    {
      "cell_type": "code",
      "source": [
        "X = students.drop('pass_test', axis=1)\n",
        "y = students['pass_test']"
      ],
      "metadata": {
        "id": "tAIdxaW2MBQZ"
      },
      "execution_count": 18,
      "outputs": []
    },
    {
      "cell_type": "markdown",
      "source": [
        "Se verifica que tanto X como y quedan con el mismo número de instancias."
      ],
      "metadata": {
        "id": "WhQ1_BMCrx8-"
      }
    },
    {
      "cell_type": "code",
      "source": [
        "X.shape, y.shape"
      ],
      "metadata": {
        "colab": {
          "base_uri": "https://localhost:8080/"
        },
        "id": "7A5B89698ySv",
        "outputId": "eabb44ea-8e2d-48b2-ce19-211804e9ecb2"
      },
      "execution_count": 19,
      "outputs": [
        {
          "output_type": "execute_result",
          "data": {
            "text/plain": [
              "((1000, 9), (1000,))"
            ]
          },
          "metadata": {},
          "execution_count": 19
        }
      ]
    },
    {
      "cell_type": "markdown",
      "source": [
        "Mediante train_test_split se dividen los datos en entrenamiento (80%) y prueba(20%) con los datos estrateficados."
      ],
      "metadata": {
        "id": "LBWNW61SRNSa"
      }
    },
    {
      "cell_type": "code",
      "source": [
        "from sklearn.model_selection import train_test_split\n",
        "X_train, X_test, y_train, y_test = train_test_split(X, y, test_size=0.2, random_state=42 , stratify=y)"
      ],
      "metadata": {
        "id": "yqwwcsWvJ3gV"
      },
      "execution_count": 20,
      "outputs": []
    },
    {
      "cell_type": "markdown",
      "source": [
        "Como se observa en los dos histogramas los datos quedaron correctamente estratificados en la variable a predecir."
      ],
      "metadata": {
        "id": "wIoD9MXb4An9"
      }
    },
    {
      "cell_type": "code",
      "source": [
        "y_train.value_counts().plot(kind='bar', figsize=(10,8))\n",
        "save_fig(\"Histograma Y_train\")  # extra code\n",
        "plt.show()"
      ],
      "metadata": {
        "colab": {
          "base_uri": "https://localhost:8080/",
          "height": 577
        },
        "id": "vtsU5hm8tEZL",
        "outputId": "db359008-bad1-4ab0-8117-c54fd05346c5"
      },
      "execution_count": 21,
      "outputs": [
        {
          "output_type": "display_data",
          "data": {
            "text/plain": [
              "<Figure size 720x576 with 1 Axes>"
            ],
            "image/png": "[encoded data removed]"
          },
          "metadata": {
            "needs_background": "light"
          }
        }
      ]
    },
    {
      "cell_type": "code",
      "source": [
        "y_test.value_counts().plot(kind='bar', figsize=(10,8))\n",
        "save_fig(\"Histograma Y_test\")  # extra code\n",
        "plt.show()"
      ],
      "metadata": {
        "colab": {
          "base_uri": "https://localhost:8080/",
          "height": 577
        },
        "id": "fWSM2_D7tK_m",
        "outputId": "bec5c22d-8fc0-4414-bffd-dab75f180090"
      },
      "execution_count": 22,
      "outputs": [
        {
          "output_type": "display_data",
          "data": {
            "text/plain": [
              "<Figure size 720x576 with 1 Axes>"
            ],
            "image/png": "[encoded data removed]"
          },
          "metadata": {
            "needs_background": "light"
          }
        }
      ]
    },
    {
      "cell_type": "markdown",
      "source": [
        "# Preparación de los datos"
      ],
      "metadata": {
        "id": "6b3ieQnxZITp"
      }
    },
    {
      "cell_type": "markdown",
      "source": [
        "Se realiza una copia en caso de que se presente un error en el procesamiento de los datos y no altere el dataset original"
      ],
      "metadata": {
        "id": "sgCjOhcUEl9-"
      }
    },
    {
      "cell_type": "code",
      "source": [
        "X_data = X_train.copy()\n",
        "y_data = y_train.copy()"
      ],
      "metadata": {
        "id": "ay3g5TaAwQCX"
      },
      "execution_count": 23,
      "outputs": []
    },
    {
      "cell_type": "code",
      "source": [
        "# Tamaño de X_data y y_data\n",
        "X_data.shape, y_data.shape"
      ],
      "metadata": {
        "colab": {
          "base_uri": "https://localhost:8080/"
        },
        "id": "0p_r52sUw6uv",
        "outputId": "2d7d9b0b-6890-417f-d1e7-97dfa6c7532a"
      },
      "execution_count": 24,
      "outputs": [
        {
          "output_type": "execute_result",
          "data": {
            "text/plain": [
              "((800, 9), (800,))"
            ]
          },
          "metadata": {},
          "execution_count": 24
        }
      ]
    },
    {
      "cell_type": "markdown",
      "source": [
        "## Limpieza de datos"
      ],
      "metadata": {
        "id": "es4GlawxZLg7"
      }
    },
    {
      "cell_type": "markdown",
      "source": [
        "Como se observó con método info() el dataset no cuenta con datos nulos, se verifica la información mediante la función matrix de Missingo el cual permite visualizar donde se encuentran los datos nulos en caso de que exitan. \n",
        "\n",
        "Para este caso se comprueba que todos las características cuentan con 1000 instancias en total."
      ],
      "metadata": {
        "id": "tEJ9pItQ4Kvh"
      }
    },
    {
      "cell_type": "code",
      "source": [
        "# Importacion de la libreria missingno\n",
        "import missingno as msno\n",
        "msno.matrix(students, figsize=(12,8))\n",
        "save_fig(\"Visualizacion datos faltantes\")  # extra code"
      ],
      "metadata": {
        "colab": {
          "base_uri": "https://localhost:8080/",
          "height": 682
        },
        "id": "vO3thGUaZPtK",
        "outputId": "17f9bc14-916a-494e-fa29-7fe1a049eb72"
      },
      "execution_count": 25,
      "outputs": [
        {
          "output_type": "stream",
          "name": "stderr",
          "text": [
            "<ipython-input-3-f3badef8a755>:7: UserWarning: This figure includes Axes that are not compatible with tight_layout, so results might be incorrect.\n",
            "  plt.tight_layout()\n"
          ]
        },
        {
          "output_type": "display_data",
          "data": {
            "text/plain": [
              "<Figure size 864x576 with 2 Axes>"
            ],
            "image/png": "[encoded data removed]"
          },
          "metadata": {
            "needs_background": "light"
          }
        }
      ]
    },
    {
      "cell_type": "markdown",
      "source": [
        "## Tratamiento de datos categóricos y Escalado de datos númericos"
      ],
      "metadata": {
        "id": "Y8Hm9-3AaA2_"
      }
    },
    {
      "cell_type": "markdown",
      "source": [
        "Para convertir los datos categóricos en datos númericos se utiliza la libreria OneHotEncoder que asigna el valor de 1 a la categoría presente y cero a las demás. \n",
        "\n"
      ],
      "metadata": {
        "id": "fNWa60zW5T2O"
      }
    },
    {
      "cell_type": "code",
      "source": [
        "# Importación de la libre OneHotEncoder \n",
        "from sklearn.preprocessing import OneHotEncoder"
      ],
      "metadata": {
        "id": "eHz6wzsdaHS5"
      },
      "execution_count": 26,
      "outputs": []
    },
    {
      "cell_type": "code",
      "source": [
        "# Lista de las colomnas con datos categóricos\n",
        "X_data_categoricos = ['gender', 'race/ethnicity','parental level of education','lunch','test preparation course']\n",
        "X_data_categoricos"
      ],
      "metadata": {
        "colab": {
          "base_uri": "https://localhost:8080/"
        },
        "id": "C6q_ODs-ah92",
        "outputId": "e394f963-858b-45b4-da45-549eef75973b"
      },
      "execution_count": 27,
      "outputs": [
        {
          "output_type": "execute_result",
          "data": {
            "text/plain": [
              "['gender',\n",
              " 'race/ethnicity',\n",
              " 'parental level of education',\n",
              " 'lunch',\n",
              " 'test preparation course']"
            ]
          },
          "metadata": {},
          "execution_count": 27
        }
      ]
    },
    {
      "cell_type": "markdown",
      "source": [
        "Para normalizar los datos númericos se utiliza la herramienta StandardScaler el cual obtiene el valor medio y lo divide por la desviación estandar."
      ],
      "metadata": {
        "id": "0eHQQerfBQg3"
      }
    },
    {
      "cell_type": "code",
      "source": [
        "# Importación de la libre StandardScaler\n",
        "from sklearn.preprocessing import StandardScaler"
      ],
      "metadata": {
        "id": "6pjLwTX4lBDI"
      },
      "execution_count": 28,
      "outputs": []
    },
    {
      "cell_type": "code",
      "source": [
        "# Lista de las columnas con datos númericos\n",
        "X_data_num = ['math score','reading score','writing score'] \n",
        "X_data_num"
      ],
      "metadata": {
        "colab": {
          "base_uri": "https://localhost:8080/"
        },
        "id": "GFKD0IRBgh_h",
        "outputId": "58e3de5b-9149-4fe1-c3c7-301476be99d8"
      },
      "execution_count": 29,
      "outputs": [
        {
          "output_type": "execute_result",
          "data": {
            "text/plain": [
              "['math score', 'reading score', 'writing score']"
            ]
          },
          "metadata": {},
          "execution_count": 29
        }
      ]
    },
    {
      "cell_type": "markdown",
      "source": [
        "### Pipeline"
      ],
      "metadata": {
        "id": "ADfYohlllg_8"
      }
    },
    {
      "cell_type": "markdown",
      "source": [
        "Los Pipeline permiten realizar el proceso de limpieza, normalización y transformación de datos categóricos de una forma más rapida y disminuyendo las lineas de ejecución"
      ],
      "metadata": {
        "id": "bUqexbEZ6hS9"
      }
    },
    {
      "cell_type": "code",
      "source": [
        "# Importación de la libreria Pipeline\n",
        "from sklearn.pipeline import Pipeline"
      ],
      "metadata": {
        "id": "B3Mu4QSpmXmy"
      },
      "execution_count": 30,
      "outputs": []
    },
    {
      "cell_type": "markdown",
      "source": [
        "#### Pipeline datos númericos"
      ],
      "metadata": {
        "id": "OZLbSPPNlkXg"
      }
    },
    {
      "cell_type": "markdown",
      "source": [
        "Se crea un pipeline para los datos númericos que permite normalizar los datos con StandarScaler"
      ],
      "metadata": {
        "id": "YyqjmP9P61xM"
      }
    },
    {
      "cell_type": "code",
      "source": [
        "# Creacion pipeline númerico\n",
        "num_pipeline = Pipeline([(\"standardize\", StandardScaler())])"
      ],
      "metadata": {
        "id": "krbNxQyIlVoB"
      },
      "execution_count": 31,
      "outputs": []
    },
    {
      "cell_type": "markdown",
      "source": [
        "#### Pipeline datos categóricos"
      ],
      "metadata": {
        "id": "jktahH_EmRfb"
      }
    },
    {
      "cell_type": "markdown",
      "source": [
        "Se crea un pipeline para los datos categóricos que permite la transformación de categóricos a númericos mediante OneHotEncoder."
      ],
      "metadata": {
        "id": "xLXCJCas6-S0"
      }
    },
    {
      "cell_type": "code",
      "source": [
        "# Creacion pipeline categórico\n",
        "cat_pipeline = Pipeline([(\"categoricos\", OneHotEncoder())])"
      ],
      "metadata": {
        "id": "1aWcrQg3mUnq"
      },
      "execution_count": 32,
      "outputs": []
    },
    {
      "cell_type": "markdown",
      "source": [
        "### ColumnTransformer\n",
        "\n",
        "Con ayuda del ColumnTransformer permite aplicar los pipeline especificando las columnas del dataset. "
      ],
      "metadata": {
        "id": "mJCnra_2FnQd"
      }
    },
    {
      "cell_type": "code",
      "source": [
        "# Importación de la libreria ColumnTransformer\n",
        "from sklearn.compose import ColumnTransformer"
      ],
      "metadata": {
        "id": "pRqq4PPjzFsP"
      },
      "execution_count": 33,
      "outputs": []
    },
    {
      "cell_type": "code",
      "source": [
        "# Se instancia la clase ColumnTransformer con los pipeline para datos categóricos y númericos\n",
        "transformer = ColumnTransformer([('Numerico',num_pipeline,X_data_num),('Categorico', cat_pipeline, X_data_categoricos)])"
      ],
      "metadata": {
        "id": "986RJdenzG-Z"
      },
      "execution_count": 34,
      "outputs": []
    },
    {
      "cell_type": "code",
      "source": [
        "# Con fit_transform los datos quedan transformados y escalados\n",
        "X_tf = transformer.fit_transform(X_data)  "
      ],
      "metadata": {
        "id": "ZN6tInPs0zc3"
      },
      "execution_count": 35,
      "outputs": []
    },
    {
      "cell_type": "code",
      "source": [
        "X_tf"
      ],
      "metadata": {
        "colab": {
          "base_uri": "https://localhost:8080/"
        },
        "id": "C3MmqphjMiww",
        "outputId": "8b7e169d-6631-44e5-b3b4-fd6bd82ad375"
      },
      "execution_count": 36,
      "outputs": [
        {
          "output_type": "execute_result",
          "data": {
            "text/plain": [
              "array([[-1.13569524, -0.77559568, -0.8676967 , ...,  0.        ,\n",
              "         0.        ,  1.        ],\n",
              "       [-0.93824026,  0.46246859,  0.12094367, ...,  0.        ,\n",
              "         0.        ,  1.        ],\n",
              "       [ 0.70721793,  1.28784478,  1.24140276, ...,  1.        ,\n",
              "         0.        ,  1.        ],\n",
              "       ...,\n",
              "       [-0.41169364, -0.36290759,  0.3845811 , ...,  1.        ,\n",
              "         1.        ,  0.        ],\n",
              "       [-0.14842033, -0.91315838, -1.06542477, ...,  0.        ,\n",
              "         0.        ,  1.        ],\n",
              "       [ 1.76031117,  1.01271938,  1.43913083, ...,  1.        ,\n",
              "         1.        ,  0.        ]])"
            ]
          },
          "metadata": {},
          "execution_count": 36
        }
      ]
    },
    {
      "cell_type": "code",
      "source": [
        "X_tf_test = transformer.transform(X_test)\n",
        "X_tf_test"
      ],
      "metadata": {
        "colab": {
          "base_uri": "https://localhost:8080/"
        },
        "id": "-996Bd-Mz--0",
        "outputId": "ce21d0fe-93ff-4feb-8929-9382b93f9e16"
      },
      "execution_count": 37,
      "outputs": [
        {
          "output_type": "execute_result",
          "data": {
            "text/plain": [
              "array([[ 0.04903465,  0.1873432 ,  0.3845811 , ...,  1.        ,\n",
              "         0.        ,  1.        ],\n",
              "       [-1.2673319 , -0.50047029, -0.14269376, ...,  0.        ,\n",
              "         1.        ,  0.        ],\n",
              "       [ 0.24648964, -0.43168894, -0.66996862, ...,  0.        ,\n",
              "         0.        ,  1.        ],\n",
              "       ...,\n",
              "       [-0.082602  ,  0.25612455, -0.01087504, ...,  0.        ,\n",
              "         1.        ,  0.        ],\n",
              "       [-0.28005698, -0.91315838, -0.99951541, ...,  1.        ,\n",
              "         1.        ,  0.        ],\n",
              "       [ 0.31230796,  0.53124994,  0.58230918, ...,  1.        ,\n",
              "         1.        ,  0.        ]])"
            ]
          },
          "metadata": {},
          "execution_count": 37
        }
      ]
    },
    {
      "cell_type": "markdown",
      "source": [
        "# Entrenamiento del modelo"
      ],
      "metadata": {
        "id": "Tk0jPyR9BQby"
      }
    },
    {
      "cell_type": "markdown",
      "source": [
        "El modelo se entrenará con Support Vector Machine (SVM) con kernel polinomial y kernel gaussiano, KNeighbors y Random Forest"
      ],
      "metadata": {
        "id": "qx7fC5lQvv4n"
      }
    },
    {
      "cell_type": "code",
      "source": [
        "# Importación de librerias SVC, KNeighbors, RandomForest\n",
        "from sklearn.svm import SVC\n",
        "from sklearn.neighbors import KNeighborsClassifier\n",
        "from sklearn.ensemble import RandomForestClassifier"
      ],
      "metadata": {
        "id": "k4dZvxN3BV01"
      },
      "execution_count": 38,
      "outputs": []
    },
    {
      "cell_type": "markdown",
      "source": [
        "## SVC kernel polinomial"
      ],
      "metadata": {
        "id": "mZ98u_Pz6_7N"
      }
    },
    {
      "cell_type": "code",
      "source": [
        "poly = SVC(kernel='poly', degree = 2)\n",
        "poly.fit(X_tf, y_data)"
      ],
      "metadata": {
        "colab": {
          "base_uri": "https://localhost:8080/",
          "height": 75
        },
        "id": "tJJLd0XDvAIH",
        "outputId": "6f11aaec-05b9-4f2c-f96f-c1a795b1113a"
      },
      "execution_count": 39,
      "outputs": [
        {
          "output_type": "execute_result",
          "data": {
            "text/plain": [
              "SVC(degree=2, kernel='poly')"
            ],
            "text/html": [
              "<style>#sk-container-id-1 {color: black;background-color: white;}#sk-container-id-1 pre{padding: 0;}#sk-container-id-1 div.sk-toggleable {background-color: white;}#sk-container-id-1 label.sk-toggleable__label {cursor: pointer;display: block;width: 100%;margin-bottom: 0;padding: 0.3em;box-sizing: border-box;text-align: center;}#sk-container-id-1 label.sk-toggleable__label-arrow:before {content: \"▸\";float: left;margin-right: 0.25em;color: #696969;}#sk-container-id-1 label.sk-toggleable__label-arrow:hover:before {color: black;}#sk-container-id-1 div.sk-estimator:hover label.sk-toggleable__label-arrow:before {color: black;}#sk-container-id-1 div.sk-toggleable__content {max-height: 0;max-width: 0;overflow: hidden;text-align: left;background-color: #f0f8ff;}#sk-container-id-1 div.sk-toggleable__content pre {margin: 0.2em;color: black;border-radius: 0.25em;background-color: #f0f8ff;}#sk-container-id-1 input.sk-toggleable__control:checked~div.sk-toggleable__content {max-height: 200px;max-width: 100%;overflow: auto;}#sk-container-id-1 input.sk-toggleable__control:checked~label.sk-toggleable__label-arrow:before {content: \"▾\";}#sk-container-id-1 div.sk-estimator input.sk-toggleable__control:checked~label.sk-toggleable__label {background-color: #d4ebff;}#sk-container-id-1 div.sk-label input.sk-toggleable__control:checked~label.sk-toggleable__label {background-color: #d4ebff;}#sk-container-id-1 input.sk-hidden--visually {border: 0;clip: rect(1px 1px 1px 1px);clip: rect(1px, 1px, 1px, 1px);height: 1px;margin: -1px;overflow: hidden;padding: 0;position: absolute;width: 1px;}#sk-container-id-1 div.sk-estimator {font-family: monospace;background-color: #f0f8ff;border: 1px dotted black;border-radius: 0.25em;box-sizing: border-box;margin-bottom: 0.5em;}#sk-container-id-1 div.sk-estimator:hover {background-color: #d4ebff;}#sk-container-id-1 div.sk-parallel-item::after {content: \"\";width: 100%;border-bottom: 1px solid gray;flex-grow: 1;}#sk-container-id-1 div.sk-label:hover label.sk-toggleable__label {background-color: #d4ebff;}#sk-container-id-1 div.sk-serial::before {content: \"\";position: absolute;border-left: 1px solid gray;box-sizing: border-box;top: 0;bottom: 0;left: 50%;z-index: 0;}#sk-container-id-1 div.sk-serial {display: flex;flex-direction: column;align-items: center;background-color: white;padding-right: 0.2em;padding-left: 0.2em;position: relative;}#sk-container-id-1 div.sk-item {position: relative;z-index: 1;}#sk-container-id-1 div.sk-parallel {display: flex;align-items: stretch;justify-content: center;background-color: white;position: relative;}#sk-container-id-1 div.sk-item::before, #sk-container-id-1 div.sk-parallel-item::before {content: \"\";position: absolute;border-left: 1px solid gray;box-sizing: border-box;top: 0;bottom: 0;left: 50%;z-index: -1;}#sk-container-id-1 div.sk-parallel-item {display: flex;flex-direction: column;z-index: 1;position: relative;background-color: white;}#sk-container-id-1 div.sk-parallel-item:first-child::after {align-self: flex-end;width: 50%;}#sk-container-id-1 div.sk-parallel-item:last-child::after {align-self: flex-start;width: 50%;}#sk-container-id-1 div.sk-parallel-item:only-child::after {width: 0;}#sk-container-id-1 div.sk-dashed-wrapped {border: 1px dashed gray;margin: 0 0.4em 0.5em 0.4em;box-sizing: border-box;padding-bottom: 0.4em;background-color: white;}#sk-container-id-1 div.sk-label label {font-family: monospace;font-weight: bold;display: inline-block;line-height: 1.2em;}#sk-container-id-1 div.sk-label-container {text-align: center;}#sk-container-id-1 div.sk-container {/* jupyter's `normalize.less` sets `[hidden] { display: none; }` but bootstrap.min.css set `[hidden] { display: none !important; }` so we also need the `!important` here to be able to override the default hidden behavior on the sphinx rendered scikit-learn.org. See: https://github.com/scikit-learn/scikit-learn/issues/21755 */display: inline-block !important;position: relative;}#sk-container-id-1 div.sk-text-repr-fallback {display: none;}</style><div id=\"sk-container-id-1\" class=\"sk-top-container\"><div class=\"sk-text-repr-fallback\"><pre>SVC(degree=2, kernel=&#x27;poly&#x27;)</pre><b>In a Jupyter environment, please rerun this cell to show the HTML representation or trust the notebook. <br />On GitHub, the HTML representation is unable to render, please try loading this page with nbviewer.org.</b></div><div class=\"sk-container\" hidden><div class=\"sk-item\"><div class=\"sk-estimator sk-toggleable\"><input class=\"sk-toggleable__control sk-hidden--visually\" id=\"sk-estimator-id-1\" type=\"checkbox\" checked><label for=\"sk-estimator-id-1\" class=\"sk-toggleable__label sk-toggleable__label-arrow\">SVC</label><div class=\"sk-toggleable__content\"><pre>SVC(degree=2, kernel=&#x27;poly&#x27;)</pre></div></div></div></div></div>"
            ]
          },
          "metadata": {},
          "execution_count": 39
        }
      ]
    },
    {
      "cell_type": "code",
      "source": [
        "poly.score(X_tf, y_data)"
      ],
      "metadata": {
        "colab": {
          "base_uri": "https://localhost:8080/"
        },
        "id": "iQby_HX6xVIL",
        "outputId": "c9a4d923-707c-4ea0-c4ab-5475a270a2a5"
      },
      "execution_count": 40,
      "outputs": [
        {
          "output_type": "execute_result",
          "data": {
            "text/plain": [
              "0.99"
            ]
          },
          "metadata": {},
          "execution_count": 40
        }
      ]
    },
    {
      "cell_type": "code",
      "source": [
        "poly.score(X_tf_test, y_test)"
      ],
      "metadata": {
        "colab": {
          "base_uri": "https://localhost:8080/"
        },
        "id": "H2SrKFfc0L3g",
        "outputId": "689ead03-5634-4799-cd4f-a31e05f9fe6f"
      },
      "execution_count": 41,
      "outputs": [
        {
          "output_type": "execute_result",
          "data": {
            "text/plain": [
              "0.97"
            ]
          },
          "metadata": {},
          "execution_count": 41
        }
      ]
    },
    {
      "cell_type": "markdown",
      "source": [
        "## SVC kernel gaussiano"
      ],
      "metadata": {
        "id": "K_pqIeWB7EyM"
      }
    },
    {
      "cell_type": "code",
      "source": [
        "rbf = SVC(kernel='rbf', gamma=0.05)\n",
        "rbf.fit(X_tf, y_data)"
      ],
      "metadata": {
        "colab": {
          "base_uri": "https://localhost:8080/",
          "height": 75
        },
        "id": "VOAaS2KhwTRB",
        "outputId": "50f04d97-92ce-4c95-9cee-f890c3b65019"
      },
      "execution_count": 42,
      "outputs": [
        {
          "output_type": "execute_result",
          "data": {
            "text/plain": [
              "SVC(gamma=0.05)"
            ],
            "text/html": [
              "<style>#sk-container-id-2 {color: black;background-color: white;}#sk-container-id-2 pre{padding: 0;}#sk-container-id-2 div.sk-toggleable {background-color: white;}#sk-container-id-2 label.sk-toggleable__label {cursor: pointer;display: block;width: 100%;margin-bottom: 0;padding: 0.3em;box-sizing: border-box;text-align: center;}#sk-container-id-2 label.sk-toggleable__label-arrow:before {content: \"▸\";float: left;margin-right: 0.25em;color: #696969;}#sk-container-id-2 label.sk-toggleable__label-arrow:hover:before {color: black;}#sk-container-id-2 div.sk-estimator:hover label.sk-toggleable__label-arrow:before {color: black;}#sk-container-id-2 div.sk-toggleable__content {max-height: 0;max-width: 0;overflow: hidden;text-align: left;background-color: #f0f8ff;}#sk-container-id-2 div.sk-toggleable__content pre {margin: 0.2em;color: black;border-radius: 0.25em;background-color: #f0f8ff;}#sk-container-id-2 input.sk-toggleable__control:checked~div.sk-toggleable__content {max-height: 200px;max-width: 100%;overflow: auto;}#sk-container-id-2 input.sk-toggleable__control:checked~label.sk-toggleable__label-arrow:before {content: \"▾\";}#sk-container-id-2 div.sk-estimator input.sk-toggleable__control:checked~label.sk-toggleable__label {background-color: #d4ebff;}#sk-container-id-2 div.sk-label input.sk-toggleable__control:checked~label.sk-toggleable__label {background-color: #d4ebff;}#sk-container-id-2 input.sk-hidden--visually {border: 0;clip: rect(1px 1px 1px 1px);clip: rect(1px, 1px, 1px, 1px);height: 1px;margin: -1px;overflow: hidden;padding: 0;position: absolute;width: 1px;}#sk-container-id-2 div.sk-estimator {font-family: monospace;background-color: #f0f8ff;border: 1px dotted black;border-radius: 0.25em;box-sizing: border-box;margin-bottom: 0.5em;}#sk-container-id-2 div.sk-estimator:hover {background-color: #d4ebff;}#sk-container-id-2 div.sk-parallel-item::after {content: \"\";width: 100%;border-bottom: 1px solid gray;flex-grow: 1;}#sk-container-id-2 div.sk-label:hover label.sk-toggleable__label {background-color: #d4ebff;}#sk-container-id-2 div.sk-serial::before {content: \"\";position: absolute;border-left: 1px solid gray;box-sizing: border-box;top: 0;bottom: 0;left: 50%;z-index: 0;}#sk-container-id-2 div.sk-serial {display: flex;flex-direction: column;align-items: center;background-color: white;padding-right: 0.2em;padding-left: 0.2em;position: relative;}#sk-container-id-2 div.sk-item {position: relative;z-index: 1;}#sk-container-id-2 div.sk-parallel {display: flex;align-items: stretch;justify-content: center;background-color: white;position: relative;}#sk-container-id-2 div.sk-item::before, #sk-container-id-2 div.sk-parallel-item::before {content: \"\";position: absolute;border-left: 1px solid gray;box-sizing: border-box;top: 0;bottom: 0;left: 50%;z-index: -1;}#sk-container-id-2 div.sk-parallel-item {display: flex;flex-direction: column;z-index: 1;position: relative;background-color: white;}#sk-container-id-2 div.sk-parallel-item:first-child::after {align-self: flex-end;width: 50%;}#sk-container-id-2 div.sk-parallel-item:last-child::after {align-self: flex-start;width: 50%;}#sk-container-id-2 div.sk-parallel-item:only-child::after {width: 0;}#sk-container-id-2 div.sk-dashed-wrapped {border: 1px dashed gray;margin: 0 0.4em 0.5em 0.4em;box-sizing: border-box;padding-bottom: 0.4em;background-color: white;}#sk-container-id-2 div.sk-label label {font-family: monospace;font-weight: bold;display: inline-block;line-height: 1.2em;}#sk-container-id-2 div.sk-label-container {text-align: center;}#sk-container-id-2 div.sk-container {/* jupyter's `normalize.less` sets `[hidden] { display: none; }` but bootstrap.min.css set `[hidden] { display: none !important; }` so we also need the `!important` here to be able to override the default hidden behavior on the sphinx rendered scikit-learn.org. See: https://github.com/scikit-learn/scikit-learn/issues/21755 */display: inline-block !important;position: relative;}#sk-container-id-2 div.sk-text-repr-fallback {display: none;}</style><div id=\"sk-container-id-2\" class=\"sk-top-container\"><div class=\"sk-text-repr-fallback\"><pre>SVC(gamma=0.05)</pre><b>In a Jupyter environment, please rerun this cell to show the HTML representation or trust the notebook. <br />On GitHub, the HTML representation is unable to render, please try loading this page with nbviewer.org.</b></div><div class=\"sk-container\" hidden><div class=\"sk-item\"><div class=\"sk-estimator sk-toggleable\"><input class=\"sk-toggleable__control sk-hidden--visually\" id=\"sk-estimator-id-2\" type=\"checkbox\" checked><label for=\"sk-estimator-id-2\" class=\"sk-toggleable__label sk-toggleable__label-arrow\">SVC</label><div class=\"sk-toggleable__content\"><pre>SVC(gamma=0.05)</pre></div></div></div></div></div>"
            ]
          },
          "metadata": {},
          "execution_count": 42
        }
      ]
    },
    {
      "cell_type": "code",
      "source": [
        "rbf.score(X_tf, y_data)"
      ],
      "metadata": {
        "colab": {
          "base_uri": "https://localhost:8080/"
        },
        "id": "hvuC7oICxYvB",
        "outputId": "b9f6398c-24a9-4aa3-9e63-06193a5ad87e"
      },
      "execution_count": 43,
      "outputs": [
        {
          "output_type": "execute_result",
          "data": {
            "text/plain": [
              "0.99125"
            ]
          },
          "metadata": {},
          "execution_count": 43
        }
      ]
    },
    {
      "cell_type": "code",
      "source": [
        "rbf.score(X_tf_test, y_test)"
      ],
      "metadata": {
        "colab": {
          "base_uri": "https://localhost:8080/"
        },
        "id": "2960kqoz0ZWW",
        "outputId": "b46b8714-6c44-40b4-d34a-78b7e2105a0c"
      },
      "execution_count": 44,
      "outputs": [
        {
          "output_type": "execute_result",
          "data": {
            "text/plain": [
              "0.965"
            ]
          },
          "metadata": {},
          "execution_count": 44
        }
      ]
    },
    {
      "cell_type": "markdown",
      "source": [
        "## KNN"
      ],
      "metadata": {
        "id": "xhaKX81n7JBN"
      }
    },
    {
      "cell_type": "code",
      "source": [
        "knn = KNeighborsClassifier(n_neighbors=5)\n",
        "knn.fit(X_tf, y_data)"
      ],
      "metadata": {
        "colab": {
          "base_uri": "https://localhost:8080/",
          "height": 75
        },
        "id": "DduFX9dpxg_h",
        "outputId": "c3cbaba9-4a06-45a6-a1c4-20cc382d9553"
      },
      "execution_count": 45,
      "outputs": [
        {
          "output_type": "execute_result",
          "data": {
            "text/plain": [
              "KNeighborsClassifier()"
            ],
            "text/html": [
              "<style>#sk-container-id-3 {color: black;background-color: white;}#sk-container-id-3 pre{padding: 0;}#sk-container-id-3 div.sk-toggleable {background-color: white;}#sk-container-id-3 label.sk-toggleable__label {cursor: pointer;display: block;width: 100%;margin-bottom: 0;padding: 0.3em;box-sizing: border-box;text-align: center;}#sk-container-id-3 label.sk-toggleable__label-arrow:before {content: \"▸\";float: left;margin-right: 0.25em;color: #696969;}#sk-container-id-3 label.sk-toggleable__label-arrow:hover:before {color: black;}#sk-container-id-3 div.sk-estimator:hover label.sk-toggleable__label-arrow:before {color: black;}#sk-container-id-3 div.sk-toggleable__content {max-height: 0;max-width: 0;overflow: hidden;text-align: left;background-color: #f0f8ff;}#sk-container-id-3 div.sk-toggleable__content pre {margin: 0.2em;color: black;border-radius: 0.25em;background-color: #f0f8ff;}#sk-container-id-3 input.sk-toggleable__control:checked~div.sk-toggleable__content {max-height: 200px;max-width: 100%;overflow: auto;}#sk-container-id-3 input.sk-toggleable__control:checked~label.sk-toggleable__label-arrow:before {content: \"▾\";}#sk-container-id-3 div.sk-estimator input.sk-toggleable__control:checked~label.sk-toggleable__label {background-color: #d4ebff;}#sk-container-id-3 div.sk-label input.sk-toggleable__control:checked~label.sk-toggleable__label {background-color: #d4ebff;}#sk-container-id-3 input.sk-hidden--visually {border: 0;clip: rect(1px 1px 1px 1px);clip: rect(1px, 1px, 1px, 1px);height: 1px;margin: -1px;overflow: hidden;padding: 0;position: absolute;width: 1px;}#sk-container-id-3 div.sk-estimator {font-family: monospace;background-color: #f0f8ff;border: 1px dotted black;border-radius: 0.25em;box-sizing: border-box;margin-bottom: 0.5em;}#sk-container-id-3 div.sk-estimator:hover {background-color: #d4ebff;}#sk-container-id-3 div.sk-parallel-item::after {content: \"\";width: 100%;border-bottom: 1px solid gray;flex-grow: 1;}#sk-container-id-3 div.sk-label:hover label.sk-toggleable__label {background-color: #d4ebff;}#sk-container-id-3 div.sk-serial::before {content: \"\";position: absolute;border-left: 1px solid gray;box-sizing: border-box;top: 0;bottom: 0;left: 50%;z-index: 0;}#sk-container-id-3 div.sk-serial {display: flex;flex-direction: column;align-items: center;background-color: white;padding-right: 0.2em;padding-left: 0.2em;position: relative;}#sk-container-id-3 div.sk-item {position: relative;z-index: 1;}#sk-container-id-3 div.sk-parallel {display: flex;align-items: stretch;justify-content: center;background-color: white;position: relative;}#sk-container-id-3 div.sk-item::before, #sk-container-id-3 div.sk-parallel-item::before {content: \"\";position: absolute;border-left: 1px solid gray;box-sizing: border-box;top: 0;bottom: 0;left: 50%;z-index: -1;}#sk-container-id-3 div.sk-parallel-item {display: flex;flex-direction: column;z-index: 1;position: relative;background-color: white;}#sk-container-id-3 div.sk-parallel-item:first-child::after {align-self: flex-end;width: 50%;}#sk-container-id-3 div.sk-parallel-item:last-child::after {align-self: flex-start;width: 50%;}#sk-container-id-3 div.sk-parallel-item:only-child::after {width: 0;}#sk-container-id-3 div.sk-dashed-wrapped {border: 1px dashed gray;margin: 0 0.4em 0.5em 0.4em;box-sizing: border-box;padding-bottom: 0.4em;background-color: white;}#sk-container-id-3 div.sk-label label {font-family: monospace;font-weight: bold;display: inline-block;line-height: 1.2em;}#sk-container-id-3 div.sk-label-container {text-align: center;}#sk-container-id-3 div.sk-container {/* jupyter's `normalize.less` sets `[hidden] { display: none; }` but bootstrap.min.css set `[hidden] { display: none !important; }` so we also need the `!important` here to be able to override the default hidden behavior on the sphinx rendered scikit-learn.org. See: https://github.com/scikit-learn/scikit-learn/issues/21755 */display: inline-block !important;position: relative;}#sk-container-id-3 div.sk-text-repr-fallback {display: none;}</style><div id=\"sk-container-id-3\" class=\"sk-top-container\"><div class=\"sk-text-repr-fallback\"><pre>KNeighborsClassifier()</pre><b>In a Jupyter environment, please rerun this cell to show the HTML representation or trust the notebook. <br />On GitHub, the HTML representation is unable to render, please try loading this page with nbviewer.org.</b></div><div class=\"sk-container\" hidden><div class=\"sk-item\"><div class=\"sk-estimator sk-toggleable\"><input class=\"sk-toggleable__control sk-hidden--visually\" id=\"sk-estimator-id-3\" type=\"checkbox\" checked><label for=\"sk-estimator-id-3\" class=\"sk-toggleable__label sk-toggleable__label-arrow\">KNeighborsClassifier</label><div class=\"sk-toggleable__content\"><pre>KNeighborsClassifier()</pre></div></div></div></div></div>"
            ]
          },
          "metadata": {},
          "execution_count": 45
        }
      ]
    },
    {
      "cell_type": "code",
      "source": [
        "knn.score(X_tf, y_data)"
      ],
      "metadata": {
        "colab": {
          "base_uri": "https://localhost:8080/"
        },
        "id": "Zmdt8d3ixv7J",
        "outputId": "100f303b-6808-452a-c79d-cbd81d6665a0"
      },
      "execution_count": 46,
      "outputs": [
        {
          "output_type": "execute_result",
          "data": {
            "text/plain": [
              "0.96875"
            ]
          },
          "metadata": {},
          "execution_count": 46
        }
      ]
    },
    {
      "cell_type": "code",
      "source": [
        "knn.score(X_tf_test, y_test)"
      ],
      "metadata": {
        "colab": {
          "base_uri": "https://localhost:8080/"
        },
        "id": "aNH8ybS30kJw",
        "outputId": "4eb9c570-07d6-48b2-d98f-49f05c4cbc44"
      },
      "execution_count": 47,
      "outputs": [
        {
          "output_type": "execute_result",
          "data": {
            "text/plain": [
              "0.965"
            ]
          },
          "metadata": {},
          "execution_count": 47
        }
      ]
    },
    {
      "cell_type": "markdown",
      "source": [
        "## Random Forest"
      ],
      "metadata": {
        "id": "H4Y-ijrJ7KoC"
      }
    },
    {
      "cell_type": "code",
      "source": [
        "rf = RandomForestClassifier(max_depth=5, random_state=123)\n",
        "rf.fit(X_tf, y_data)"
      ],
      "metadata": {
        "colab": {
          "base_uri": "https://localhost:8080/",
          "height": 75
        },
        "id": "qJgCfzPby28I",
        "outputId": "86b6d3dd-14e2-48ba-804a-dd7daf38b441"
      },
      "execution_count": 48,
      "outputs": [
        {
          "output_type": "execute_result",
          "data": {
            "text/plain": [
              "RandomForestClassifier(max_depth=5, random_state=123)"
            ],
            "text/html": [
              "<style>#sk-container-id-4 {color: black;background-color: white;}#sk-container-id-4 pre{padding: 0;}#sk-container-id-4 div.sk-toggleable {background-color: white;}#sk-container-id-4 label.sk-toggleable__label {cursor: pointer;display: block;width: 100%;margin-bottom: 0;padding: 0.3em;box-sizing: border-box;text-align: center;}#sk-container-id-4 label.sk-toggleable__label-arrow:before {content: \"▸\";float: left;margin-right: 0.25em;color: #696969;}#sk-container-id-4 label.sk-toggleable__label-arrow:hover:before {color: black;}#sk-container-id-4 div.sk-estimator:hover label.sk-toggleable__label-arrow:before {color: black;}#sk-container-id-4 div.sk-toggleable__content {max-height: 0;max-width: 0;overflow: hidden;text-align: left;background-color: #f0f8ff;}#sk-container-id-4 div.sk-toggleable__content pre {margin: 0.2em;color: black;border-radius: 0.25em;background-color: #f0f8ff;}#sk-container-id-4 input.sk-toggleable__control:checked~div.sk-toggleable__content {max-height: 200px;max-width: 100%;overflow: auto;}#sk-container-id-4 input.sk-toggleable__control:checked~label.sk-toggleable__label-arrow:before {content: \"▾\";}#sk-container-id-4 div.sk-estimator input.sk-toggleable__control:checked~label.sk-toggleable__label {background-color: #d4ebff;}#sk-container-id-4 div.sk-label input.sk-toggleable__control:checked~label.sk-toggleable__label {background-color: #d4ebff;}#sk-container-id-4 input.sk-hidden--visually {border: 0;clip: rect(1px 1px 1px 1px);clip: rect(1px, 1px, 1px, 1px);height: 1px;margin: -1px;overflow: hidden;padding: 0;position: absolute;width: 1px;}#sk-container-id-4 div.sk-estimator {font-family: monospace;background-color: #f0f8ff;border: 1px dotted black;border-radius: 0.25em;box-sizing: border-box;margin-bottom: 0.5em;}#sk-container-id-4 div.sk-estimator:hover {background-color: #d4ebff;}#sk-container-id-4 div.sk-parallel-item::after {content: \"\";width: 100%;border-bottom: 1px solid gray;flex-grow: 1;}#sk-container-id-4 div.sk-label:hover label.sk-toggleable__label {background-color: #d4ebff;}#sk-container-id-4 div.sk-serial::before {content: \"\";position: absolute;border-left: 1px solid gray;box-sizing: border-box;top: 0;bottom: 0;left: 50%;z-index: 0;}#sk-container-id-4 div.sk-serial {display: flex;flex-direction: column;align-items: center;background-color: white;padding-right: 0.2em;padding-left: 0.2em;position: relative;}#sk-container-id-4 div.sk-item {position: relative;z-index: 1;}#sk-container-id-4 div.sk-parallel {display: flex;align-items: stretch;justify-content: center;background-color: white;position: relative;}#sk-container-id-4 div.sk-item::before, #sk-container-id-4 div.sk-parallel-item::before {content: \"\";position: absolute;border-left: 1px solid gray;box-sizing: border-box;top: 0;bottom: 0;left: 50%;z-index: -1;}#sk-container-id-4 div.sk-parallel-item {display: flex;flex-direction: column;z-index: 1;position: relative;background-color: white;}#sk-container-id-4 div.sk-parallel-item:first-child::after {align-self: flex-end;width: 50%;}#sk-container-id-4 div.sk-parallel-item:last-child::after {align-self: flex-start;width: 50%;}#sk-container-id-4 div.sk-parallel-item:only-child::after {width: 0;}#sk-container-id-4 div.sk-dashed-wrapped {border: 1px dashed gray;margin: 0 0.4em 0.5em 0.4em;box-sizing: border-box;padding-bottom: 0.4em;background-color: white;}#sk-container-id-4 div.sk-label label {font-family: monospace;font-weight: bold;display: inline-block;line-height: 1.2em;}#sk-container-id-4 div.sk-label-container {text-align: center;}#sk-container-id-4 div.sk-container {/* jupyter's `normalize.less` sets `[hidden] { display: none; }` but bootstrap.min.css set `[hidden] { display: none !important; }` so we also need the `!important` here to be able to override the default hidden behavior on the sphinx rendered scikit-learn.org. See: https://github.com/scikit-learn/scikit-learn/issues/21755 */display: inline-block !important;position: relative;}#sk-container-id-4 div.sk-text-repr-fallback {display: none;}</style><div id=\"sk-container-id-4\" class=\"sk-top-container\"><div class=\"sk-text-repr-fallback\"><pre>RandomForestClassifier(max_depth=5, random_state=123)</pre><b>In a Jupyter environment, please rerun this cell to show the HTML representation or trust the notebook. <br />On GitHub, the HTML representation is unable to render, please try loading this page with nbviewer.org.</b></div><div class=\"sk-container\" hidden><div class=\"sk-item\"><div class=\"sk-estimator sk-toggleable\"><input class=\"sk-toggleable__control sk-hidden--visually\" id=\"sk-estimator-id-4\" type=\"checkbox\" checked><label for=\"sk-estimator-id-4\" class=\"sk-toggleable__label sk-toggleable__label-arrow\">RandomForestClassifier</label><div class=\"sk-toggleable__content\"><pre>RandomForestClassifier(max_depth=5, random_state=123)</pre></div></div></div></div></div>"
            ]
          },
          "metadata": {},
          "execution_count": 48
        }
      ]
    },
    {
      "cell_type": "code",
      "source": [
        "rf.score(X_tf, y_data)"
      ],
      "metadata": {
        "colab": {
          "base_uri": "https://localhost:8080/"
        },
        "id": "G-9FaegyzaZ8",
        "outputId": "c0527655-849d-4a8f-e370-8f0158920727"
      },
      "execution_count": 49,
      "outputs": [
        {
          "output_type": "execute_result",
          "data": {
            "text/plain": [
              "0.99625"
            ]
          },
          "metadata": {},
          "execution_count": 49
        }
      ]
    },
    {
      "cell_type": "code",
      "source": [
        "rf.score(X_tf_test, y_test)"
      ],
      "metadata": {
        "colab": {
          "base_uri": "https://localhost:8080/"
        },
        "id": "wv3_ITVX0vMw",
        "outputId": "f9405191-2625-40e3-f1ba-4aee9361d120"
      },
      "execution_count": 50,
      "outputs": [
        {
          "output_type": "execute_result",
          "data": {
            "text/plain": [
              "0.975"
            ]
          },
          "metadata": {},
          "execution_count": 50
        }
      ]
    },
    {
      "cell_type": "markdown",
      "source": [
        "## GridSearchCV"
      ],
      "metadata": {
        "id": "7xYdoDvgS4lM"
      }
    },
    {
      "cell_type": "markdown",
      "source": [
        "GridSearch permite buscar los hiperparametros que muestren mejores resultados para el modelo.\n",
        "\n",
        "Para este caso se seleccionó el algoritmo de Random Forest"
      ],
      "metadata": {
        "id": "9fpBiT2DxIXd"
      }
    },
    {
      "cell_type": "code",
      "source": [
        "# Importación de la libreria GridSearchCV\n",
        "from sklearn.model_selection import GridSearchCV"
      ],
      "metadata": {
        "id": "P3lhdcZ2S7hD"
      },
      "execution_count": 51,
      "outputs": []
    },
    {
      "cell_type": "markdown",
      "source": [
        "### Grid Random Forest"
      ],
      "metadata": {
        "id": "y6MfGKRlbQXy"
      }
    },
    {
      "cell_type": "code",
      "source": [
        "n_estimator = [i**2 for i in range(2,33,2)]"
      ],
      "metadata": {
        "id": "Q78eqzSObTOU"
      },
      "execution_count": 52,
      "outputs": []
    },
    {
      "cell_type": "code",
      "source": [
        "max_depth = [i*2 for i in range(1,16)]\n",
        "max_depth = max_depth + [None]"
      ],
      "metadata": {
        "id": "VDtt_wHpcfqO"
      },
      "execution_count": 53,
      "outputs": []
    },
    {
      "cell_type": "code",
      "source": [
        "# Diccionario con la varición de hiperparametros\n",
        "params_grid_rf = {'n_estimators':n_estimator, 'max_depth': max_depth}\n",
        "\n",
        "print('Hiperparametro n_estimators: {}'.format(params_grid_rf['n_estimators']))\n",
        "print('Hiperparametro max_depth: {}'.format(params_grid_rf['max_depth']))"
      ],
      "metadata": {
        "colab": {
          "base_uri": "https://localhost:8080/"
        },
        "id": "ZL-ooppPde4q",
        "outputId": "18bbd7c8-901b-421b-d8af-714f3c133514"
      },
      "execution_count": 54,
      "outputs": [
        {
          "output_type": "stream",
          "name": "stdout",
          "text": [
            "Hiperparametro n_estimators: [4, 16, 36, 64, 100, 144, 196, 256, 324, 400, 484, 576, 676, 784, 900, 1024]\n",
            "Hiperparametro max_depth: [2, 4, 6, 8, 10, 12, 14, 16, 18, 20, 22, 24, 26, 28, 30, None]\n"
          ]
        }
      ]
    },
    {
      "cell_type": "code",
      "source": [
        "# Definicion de la grilla con Random Forest\n",
        "grid_rf = GridSearchCV(RandomForestClassifier(random_state=123),param_grid=params_grid_rf)"
      ],
      "metadata": {
        "id": "e-jw6vJOd2Pt"
      },
      "execution_count": 55,
      "outputs": []
    },
    {
      "cell_type": "code",
      "source": [
        "# Entrenamiento del modelo llamando la función `fit()` sobre el conjunto de datos transformados\n",
        "grid_rf.fit(X_tf, y_data)"
      ],
      "metadata": {
        "colab": {
          "base_uri": "https://localhost:8080/",
          "height": 118
        },
        "outputId": "7a75d4b0-59a8-4494-babc-506664659361",
        "id": "KoV_YNEHd2Pv"
      },
      "execution_count": 56,
      "outputs": [
        {
          "output_type": "execute_result",
          "data": {
            "text/plain": [
              "GridSearchCV(estimator=RandomForestClassifier(random_state=123),\n",
              "             param_grid={'max_depth': [2, 4, 6, 8, 10, 12, 14, 16, 18, 20, 22,\n",
              "                                       24, 26, 28, 30, None],\n",
              "                         'n_estimators': [4, 16, 36, 64, 100, 144, 196, 256,\n",
              "                                          324, 400, 484, 576, 676, 784, 900,\n",
              "                                          1024]})"
            ],
            "text/html": [
              "<style>#sk-container-id-5 {color: black;background-color: white;}#sk-container-id-5 pre{padding: 0;}#sk-container-id-5 div.sk-toggleable {background-color: white;}#sk-container-id-5 label.sk-toggleable__label {cursor: pointer;display: block;width: 100%;margin-bottom: 0;padding: 0.3em;box-sizing: border-box;text-align: center;}#sk-container-id-5 label.sk-toggleable__label-arrow:before {content: \"▸\";float: left;margin-right: 0.25em;color: #696969;}#sk-container-id-5 label.sk-toggleable__label-arrow:hover:before {color: black;}#sk-container-id-5 div.sk-estimator:hover label.sk-toggleable__label-arrow:before {color: black;}#sk-container-id-5 div.sk-toggleable__content {max-height: 0;max-width: 0;overflow: hidden;text-align: left;background-color: #f0f8ff;}#sk-container-id-5 div.sk-toggleable__content pre {margin: 0.2em;color: black;border-radius: 0.25em;background-color: #f0f8ff;}#sk-container-id-5 input.sk-toggleable__control:checked~div.sk-toggleable__content {max-height: 200px;max-width: 100%;overflow: auto;}#sk-container-id-5 input.sk-toggleable__control:checked~label.sk-toggleable__label-arrow:before {content: \"▾\";}#sk-container-id-5 div.sk-estimator input.sk-toggleable__control:checked~label.sk-toggleable__label {background-color: #d4ebff;}#sk-container-id-5 div.sk-label input.sk-toggleable__control:checked~label.sk-toggleable__label {background-color: #d4ebff;}#sk-container-id-5 input.sk-hidden--visually {border: 0;clip: rect(1px 1px 1px 1px);clip: rect(1px, 1px, 1px, 1px);height: 1px;margin: -1px;overflow: hidden;padding: 0;position: absolute;width: 1px;}#sk-container-id-5 div.sk-estimator {font-family: monospace;background-color: #f0f8ff;border: 1px dotted black;border-radius: 0.25em;box-sizing: border-box;margin-bottom: 0.5em;}#sk-container-id-5 div.sk-estimator:hover {background-color: #d4ebff;}#sk-container-id-5 div.sk-parallel-item::after {content: \"\";width: 100%;border-bottom: 1px solid gray;flex-grow: 1;}#sk-container-id-5 div.sk-label:hover label.sk-toggleable__label {background-color: #d4ebff;}#sk-container-id-5 div.sk-serial::before {content: \"\";position: absolute;border-left: 1px solid gray;box-sizing: border-box;top: 0;bottom: 0;left: 50%;z-index: 0;}#sk-container-id-5 div.sk-serial {display: flex;flex-direction: column;align-items: center;background-color: white;padding-right: 0.2em;padding-left: 0.2em;position: relative;}#sk-container-id-5 div.sk-item {position: relative;z-index: 1;}#sk-container-id-5 div.sk-parallel {display: flex;align-items: stretch;justify-content: center;background-color: white;position: relative;}#sk-container-id-5 div.sk-item::before, #sk-container-id-5 div.sk-parallel-item::before {content: \"\";position: absolute;border-left: 1px solid gray;box-sizing: border-box;top: 0;bottom: 0;left: 50%;z-index: -1;}#sk-container-id-5 div.sk-parallel-item {display: flex;flex-direction: column;z-index: 1;position: relative;background-color: white;}#sk-container-id-5 div.sk-parallel-item:first-child::after {align-self: flex-end;width: 50%;}#sk-container-id-5 div.sk-parallel-item:last-child::after {align-self: flex-start;width: 50%;}#sk-container-id-5 div.sk-parallel-item:only-child::after {width: 0;}#sk-container-id-5 div.sk-dashed-wrapped {border: 1px dashed gray;margin: 0 0.4em 0.5em 0.4em;box-sizing: border-box;padding-bottom: 0.4em;background-color: white;}#sk-container-id-5 div.sk-label label {font-family: monospace;font-weight: bold;display: inline-block;line-height: 1.2em;}#sk-container-id-5 div.sk-label-container {text-align: center;}#sk-container-id-5 div.sk-container {/* jupyter's `normalize.less` sets `[hidden] { display: none; }` but bootstrap.min.css set `[hidden] { display: none !important; }` so we also need the `!important` here to be able to override the default hidden behavior on the sphinx rendered scikit-learn.org. See: https://github.com/scikit-learn/scikit-learn/issues/21755 */display: inline-block !important;position: relative;}#sk-container-id-5 div.sk-text-repr-fallback {display: none;}</style><div id=\"sk-container-id-5\" class=\"sk-top-container\"><div class=\"sk-text-repr-fallback\"><pre>GridSearchCV(estimator=RandomForestClassifier(random_state=123),\n",
              "             param_grid={&#x27;max_depth&#x27;: [2, 4, 6, 8, 10, 12, 14, 16, 18, 20, 22,\n",
              "                                       24, 26, 28, 30, None],\n",
              "                         &#x27;n_estimators&#x27;: [4, 16, 36, 64, 100, 144, 196, 256,\n",
              "                                          324, 400, 484, 576, 676, 784, 900,\n",
              "                                          1024]})</pre><b>In a Jupyter environment, please rerun this cell to show the HTML representation or trust the notebook. <br />On GitHub, the HTML representation is unable to render, please try loading this page with nbviewer.org.</b></div><div class=\"sk-container\" hidden><div class=\"sk-item sk-dashed-wrapped\"><div class=\"sk-label-container\"><div class=\"sk-label sk-toggleable\"><input class=\"sk-toggleable__control sk-hidden--visually\" id=\"sk-estimator-id-5\" type=\"checkbox\" ><label for=\"sk-estimator-id-5\" class=\"sk-toggleable__label sk-toggleable__label-arrow\">GridSearchCV</label><div class=\"sk-toggleable__content\"><pre>GridSearchCV(estimator=RandomForestClassifier(random_state=123),\n",
              "             param_grid={&#x27;max_depth&#x27;: [2, 4, 6, 8, 10, 12, 14, 16, 18, 20, 22,\n",
              "                                       24, 26, 28, 30, None],\n",
              "                         &#x27;n_estimators&#x27;: [4, 16, 36, 64, 100, 144, 196, 256,\n",
              "                                          324, 400, 484, 576, 676, 784, 900,\n",
              "                                          1024]})</pre></div></div></div><div class=\"sk-parallel\"><div class=\"sk-parallel-item\"><div class=\"sk-item\"><div class=\"sk-label-container\"><div class=\"sk-label sk-toggleable\"><input class=\"sk-toggleable__control sk-hidden--visually\" id=\"sk-estimator-id-6\" type=\"checkbox\" ><label for=\"sk-estimator-id-6\" class=\"sk-toggleable__label sk-toggleable__label-arrow\">estimator: RandomForestClassifier</label><div class=\"sk-toggleable__content\"><pre>RandomForestClassifier(random_state=123)</pre></div></div></div><div class=\"sk-serial\"><div class=\"sk-item\"><div class=\"sk-estimator sk-toggleable\"><input class=\"sk-toggleable__control sk-hidden--visually\" id=\"sk-estimator-id-7\" type=\"checkbox\" ><label for=\"sk-estimator-id-7\" class=\"sk-toggleable__label sk-toggleable__label-arrow\">RandomForestClassifier</label><div class=\"sk-toggleable__content\"><pre>RandomForestClassifier(random_state=123)</pre></div></div></div></div></div></div></div></div></div></div>"
            ]
          },
          "metadata": {},
          "execution_count": 56
        }
      ]
    },
    {
      "cell_type": "markdown",
      "source": [
        "Con 'best_score' se obtiene mejor el desempeño del modelo obtenido en la busqueda de grilla"
      ],
      "metadata": {
        "id": "kCdmZcE8Alf8"
      }
    },
    {
      "cell_type": "code",
      "source": [
        "# Mejor desempeño\n",
        "grid_rf.best_score_"
      ],
      "metadata": {
        "colab": {
          "base_uri": "https://localhost:8080/"
        },
        "outputId": "9f872e26-e4b2-4c8b-d7e3-1d09988f4e35",
        "id": "sklQI5W5d2Pw"
      },
      "execution_count": 57,
      "outputs": [
        {
          "output_type": "execute_result",
          "data": {
            "text/plain": [
              "0.9824999999999999"
            ]
          },
          "metadata": {},
          "execution_count": 57
        }
      ]
    },
    {
      "cell_type": "markdown",
      "source": [
        "Con 'best_params_' se obtiene la mejor variación de hiperparametros obtenida en la busqueda de grilla"
      ],
      "metadata": {
        "id": "I14zQ-PvAlf9"
      }
    },
    {
      "cell_type": "code",
      "source": [
        "# Mejor hiperparametros\n",
        "grid_rf.best_params_"
      ],
      "metadata": {
        "colab": {
          "base_uri": "https://localhost:8080/"
        },
        "outputId": "fa1d1c5f-183a-40ee-f3f2-3ce12ee7f0da",
        "id": "_migGZNWd2Px"
      },
      "execution_count": 58,
      "outputs": [
        {
          "output_type": "execute_result",
          "data": {
            "text/plain": [
              "{'max_depth': 6, 'n_estimators': 100}"
            ]
          },
          "metadata": {},
          "execution_count": 58
        }
      ]
    },
    {
      "cell_type": "markdown",
      "source": [
        "# Validación del modelo\n",
        "\n",
        "Analizando del desempeño de los modelos se observa que para este caso el modelo con mejor desempeño es Random Forest y con los hiperparametros **max_depth=6** y **n_estimators=100**, acontinuación se evaluará el desempeño del modelo con los datos de validación"
      ],
      "metadata": {
        "id": "U1ZK-D3r4LA2"
      }
    },
    {
      "cell_type": "markdown",
      "source": [
        "Lista con el nombre de las clases de la variable a predecir"
      ],
      "metadata": {
        "id": "ABH1KfBhDnzO"
      }
    },
    {
      "cell_type": "code",
      "source": [
        "# No pass = 0\n",
        "# Pass = 1\n",
        "LABELS = ['No Pass', 'Pass']"
      ],
      "metadata": {
        "id": "OhCPaKaA8aI4"
      },
      "execution_count": 52,
      "outputs": []
    },
    {
      "cell_type": "markdown",
      "source": [
        "Se realiza una copia del datos en caso de que se presente un error no modificar los datos originales"
      ],
      "metadata": {
        "id": "4VsC5vUtECEG"
      }
    },
    {
      "cell_type": "code",
      "source": [
        "X_test_copy = X_test.copy()"
      ],
      "metadata": {
        "id": "EI-qE6Hj7Kzz"
      },
      "execution_count": 60,
      "outputs": []
    },
    {
      "cell_type": "code",
      "source": [
        "X_test_copy"
      ],
      "metadata": {
        "colab": {
          "base_uri": "https://localhost:8080/",
          "height": 424
        },
        "id": "lOFdxxEP7VGl",
        "outputId": "27feea71-7a56-4d9d-9abe-e2a9c26fb722"
      },
      "execution_count": 61,
      "outputs": [
        {
          "output_type": "execute_result",
          "data": {
            "text/plain": [
              "     gender race/ethnicity parental level of education         lunch  \\\n",
              "680  female        group D                 high school      standard   \n",
              "913  female        group C           bachelor's degree  free/reduced   \n",
              "935    male        group D                some college  free/reduced   \n",
              "364    male        group C                some college      standard   \n",
              "942    male        group C                 high school      standard   \n",
              "..      ...            ...                         ...           ...   \n",
              "900    male        group D             master's degree      standard   \n",
              "393    male        group C          associate's degree      standard   \n",
              "619    male        group C          associate's degree  free/reduced   \n",
              "332    male        group E          associate's degree      standard   \n",
              "177  female        group C          associate's degree      standard   \n",
              "\n",
              "    test preparation course  math score  reading score  writing score  \\\n",
              "680                    none          67             72             74   \n",
              "913               completed          47             62             66   \n",
              "935                    none          70             63             58   \n",
              "364                    none          59             60             58   \n",
              "942                    none          81             66             64   \n",
              "..                      ...         ...            ...            ...   \n",
              "900                    none          85             84             89   \n",
              "393               completed          57             54             56   \n",
              "619               completed          65             73             68   \n",
              "332               completed          62             56             53   \n",
              "177               completed          71             77             77   \n",
              "\n",
              "     mean_score  \n",
              "680        71.0  \n",
              "913        58.3  \n",
              "935        63.7  \n",
              "364        59.0  \n",
              "942        70.3  \n",
              "..          ...  \n",
              "900        86.0  \n",
              "393        55.7  \n",
              "619        68.7  \n",
              "332        57.0  \n",
              "177        75.0  \n",
              "\n",
              "[200 rows x 9 columns]"
            ],
            "text/html": [
              "\n",
              "  <div id=\"df-cb31f43b-0dd9-4682-9bf0-cccf01d2db88\">\n",
              "    <div class=\"colab-df-container\">\n",
              "      <div>\n",
              "<style scoped>\n",
              "    .dataframe tbody tr th:only-of-type {\n",
              "        vertical-align: middle;\n",
              "    }\n",
              "\n",
              "    .dataframe tbody tr th {\n",
              "        vertical-align: top;\n",
              "    }\n",
              "\n",
              "    .dataframe thead th {\n",
              "        text-align: right;\n",
              "    }\n",
              "</style>\n",
              "<table border=\"1\" class=\"dataframe\">\n",
              "  <thead>\n",
              "    <tr style=\"text-align: right;\">\n",
              "      <th></th>\n",
              "      <th>gender</th>\n",
              "      <th>race/ethnicity</th>\n",
              "      <th>parental level of education</th>\n",
              "      <th>lunch</th>\n",
              "      <th>test preparation course</th>\n",
              "      <th>math score</th>\n",
              "      <th>reading score</th>\n",
              "      <th>writing score</th>\n",
              "      <th>mean_score</th>\n",
              "    </tr>\n",
              "  </thead>\n",
              "  <tbody>\n",
              "    <tr>\n",
              "      <th>680</th>\n",
              "      <td>female</td>\n",
              "      <td>group D</td>\n",
              "      <td>high school</td>\n",
              "      <td>standard</td>\n",
              "      <td>none</td>\n",
              "      <td>67</td>\n",
              "      <td>72</td>\n",
              "      <td>74</td>\n",
              "      <td>71.0</td>\n",
              "    </tr>\n",
              "    <tr>\n",
              "      <th>913</th>\n",
              "      <td>female</td>\n",
              "      <td>group C</td>\n",
              "      <td>bachelor's degree</td>\n",
              "      <td>free/reduced</td>\n",
              "      <td>completed</td>\n",
              "      <td>47</td>\n",
              "      <td>62</td>\n",
              "      <td>66</td>\n",
              "      <td>58.3</td>\n",
              "    </tr>\n",
              "    <tr>\n",
              "      <th>935</th>\n",
              "      <td>male</td>\n",
              "      <td>group D</td>\n",
              "      <td>some college</td>\n",
              "      <td>free/reduced</td>\n",
              "      <td>none</td>\n",
              "      <td>70</td>\n",
              "      <td>63</td>\n",
              "      <td>58</td>\n",
              "      <td>63.7</td>\n",
              "    </tr>\n",
              "    <tr>\n",
              "      <th>364</th>\n",
              "      <td>male</td>\n",
              "      <td>group C</td>\n",
              "      <td>some college</td>\n",
              "      <td>standard</td>\n",
              "      <td>none</td>\n",
              "      <td>59</td>\n",
              "      <td>60</td>\n",
              "      <td>58</td>\n",
              "      <td>59.0</td>\n",
              "    </tr>\n",
              "    <tr>\n",
              "      <th>942</th>\n",
              "      <td>male</td>\n",
              "      <td>group C</td>\n",
              "      <td>high school</td>\n",
              "      <td>standard</td>\n",
              "      <td>none</td>\n",
              "      <td>81</td>\n",
              "      <td>66</td>\n",
              "      <td>64</td>\n",
              "      <td>70.3</td>\n",
              "    </tr>\n",
              "    <tr>\n",
              "      <th>...</th>\n",
              "      <td>...</td>\n",
              "      <td>...</td>\n",
              "      <td>...</td>\n",
              "      <td>...</td>\n",
              "      <td>...</td>\n",
              "      <td>...</td>\n",
              "      <td>...</td>\n",
              "      <td>...</td>\n",
              "      <td>...</td>\n",
              "    </tr>\n",
              "    <tr>\n",
              "      <th>900</th>\n",
              "      <td>male</td>\n",
              "      <td>group D</td>\n",
              "      <td>master's degree</td>\n",
              "      <td>standard</td>\n",
              "      <td>none</td>\n",
              "      <td>85</td>\n",
              "      <td>84</td>\n",
              "      <td>89</td>\n",
              "      <td>86.0</td>\n",
              "    </tr>\n",
              "    <tr>\n",
              "      <th>393</th>\n",
              "      <td>male</td>\n",
              "      <td>group C</td>\n",
              "      <td>associate's degree</td>\n",
              "      <td>standard</td>\n",
              "      <td>completed</td>\n",
              "      <td>57</td>\n",
              "      <td>54</td>\n",
              "      <td>56</td>\n",
              "      <td>55.7</td>\n",
              "    </tr>\n",
              "    <tr>\n",
              "      <th>619</th>\n",
              "      <td>male</td>\n",
              "      <td>group C</td>\n",
              "      <td>associate's degree</td>\n",
              "      <td>free/reduced</td>\n",
              "      <td>completed</td>\n",
              "      <td>65</td>\n",
              "      <td>73</td>\n",
              "      <td>68</td>\n",
              "      <td>68.7</td>\n",
              "    </tr>\n",
              "    <tr>\n",
              "      <th>332</th>\n",
              "      <td>male</td>\n",
              "      <td>group E</td>\n",
              "      <td>associate's degree</td>\n",
              "      <td>standard</td>\n",
              "      <td>completed</td>\n",
              "      <td>62</td>\n",
              "      <td>56</td>\n",
              "      <td>53</td>\n",
              "      <td>57.0</td>\n",
              "    </tr>\n",
              "    <tr>\n",
              "      <th>177</th>\n",
              "      <td>female</td>\n",
              "      <td>group C</td>\n",
              "      <td>associate's degree</td>\n",
              "      <td>standard</td>\n",
              "      <td>completed</td>\n",
              "      <td>71</td>\n",
              "      <td>77</td>\n",
              "      <td>77</td>\n",
              "      <td>75.0</td>\n",
              "    </tr>\n",
              "  </tbody>\n",
              "</table>\n",
              "<p>200 rows × 9 columns</p>\n",
              "</div>\n",
              "      <button class=\"colab-df-convert\" onclick=\"convertToInteractive('df-cb31f43b-0dd9-4682-9bf0-cccf01d2db88')\"\n",
              "              title=\"Convert this dataframe to an interactive table.\"\n",
              "              style=\"display:none;\">\n",
              "        \n",
              "  <svg xmlns=\"http://www.w3.org/2000/svg\" height=\"24px\"viewBox=\"0 0 24 24\"\n",
              "       width=\"24px\">\n",
              "    <path d=\"M0 0h24v24H0V0z\" fill=\"none\"/>\n",
              "    <path d=\"M18.56 5.44l.94 2.06.94-2.06 2.06-.94-2.06-.94-.94-2.06-.94 2.06-2.06.94zm-11 1L8.5 8.5l.94-2.06 2.06-.94-2.06-.94L8.5 2.5l-.94 2.06-2.06.94zm10 10l.94 2.06.94-2.06 2.06-.94-2.06-.94-.94-2.06-.94 2.06-2.06.94z\"/><path d=\"M17.41 7.96l-1.37-1.37c-.4-.4-.92-.59-1.43-.59-.52 0-1.04.2-1.43.59L10.3 9.45l-7.72 7.72c-.78.78-.78 2.05 0 2.83L4 21.41c.39.39.9.59 1.41.59.51 0 1.02-.2 1.41-.59l7.78-7.78 2.81-2.81c.8-.78.8-2.07 0-2.86zM5.41 20L4 18.59l7.72-7.72 1.47 1.35L5.41 20z\"/>\n",
              "  </svg>\n",
              "      </button>\n",
              "      \n",
              "  <style>\n",
              "    .colab-df-container {\n",
              "      display:flex;\n",
              "      flex-wrap:wrap;\n",
              "      gap: 12px;\n",
              "    }\n",
              "\n",
              "    .colab-df-convert {\n",
              "      background-color: #E8F0FE;\n",
              "      border: none;\n",
              "      border-radius: 50%;\n",
              "      cursor: pointer;\n",
              "      display: none;\n",
              "      fill: #1967D2;\n",
              "      height: 32px;\n",
              "      padding: 0 0 0 0;\n",
              "      width: 32px;\n",
              "    }\n",
              "\n",
              "    .colab-df-convert:hover {\n",
              "      background-color: #E2EBFA;\n",
              "      box-shadow: 0px 1px 2px rgba(60, 64, 67, 0.3), 0px 1px 3px 1px rgba(60, 64, 67, 0.15);\n",
              "      fill: #174EA6;\n",
              "    }\n",
              "\n",
              "    [theme=dark] .colab-df-convert {\n",
              "      background-color: #3B4455;\n",
              "      fill: #D2E3FC;\n",
              "    }\n",
              "\n",
              "    [theme=dark] .colab-df-convert:hover {\n",
              "      background-color: #434B5C;\n",
              "      box-shadow: 0px 1px 3px 1px rgba(0, 0, 0, 0.15);\n",
              "      filter: drop-shadow(0px 1px 2px rgba(0, 0, 0, 0.3));\n",
              "      fill: #FFFFFF;\n",
              "    }\n",
              "  </style>\n",
              "\n",
              "      <script>\n",
              "        const buttonEl =\n",
              "          document.querySelector('#df-cb31f43b-0dd9-4682-9bf0-cccf01d2db88 button.colab-df-convert');\n",
              "        buttonEl.style.display =\n",
              "          google.colab.kernel.accessAllowed ? 'block' : 'none';\n",
              "\n",
              "        async function convertToInteractive(key) {\n",
              "          const element = document.querySelector('#df-cb31f43b-0dd9-4682-9bf0-cccf01d2db88');\n",
              "          const dataTable =\n",
              "            await google.colab.kernel.invokeFunction('convertToInteractive',\n",
              "                                                     [key], {});\n",
              "          if (!dataTable) return;\n",
              "\n",
              "          const docLinkHtml = 'Like what you see? Visit the ' +\n",
              "            '<a target=\"_blank\" href=https://colab.research.google.com/notebooks/data_table.ipynb>data table notebook</a>'\n",
              "            + ' to learn more about interactive tables.';\n",
              "          element.innerHTML = '';\n",
              "          dataTable['output_type'] = 'display_data';\n",
              "          await google.colab.output.renderOutput(dataTable, element);\n",
              "          const docLink = document.createElement('div');\n",
              "          docLink.innerHTML = docLinkHtml;\n",
              "          element.appendChild(docLink);\n",
              "        }\n",
              "      </script>\n",
              "    </div>\n",
              "  </div>\n",
              "  "
            ]
          },
          "metadata": {},
          "execution_count": 61
        }
      ]
    },
    {
      "cell_type": "markdown",
      "source": [
        "Los datos de testeo se escalan y se transforman los datos categóricos a númericos con el mismo ColumnTransformer utilizado en los datos de entrenamiento."
      ],
      "metadata": {
        "id": "UMvgXRXdENM1"
      }
    },
    {
      "cell_type": "code",
      "source": [
        "X_test_tf = transformer.transform(X_test_copy)"
      ],
      "metadata": {
        "id": "abtvA7lM7hKr"
      },
      "execution_count": 62,
      "outputs": []
    },
    {
      "cell_type": "code",
      "source": [
        "X_test_tf"
      ],
      "metadata": {
        "colab": {
          "base_uri": "https://localhost:8080/"
        },
        "id": "iK7VP8C27xuf",
        "outputId": "6d51ea8a-bbdb-4ca1-881c-564ab046cb84"
      },
      "execution_count": 63,
      "outputs": [
        {
          "output_type": "execute_result",
          "data": {
            "text/plain": [
              "array([[ 0.04903465,  0.1873432 ,  0.3845811 , ...,  1.        ,\n",
              "         0.        ,  1.        ],\n",
              "       [-1.2673319 , -0.50047029, -0.14269376, ...,  0.        ,\n",
              "         1.        ,  0.        ],\n",
              "       [ 0.24648964, -0.43168894, -0.66996862, ...,  0.        ,\n",
              "         0.        ,  1.        ],\n",
              "       ...,\n",
              "       [-0.082602  ,  0.25612455, -0.01087504, ...,  0.        ,\n",
              "         1.        ,  0.        ],\n",
              "       [-0.28005698, -0.91315838, -0.99951541, ...,  1.        ,\n",
              "         1.        ,  0.        ],\n",
              "       [ 0.31230796,  0.53124994,  0.58230918, ...,  1.        ,\n",
              "         1.        ,  0.        ]])"
            ]
          },
          "metadata": {},
          "execution_count": 63
        }
      ]
    },
    {
      "cell_type": "markdown",
      "source": [
        "Con el metodo predict() se le envian los datos de X y muestra la predicción realizada por el modelo SVM con kernel='poly', C=64, degree=1"
      ],
      "metadata": {
        "id": "SEj9jgOJE-XB"
      }
    },
    {
      "cell_type": "code",
      "source": [
        "# Predición de datos\n",
        "predict_y = grid_rf.predict(X_tf_test)"
      ],
      "metadata": {
        "id": "5oDY98FI70Yo"
      },
      "execution_count": 64,
      "outputs": []
    },
    {
      "cell_type": "code",
      "source": [
        "# Resultado del metodo predict\n",
        "predict_y"
      ],
      "metadata": {
        "colab": {
          "base_uri": "https://localhost:8080/"
        },
        "id": "1SE5mV3cBa9k",
        "outputId": "a9aaa787-61a1-4460-fb47-a90353b02731"
      },
      "execution_count": 65,
      "outputs": [
        {
          "output_type": "execute_result",
          "data": {
            "text/plain": [
              "array([1, 0, 0, 0, 1, 0, 1, 1, 1, 1, 0, 1, 0, 1, 0, 1, 0, 1, 0, 0, 1, 1,\n",
              "       1, 1, 0, 1, 0, 0, 1, 1, 0, 1, 0, 1, 0, 1, 1, 0, 0, 0, 1, 0, 1, 1,\n",
              "       0, 0, 1, 1, 1, 0, 0, 1, 1, 1, 0, 1, 1, 1, 1, 1, 1, 1, 1, 1, 1, 1,\n",
              "       1, 0, 1, 1, 0, 0, 1, 1, 1, 1, 1, 0, 1, 1, 1, 0, 1, 1, 1, 0, 1, 1,\n",
              "       1, 1, 0, 1, 1, 1, 1, 1, 1, 1, 0, 0, 1, 1, 0, 1, 1, 1, 0, 1, 1, 1,\n",
              "       1, 1, 0, 0, 1, 0, 0, 0, 0, 0, 0, 0, 0, 1, 1, 1, 0, 1, 0, 1, 0, 1,\n",
              "       1, 0, 1, 1, 1, 1, 1, 0, 0, 0, 0, 1, 1, 0, 0, 0, 0, 1, 1, 0, 1, 1,\n",
              "       1, 0, 0, 0, 1, 0, 1, 1, 0, 0, 1, 1, 0, 0, 1, 1, 1, 1, 1, 1, 1, 0,\n",
              "       1, 1, 0, 1, 1, 0, 1, 1, 0, 0, 1, 1, 1, 1, 1, 0, 1, 1, 0, 1, 0, 1,\n",
              "       0, 1])"
            ]
          },
          "metadata": {},
          "execution_count": 65
        }
      ]
    },
    {
      "cell_type": "markdown",
      "source": [
        "## Metricas de desempeño\n",
        "\n",
        "Las metricas permiten mostrar el porcentaje de desempeño del modelo.\n",
        "Para este caso es un problema de clasificacion se va a mostrar el accuaracy, recall, precision, f1-score y la matriz de confusion"
      ],
      "metadata": {
        "id": "m6VdEx0dISzA"
      }
    },
    {
      "cell_type": "code",
      "source": [
        "# Importación de las librerias confusion_matrix y classification_report\n",
        "from sklearn.metrics import confusion_matrix\n",
        "from sklearn.metrics import classification_report"
      ],
      "metadata": {
        "id": "H-ZbymmF4XkO"
      },
      "execution_count": 66,
      "outputs": []
    },
    {
      "cell_type": "markdown",
      "source": [
        "Función que muestra la matriz de confusión mediante un mapa de calor ademas de mostrar el reporte de las metricas(Tomado del notebook visto en clase)"
      ],
      "metadata": {
        "id": "c3KfTq5VDuNz"
      }
    },
    {
      "cell_type": "code",
      "source": [
        "# Función que muestra las metricas de desempeño\n",
        "def mostrar_resultados(y_test, pred_y):\n",
        "    conf_matrix = confusion_matrix(y_test, pred_y)\n",
        "    plt.figure(figsize=(8, 6))\n",
        "    sns.heatmap(conf_matrix, xticklabels=LABELS, yticklabels=LABELS, annot=True, fmt=\"d\", cmap='Blues');\n",
        "    plt.title(\"Matriz de confusión\")\n",
        "    plt.ylabel('Clase verdadera')\n",
        "    plt.xlabel('Clase prevista')\n",
        "    plt.show()    \n",
        "    print (classification_report(y_test, pred_y))\n",
        "    save_fig(\"matriz de confusion\")  # extra code"
      ],
      "metadata": {
        "id": "omPsDOMF4OcH"
      },
      "execution_count": 105,
      "outputs": []
    },
    {
      "cell_type": "markdown",
      "source": [
        "Se muestra la matriz de confusión y reporte de las metricas con los datos y del grupo de datos de testeo y los datos que obtienen a partir del metodo predict()"
      ],
      "metadata": {
        "id": "cqHGdny0JE2M"
      }
    },
    {
      "cell_type": "code",
      "source": [
        "# Se llama la función creada anteriormente\n",
        "mostrar_resultados(y_test, predict_y)"
      ],
      "metadata": {
        "colab": {
          "base_uri": "https://localhost:8080/",
          "height": 583
        },
        "id": "dnDxJmpx8DxI",
        "outputId": "8807d8cd-d713-446e-fa00-474921b9a8ab"
      },
      "execution_count": 106,
      "outputs": [
        {
          "output_type": "display_data",
          "data": {
            "text/plain": [
              "<Figure size 576x432 with 2 Axes>"
            ],
            "image/png": "[encoded data removed]"
          },
          "metadata": {
            "needs_background": "light"
          }
        },
        {
          "output_type": "stream",
          "name": "stdout",
          "text": [
            "              precision    recall  f1-score   support\n",
            "\n",
            "           0       1.00      0.95      0.97        80\n",
            "           1       0.97      1.00      0.98       120\n",
            "\n",
            "    accuracy                           0.98       200\n",
            "   macro avg       0.98      0.97      0.98       200\n",
            "weighted avg       0.98      0.98      0.98       200\n",
            "\n"
          ]
        },
        {
          "output_type": "display_data",
          "data": {
            "text/plain": [
              "<Figure size 432x288 with 0 Axes>"
            ]
          },
          "metadata": {}
        }
      ]
    },
    {
      "cell_type": "markdown",
      "source": [
        "Error de generalización obtenido con el método score()"
      ],
      "metadata": {
        "id": "uePcUKUHMX6i"
      }
    },
    {
      "cell_type": "code",
      "source": [
        "# Error de generalización\n",
        "print('Error en generalización: {}'.format(1-grid_rf.score(X_tf_test, y_test)))"
      ],
      "metadata": {
        "colab": {
          "base_uri": "https://localhost:8080/"
        },
        "id": "RNysOcUBML_N",
        "outputId": "1ccb9dc4-55d9-46b3-fe5d-38cf9e135fb4"
      },
      "execution_count": 69,
      "outputs": [
        {
          "output_type": "stream",
          "name": "stdout",
          "text": [
            "Error en generalización: 0.020000000000000018\n"
          ]
        }
      ]
    },
    {
      "cell_type": "markdown",
      "source": [
        "# Deep Learning"
      ],
      "metadata": {
        "id": "sFjB0GieBm2P"
      }
    },
    {
      "cell_type": "code",
      "source": [
        "# Importanción de tensorflow\n",
        "import tensorflow as tf\n",
        "from tensorflow import keras\n",
        "print(tf.__version__)"
      ],
      "metadata": {
        "colab": {
          "base_uri": "https://localhost:8080/"
        },
        "id": "lFZWbxTwBpXQ",
        "outputId": "e1ef34c9-b5ab-42ae-cd17-cfc6606dd7d4"
      },
      "execution_count": 53,
      "outputs": [
        {
          "output_type": "stream",
          "name": "stdout",
          "text": [
            "2.11.0\n"
          ]
        }
      ]
    },
    {
      "cell_type": "code",
      "source": [
        "# Importación de librerias para crear redes neuronales\n",
        "from tensorflow.keras import Sequential\n",
        "from tensorflow.keras.layers import Conv2D\n",
        "from tensorflow.keras.layers import MaxPooling2D\n",
        "from tensorflow.python.keras.layers import Reshape\n",
        "from tensorflow.python.keras.layers import Dense, Flatten, Dropout\n",
        "from tensorflow.keras.optimizers import Adam"
      ],
      "metadata": {
        "id": "7GTZI3JmCODl"
      },
      "execution_count": 54,
      "outputs": []
    },
    {
      "cell_type": "code",
      "source": [
        "len(X_tf)"
      ],
      "metadata": {
        "colab": {
          "base_uri": "https://localhost:8080/"
        },
        "id": "s1tf2rh2yZt4",
        "outputId": "10305450-0ac1-4be2-e8b7-b505bbbefaf4"
      },
      "execution_count": 72,
      "outputs": [
        {
          "output_type": "execute_result",
          "data": {
            "text/plain": [
              "800"
            ]
          },
          "metadata": {},
          "execution_count": 72
        }
      ]
    },
    {
      "cell_type": "markdown",
      "source": [
        "## Modelo 0: \n",
        "\n",
        "Se crea una red neuronal con dos capas ocultas de cuatro neuronas cada una, activation = 'relu', optimizador = 'adam' y se entrena el modelo con 60 epocas."
      ],
      "metadata": {
        "id": "USqyu4nSNB_1"
      }
    },
    {
      "cell_type": "code",
      "source": [
        "# Creación modelo secuencial vacio\n",
        "model = Sequential()\n",
        "# Capas de entrada\n",
        "model.add(Dense(4,input_dim=800, activation='relu'))\n",
        "# Capas Ocultas\n",
        "model.add(Dense(4, activation='relu'))\n",
        "model.add(Dense(4, activation='relu'))\n",
        "# Capa de salida\n",
        "model.add(Dense(1, activation='sigmoid'))"
      ],
      "metadata": {
        "id": "ifGkIW6ADCHI"
      },
      "execution_count": 55,
      "outputs": []
    },
    {
      "cell_type": "code",
      "source": [
        "# Compilación del modelo\n",
        "model.compile(optimizer='adam', loss='binary_crossentropy', metrics=['accuracy'])"
      ],
      "metadata": {
        "id": "2M-b2Y1mJyVB"
      },
      "execution_count": 56,
      "outputs": []
    },
    {
      "cell_type": "code",
      "source": [
        "# Entrenamiento del modelo con 60 epocas\n",
        "modelhistory= model.fit(X_tf, y_train , epochs=60)"
      ],
      "metadata": {
        "colab": {
          "base_uri": "https://localhost:8080/"
        },
        "id": "dhvAscOnK2u8",
        "outputId": "f3abd87b-7bf3-4cf9-cb47-5a8b04aac488"
      },
      "execution_count": 57,
      "outputs": [
        {
          "output_type": "stream",
          "name": "stdout",
          "text": [
            "Epoch 1/60\n",
            "25/25 [==============================] - 2s 2ms/step - loss: 0.7031 - accuracy: 0.4087\n",
            "Epoch 2/60\n",
            "25/25 [==============================] - 0s 2ms/step - loss: 0.6864 - accuracy: 0.5888\n",
            "Epoch 3/60\n",
            "25/25 [==============================] - 0s 2ms/step - loss: 0.6740 - accuracy: 0.7250\n",
            "Epoch 4/60\n",
            "25/25 [==============================] - 0s 2ms/step - loss: 0.6592 - accuracy: 0.7650\n",
            "Epoch 5/60\n",
            "25/25 [==============================] - 0s 2ms/step - loss: 0.6370 - accuracy: 0.8175\n",
            "Epoch 6/60\n",
            "25/25 [==============================] - 0s 2ms/step - loss: 0.6070 - accuracy: 0.8525\n",
            "Epoch 7/60\n",
            "25/25 [==============================] - 0s 3ms/step - loss: 0.5696 - accuracy: 0.8763\n",
            "Epoch 8/60\n",
            "25/25 [==============================] - 0s 2ms/step - loss: 0.5248 - accuracy: 0.9025\n",
            "Epoch 9/60\n",
            "25/25 [==============================] - 0s 2ms/step - loss: 0.4777 - accuracy: 0.9275\n",
            "Epoch 10/60\n",
            "25/25 [==============================] - 0s 2ms/step - loss: 0.4318 - accuracy: 0.9337\n",
            "Epoch 11/60\n",
            "25/25 [==============================] - 0s 2ms/step - loss: 0.3877 - accuracy: 0.9425\n",
            "Epoch 12/60\n",
            "25/25 [==============================] - 0s 2ms/step - loss: 0.3450 - accuracy: 0.9538\n",
            "Epoch 13/60\n",
            "25/25 [==============================] - 0s 2ms/step - loss: 0.3034 - accuracy: 0.9600\n",
            "Epoch 14/60\n",
            "25/25 [==============================] - 0s 3ms/step - loss: 0.2617 - accuracy: 0.9663\n",
            "Epoch 15/60\n",
            "25/25 [==============================] - 0s 3ms/step - loss: 0.2207 - accuracy: 0.9700\n",
            "Epoch 16/60\n",
            "25/25 [==============================] - 0s 3ms/step - loss: 0.1822 - accuracy: 0.9737\n",
            "Epoch 17/60\n",
            "25/25 [==============================] - 0s 2ms/step - loss: 0.1487 - accuracy: 0.9800\n",
            "Epoch 18/60\n",
            "25/25 [==============================] - 0s 3ms/step - loss: 0.1225 - accuracy: 0.9812\n",
            "Epoch 19/60\n",
            "25/25 [==============================] - 0s 4ms/step - loss: 0.1021 - accuracy: 0.9825\n",
            "Epoch 20/60\n",
            "25/25 [==============================] - 0s 3ms/step - loss: 0.0884 - accuracy: 0.9837\n",
            "Epoch 21/60\n",
            "25/25 [==============================] - 0s 2ms/step - loss: 0.0779 - accuracy: 0.9825\n",
            "Epoch 22/60\n",
            "25/25 [==============================] - 0s 2ms/step - loss: 0.0712 - accuracy: 0.9850\n",
            "Epoch 23/60\n",
            "25/25 [==============================] - 0s 2ms/step - loss: 0.0645 - accuracy: 0.9875\n",
            "Epoch 24/60\n",
            "25/25 [==============================] - 0s 2ms/step - loss: 0.0600 - accuracy: 0.9862\n",
            "Epoch 25/60\n",
            "25/25 [==============================] - 0s 2ms/step - loss: 0.0561 - accuracy: 0.9862\n",
            "Epoch 26/60\n",
            "25/25 [==============================] - 0s 2ms/step - loss: 0.0527 - accuracy: 0.9875\n",
            "Epoch 27/60\n",
            "25/25 [==============================] - 0s 2ms/step - loss: 0.0504 - accuracy: 0.9875\n",
            "Epoch 28/60\n",
            "25/25 [==============================] - 0s 2ms/step - loss: 0.0480 - accuracy: 0.9875\n",
            "Epoch 29/60\n",
            "25/25 [==============================] - 0s 2ms/step - loss: 0.0458 - accuracy: 0.9875\n",
            "Epoch 30/60\n",
            "25/25 [==============================] - 0s 2ms/step - loss: 0.0436 - accuracy: 0.9887\n",
            "Epoch 31/60\n",
            "25/25 [==============================] - 0s 2ms/step - loss: 0.0421 - accuracy: 0.9887\n",
            "Epoch 32/60\n",
            "25/25 [==============================] - 0s 2ms/step - loss: 0.0409 - accuracy: 0.9887\n",
            "Epoch 33/60\n",
            "25/25 [==============================] - 0s 3ms/step - loss: 0.0397 - accuracy: 0.9875\n",
            "Epoch 34/60\n",
            "25/25 [==============================] - 0s 3ms/step - loss: 0.0379 - accuracy: 0.9887\n",
            "Epoch 35/60\n",
            "25/25 [==============================] - 0s 2ms/step - loss: 0.0366 - accuracy: 0.9900\n",
            "Epoch 36/60\n",
            "25/25 [==============================] - 0s 2ms/step - loss: 0.0355 - accuracy: 0.9875\n",
            "Epoch 37/60\n",
            "25/25 [==============================] - 0s 2ms/step - loss: 0.0348 - accuracy: 0.9875\n",
            "Epoch 38/60\n",
            "25/25 [==============================] - 0s 2ms/step - loss: 0.0335 - accuracy: 0.9875\n",
            "Epoch 39/60\n",
            "25/25 [==============================] - 0s 2ms/step - loss: 0.0329 - accuracy: 0.9900\n",
            "Epoch 40/60\n",
            "25/25 [==============================] - 0s 2ms/step - loss: 0.0319 - accuracy: 0.9900\n",
            "Epoch 41/60\n",
            "25/25 [==============================] - 0s 2ms/step - loss: 0.0312 - accuracy: 0.9887\n",
            "Epoch 42/60\n",
            "25/25 [==============================] - 0s 2ms/step - loss: 0.0303 - accuracy: 0.9912\n",
            "Epoch 43/60\n",
            "25/25 [==============================] - 0s 2ms/step - loss: 0.0295 - accuracy: 0.9912\n",
            "Epoch 44/60\n",
            "25/25 [==============================] - 0s 3ms/step - loss: 0.0288 - accuracy: 0.9912\n",
            "Epoch 45/60\n",
            "25/25 [==============================] - 0s 2ms/step - loss: 0.0287 - accuracy: 0.9912\n",
            "Epoch 46/60\n",
            "25/25 [==============================] - 0s 2ms/step - loss: 0.0274 - accuracy: 0.9937\n",
            "Epoch 47/60\n",
            "25/25 [==============================] - 0s 3ms/step - loss: 0.0270 - accuracy: 0.9925\n",
            "Epoch 48/60\n",
            "25/25 [==============================] - 0s 3ms/step - loss: 0.0267 - accuracy: 0.9925\n",
            "Epoch 49/60\n",
            "25/25 [==============================] - 0s 2ms/step - loss: 0.0258 - accuracy: 0.9937\n",
            "Epoch 50/60\n",
            "25/25 [==============================] - 0s 2ms/step - loss: 0.0253 - accuracy: 0.9937\n",
            "Epoch 51/60\n",
            "25/25 [==============================] - 0s 2ms/step - loss: 0.0247 - accuracy: 0.9937\n",
            "Epoch 52/60\n",
            "25/25 [==============================] - 0s 3ms/step - loss: 0.0242 - accuracy: 0.9937\n",
            "Epoch 53/60\n",
            "25/25 [==============================] - 0s 2ms/step - loss: 0.0238 - accuracy: 0.9937\n",
            "Epoch 54/60\n",
            "25/25 [==============================] - 0s 2ms/step - loss: 0.0234 - accuracy: 0.9950\n",
            "Epoch 55/60\n",
            "25/25 [==============================] - 0s 3ms/step - loss: 0.0230 - accuracy: 0.9937\n",
            "Epoch 56/60\n",
            "25/25 [==============================] - 0s 4ms/step - loss: 0.0226 - accuracy: 0.9937\n",
            "Epoch 57/60\n",
            "25/25 [==============================] - 0s 4ms/step - loss: 0.0221 - accuracy: 0.9937\n",
            "Epoch 58/60\n",
            "25/25 [==============================] - 0s 4ms/step - loss: 0.0218 - accuracy: 0.9937\n",
            "Epoch 59/60\n",
            "25/25 [==============================] - 0s 4ms/step - loss: 0.0212 - accuracy: 0.9937\n",
            "Epoch 60/60\n",
            "25/25 [==============================] - 0s 4ms/step - loss: 0.0211 - accuracy: 0.9937\n"
          ]
        }
      ]
    },
    {
      "cell_type": "markdown",
      "source": [
        "Se evalua el modelo con los datos de prueba "
      ],
      "metadata": {
        "id": "EIKYkJWurGbQ"
      }
    },
    {
      "cell_type": "code",
      "source": [
        "# Evaluacion del modelo \n",
        "test_loss, test_acc = model.evaluate(X_tf_test, y_test)\n",
        "print('Test accuracy:', test_acc)\n",
        "print('Error de generalización', 1-test_acc)"
      ],
      "metadata": {
        "colab": {
          "base_uri": "https://localhost:8080/"
        },
        "id": "0omu4PnJPrpM",
        "outputId": "9bec2147-e83d-43a2-c631-274361126dcd"
      },
      "execution_count": 58,
      "outputs": [
        {
          "output_type": "stream",
          "name": "stdout",
          "text": [
            "7/7 [==============================] - 1s 6ms/step - loss: 0.0275 - accuracy: 0.9950\n",
            "Test accuracy: 0.9950000047683716\n",
            "Error de generalización 0.004999995231628418\n"
          ]
        }
      ]
    },
    {
      "cell_type": "code",
      "source": [
        "# Resumen del modelo\n",
        "model.summary()"
      ],
      "metadata": {
        "colab": {
          "base_uri": "https://localhost:8080/"
        },
        "id": "ovoSbH8JKfbj",
        "outputId": "3fced49c-010f-4dae-c51f-cf60382724e3"
      },
      "execution_count": 59,
      "outputs": [
        {
          "output_type": "stream",
          "name": "stdout",
          "text": [
            "Model: \"sequential\"\n",
            "_________________________________________________________________\n",
            " Layer (type)                Output Shape              Param #   \n",
            "=================================================================\n",
            " module_wrapper (ModuleWrapp  (None, 4)                84        \n",
            " er)                                                             \n",
            "                                                                 \n",
            " module_wrapper_1 (ModuleWra  (None, 4)                20        \n",
            " pper)                                                           \n",
            "                                                                 \n",
            " module_wrapper_2 (ModuleWra  (None, 4)                20        \n",
            " pper)                                                           \n",
            "                                                                 \n",
            " module_wrapper_3 (ModuleWra  (None, 1)                5         \n",
            " pper)                                                           \n",
            "                                                                 \n",
            "=================================================================\n",
            "Total params: 129\n",
            "Trainable params: 129\n",
            "Non-trainable params: 0\n",
            "_________________________________________________________________\n"
          ]
        }
      ]
    },
    {
      "cell_type": "markdown",
      "source": [
        "## Modelo 1: \n",
        "Se crea una red neuronal con una capa oculta con 32 neuronas, optimizador sgd y se entrena el modelo con 20 epocas."
      ],
      "metadata": {
        "id": "TJYnfYfJNV83"
      }
    },
    {
      "cell_type": "code",
      "source": [
        "# Creación modelo secuencial vacio\n",
        "model1 = Sequential()\n",
        "# Capa de entrada\n",
        "model1.add(Dense(32,input_dim=800, activation='relu'))\n",
        "# Capa Oculta\n",
        "model1.add(Dense(32, activation='relu'))\n",
        "# Capa de salida\n",
        "model1.add(Dense(1, activation='sigmoid'))"
      ],
      "metadata": {
        "id": "E8WjBq2vNMfi"
      },
      "execution_count": 60,
      "outputs": []
    },
    {
      "cell_type": "code",
      "source": [
        "# Compilacion del modelo con optimizador sgd\n",
        "model1.compile(optimizer='sgd', loss='binary_crossentropy', metrics=['accuracy'])"
      ],
      "metadata": {
        "id": "QNjAhwGFNog_"
      },
      "execution_count": 61,
      "outputs": []
    },
    {
      "cell_type": "code",
      "source": [
        "# Entrenamiento del modelo con 20 epocas\n",
        "model1history= model1.fit(X_tf, y_train , epochs=20)"
      ],
      "metadata": {
        "colab": {
          "base_uri": "https://localhost:8080/"
        },
        "id": "p-b_d3FyNqX5",
        "outputId": "bea98907-e2c3-4481-ed0a-01664292c85b"
      },
      "execution_count": 62,
      "outputs": [
        {
          "output_type": "stream",
          "name": "stdout",
          "text": [
            "Epoch 1/20\n",
            "25/25 [==============================] - 1s 3ms/step - loss: 0.6417 - accuracy: 0.7475\n",
            "Epoch 2/20\n",
            "25/25 [==============================] - 0s 2ms/step - loss: 0.5968 - accuracy: 0.8300\n",
            "Epoch 3/20\n",
            "25/25 [==============================] - 0s 2ms/step - loss: 0.5531 - accuracy: 0.8712\n",
            "Epoch 4/20\n",
            "25/25 [==============================] - 0s 2ms/step - loss: 0.5103 - accuracy: 0.8838\n",
            "Epoch 5/20\n",
            "25/25 [==============================] - 0s 2ms/step - loss: 0.4687 - accuracy: 0.8988\n",
            "Epoch 6/20\n",
            "25/25 [==============================] - 0s 2ms/step - loss: 0.4283 - accuracy: 0.9050\n",
            "Epoch 7/20\n",
            "25/25 [==============================] - 0s 2ms/step - loss: 0.3907 - accuracy: 0.9112\n",
            "Epoch 8/20\n",
            "25/25 [==============================] - 0s 2ms/step - loss: 0.3564 - accuracy: 0.9150\n",
            "Epoch 9/20\n",
            "25/25 [==============================] - 0s 2ms/step - loss: 0.3255 - accuracy: 0.9250\n",
            "Epoch 10/20\n",
            "25/25 [==============================] - 0s 2ms/step - loss: 0.2983 - accuracy: 0.9300\n",
            "Epoch 11/20\n",
            "25/25 [==============================] - 0s 2ms/step - loss: 0.2744 - accuracy: 0.9337\n",
            "Epoch 12/20\n",
            "25/25 [==============================] - 0s 2ms/step - loss: 0.2534 - accuracy: 0.9362\n",
            "Epoch 13/20\n",
            "25/25 [==============================] - 0s 2ms/step - loss: 0.2352 - accuracy: 0.9388\n",
            "Epoch 14/20\n",
            "25/25 [==============================] - 0s 2ms/step - loss: 0.2192 - accuracy: 0.9425\n",
            "Epoch 15/20\n",
            "25/25 [==============================] - 0s 2ms/step - loss: 0.2052 - accuracy: 0.9438\n",
            "Epoch 16/20\n",
            "25/25 [==============================] - 0s 2ms/step - loss: 0.1928 - accuracy: 0.9463\n",
            "Epoch 17/20\n",
            "25/25 [==============================] - 0s 2ms/step - loss: 0.1820 - accuracy: 0.9500\n",
            "Epoch 18/20\n",
            "25/25 [==============================] - 0s 2ms/step - loss: 0.1723 - accuracy: 0.9500\n",
            "Epoch 19/20\n",
            "25/25 [==============================] - 0s 2ms/step - loss: 0.1636 - accuracy: 0.9513\n",
            "Epoch 20/20\n",
            "25/25 [==============================] - 0s 2ms/step - loss: 0.1557 - accuracy: 0.9563\n"
          ]
        }
      ]
    },
    {
      "cell_type": "code",
      "source": [
        "# Evaluación del modelo\n",
        "test_loss, test_acc = model1.evaluate(X_tf_test, y_test)\n",
        "print('Test accuracy:', test_acc)\n",
        "print('Error de generalización', 1-test_acc)"
      ],
      "metadata": {
        "colab": {
          "base_uri": "https://localhost:8080/"
        },
        "id": "ll-r8jRKN8mi",
        "outputId": "091fe1db-6208-4bef-edc1-5e752c3d499e"
      },
      "execution_count": 63,
      "outputs": [
        {
          "output_type": "stream",
          "name": "stdout",
          "text": [
            "7/7 [==============================] - 0s 3ms/step - loss: 0.1353 - accuracy: 0.9750\n",
            "Test accuracy: 0.9750000238418579\n",
            "Error de generalización 0.02499997615814209\n"
          ]
        }
      ]
    },
    {
      "cell_type": "code",
      "source": [
        "# Resumen del modelo\n",
        "model1.summary()"
      ],
      "metadata": {
        "colab": {
          "base_uri": "https://localhost:8080/"
        },
        "id": "VUXIxww2Q4GL",
        "outputId": "e9731685-629f-409b-9f41-d16353ed7fce"
      },
      "execution_count": 82,
      "outputs": [
        {
          "output_type": "stream",
          "name": "stdout",
          "text": [
            "Model: \"sequential_1\"\n",
            "_________________________________________________________________\n",
            " Layer (type)                Output Shape              Param #   \n",
            "=================================================================\n",
            " module_wrapper_4 (ModuleWra  (None, 32)               672       \n",
            " pper)                                                           \n",
            "                                                                 \n",
            " module_wrapper_5 (ModuleWra  (None, 32)               1056      \n",
            " pper)                                                           \n",
            "                                                                 \n",
            " module_wrapper_6 (ModuleWra  (None, 1)                33        \n",
            " pper)                                                           \n",
            "                                                                 \n",
            "=================================================================\n",
            "Total params: 1,761\n",
            "Trainable params: 1,761\n",
            "Non-trainable params: 0\n",
            "_________________________________________________________________\n"
          ]
        }
      ]
    },
    {
      "cell_type": "markdown",
      "source": [
        "## Modelo 2: \n",
        "\n",
        "Se crea el mismo modelo anterior con la diferencia que se entrena con 50 epocas."
      ],
      "metadata": {
        "id": "8KzzE1lCO8A0"
      }
    },
    {
      "cell_type": "code",
      "source": [
        "# Creación modelo secuencial vacio\n",
        "model2 = Sequential()\n",
        "# Capa de entrada\n",
        "model2.add(Dense(32,input_dim=800, activation='relu'))\n",
        "# Capa oculta\n",
        "model2.add(Dense(32, activation='relu'))\n",
        "# Capa de salida\n",
        "model2.add(Dense(1, activation='sigmoid'))"
      ],
      "metadata": {
        "id": "Oiz63CWaOmPz"
      },
      "execution_count": 64,
      "outputs": []
    },
    {
      "cell_type": "code",
      "source": [
        "# Compilación del modelo con optimizador sgd\n",
        "model2.compile(optimizer='sgd', loss='binary_crossentropy', metrics=['accuracy'])"
      ],
      "metadata": {
        "id": "2c2khzHWPK7w"
      },
      "execution_count": 65,
      "outputs": []
    },
    {
      "cell_type": "code",
      "source": [
        "# Entrenamiento del modelo con 50 epocas.\n",
        "model2history= model2.fit(X_tf, y_train , epochs=50)"
      ],
      "metadata": {
        "colab": {
          "base_uri": "https://localhost:8080/"
        },
        "id": "XE8sNT3XQKIV",
        "outputId": "087e56bd-c5bf-4d19-f39a-dc735e324d27"
      },
      "execution_count": 66,
      "outputs": [
        {
          "output_type": "stream",
          "name": "stdout",
          "text": [
            "Epoch 1/50\n",
            "25/25 [==============================] - 1s 3ms/step - loss: 0.6369 - accuracy: 0.6988\n",
            "Epoch 2/50\n",
            "25/25 [==============================] - 0s 2ms/step - loss: 0.5864 - accuracy: 0.8288\n",
            "Epoch 3/50\n",
            "25/25 [==============================] - 0s 2ms/step - loss: 0.5395 - accuracy: 0.8763\n",
            "Epoch 4/50\n",
            "25/25 [==============================] - 0s 2ms/step - loss: 0.4953 - accuracy: 0.9150\n",
            "Epoch 5/50\n",
            "25/25 [==============================] - 0s 2ms/step - loss: 0.4528 - accuracy: 0.9275\n",
            "Epoch 6/50\n",
            "25/25 [==============================] - 0s 2ms/step - loss: 0.4127 - accuracy: 0.9262\n",
            "Epoch 7/50\n",
            "25/25 [==============================] - 0s 2ms/step - loss: 0.3755 - accuracy: 0.9362\n",
            "Epoch 8/50\n",
            "25/25 [==============================] - 0s 2ms/step - loss: 0.3417 - accuracy: 0.9450\n",
            "Epoch 9/50\n",
            "25/25 [==============================] - 0s 3ms/step - loss: 0.3115 - accuracy: 0.9463\n",
            "Epoch 10/50\n",
            "25/25 [==============================] - 0s 2ms/step - loss: 0.2846 - accuracy: 0.9550\n",
            "Epoch 11/50\n",
            "25/25 [==============================] - 0s 2ms/step - loss: 0.2609 - accuracy: 0.9588\n",
            "Epoch 12/50\n",
            "25/25 [==============================] - 0s 2ms/step - loss: 0.2401 - accuracy: 0.9613\n",
            "Epoch 13/50\n",
            "25/25 [==============================] - 0s 2ms/step - loss: 0.2219 - accuracy: 0.9638\n",
            "Epoch 14/50\n",
            "25/25 [==============================] - 0s 2ms/step - loss: 0.2060 - accuracy: 0.9700\n",
            "Epoch 15/50\n",
            "25/25 [==============================] - 0s 2ms/step - loss: 0.1922 - accuracy: 0.9700\n",
            "Epoch 16/50\n",
            "25/25 [==============================] - 0s 2ms/step - loss: 0.1799 - accuracy: 0.9712\n",
            "Epoch 17/50\n",
            "25/25 [==============================] - 0s 2ms/step - loss: 0.1691 - accuracy: 0.9737\n",
            "Epoch 18/50\n",
            "25/25 [==============================] - 0s 2ms/step - loss: 0.1596 - accuracy: 0.9737\n",
            "Epoch 19/50\n",
            "25/25 [==============================] - 0s 2ms/step - loss: 0.1510 - accuracy: 0.9750\n",
            "Epoch 20/50\n",
            "25/25 [==============================] - 0s 2ms/step - loss: 0.1433 - accuracy: 0.9750\n",
            "Epoch 21/50\n",
            "25/25 [==============================] - 0s 2ms/step - loss: 0.1365 - accuracy: 0.9750\n",
            "Epoch 22/50\n",
            "25/25 [==============================] - 0s 2ms/step - loss: 0.1303 - accuracy: 0.9750\n",
            "Epoch 23/50\n",
            "25/25 [==============================] - 0s 2ms/step - loss: 0.1247 - accuracy: 0.9762\n",
            "Epoch 24/50\n",
            "25/25 [==============================] - 0s 2ms/step - loss: 0.1196 - accuracy: 0.9750\n",
            "Epoch 25/50\n",
            "25/25 [==============================] - 0s 2ms/step - loss: 0.1149 - accuracy: 0.9762\n",
            "Epoch 26/50\n",
            "25/25 [==============================] - 0s 2ms/step - loss: 0.1107 - accuracy: 0.9787\n",
            "Epoch 27/50\n",
            "25/25 [==============================] - 0s 2ms/step - loss: 0.1066 - accuracy: 0.9787\n",
            "Epoch 28/50\n",
            "25/25 [==============================] - 0s 2ms/step - loss: 0.1030 - accuracy: 0.9800\n",
            "Epoch 29/50\n",
            "25/25 [==============================] - 0s 2ms/step - loss: 0.0996 - accuracy: 0.9800\n",
            "Epoch 30/50\n",
            "25/25 [==============================] - 0s 2ms/step - loss: 0.0964 - accuracy: 0.9812\n",
            "Epoch 31/50\n",
            "25/25 [==============================] - 0s 2ms/step - loss: 0.0934 - accuracy: 0.9800\n",
            "Epoch 32/50\n",
            "25/25 [==============================] - 0s 2ms/step - loss: 0.0906 - accuracy: 0.9812\n",
            "Epoch 33/50\n",
            "25/25 [==============================] - 0s 2ms/step - loss: 0.0881 - accuracy: 0.9800\n",
            "Epoch 34/50\n",
            "25/25 [==============================] - 0s 2ms/step - loss: 0.0857 - accuracy: 0.9825\n",
            "Epoch 35/50\n",
            "25/25 [==============================] - 0s 2ms/step - loss: 0.0834 - accuracy: 0.9825\n",
            "Epoch 36/50\n",
            "25/25 [==============================] - 0s 2ms/step - loss: 0.0812 - accuracy: 0.9837\n",
            "Epoch 37/50\n",
            "25/25 [==============================] - 0s 2ms/step - loss: 0.0792 - accuracy: 0.9862\n",
            "Epoch 38/50\n",
            "25/25 [==============================] - 0s 2ms/step - loss: 0.0772 - accuracy: 0.9837\n",
            "Epoch 39/50\n",
            "25/25 [==============================] - 0s 2ms/step - loss: 0.0754 - accuracy: 0.9850\n",
            "Epoch 40/50\n",
            "25/25 [==============================] - 0s 2ms/step - loss: 0.0737 - accuracy: 0.9875\n",
            "Epoch 41/50\n",
            "25/25 [==============================] - 0s 2ms/step - loss: 0.0721 - accuracy: 0.9912\n",
            "Epoch 42/50\n",
            "25/25 [==============================] - 0s 2ms/step - loss: 0.0705 - accuracy: 0.9912\n",
            "Epoch 43/50\n",
            "25/25 [==============================] - 0s 2ms/step - loss: 0.0690 - accuracy: 0.9900\n",
            "Epoch 44/50\n",
            "25/25 [==============================] - 0s 2ms/step - loss: 0.0676 - accuracy: 0.9912\n",
            "Epoch 45/50\n",
            "25/25 [==============================] - 0s 2ms/step - loss: 0.0662 - accuracy: 0.9887\n",
            "Epoch 46/50\n",
            "25/25 [==============================] - 0s 2ms/step - loss: 0.0649 - accuracy: 0.9900\n",
            "Epoch 47/50\n",
            "25/25 [==============================] - 0s 2ms/step - loss: 0.0636 - accuracy: 0.9900\n",
            "Epoch 48/50\n",
            "25/25 [==============================] - 0s 2ms/step - loss: 0.0624 - accuracy: 0.9912\n",
            "Epoch 49/50\n",
            "25/25 [==============================] - 0s 2ms/step - loss: 0.0613 - accuracy: 0.9912\n",
            "Epoch 50/50\n",
            "25/25 [==============================] - 0s 2ms/step - loss: 0.0602 - accuracy: 0.9912\n"
          ]
        }
      ]
    },
    {
      "cell_type": "code",
      "source": [
        "# Evaluación del modelo\n",
        "test_loss, test_acc = model2.evaluate(X_tf_test, y_test)\n",
        "print('Test accuracy:', test_acc)\n",
        "print('Error de generalización', 1-test_acc)"
      ],
      "metadata": {
        "colab": {
          "base_uri": "https://localhost:8080/"
        },
        "id": "bDjLdIHdQJvy",
        "outputId": "38797549-7d7f-4adf-a78c-d042a3ef5e9e"
      },
      "execution_count": 67,
      "outputs": [
        {
          "output_type": "stream",
          "name": "stdout",
          "text": [
            "7/7 [==============================] - 0s 6ms/step - loss: 0.0574 - accuracy: 0.9850\n",
            "Test accuracy: 0.9850000143051147\n",
            "Error de generalización 0.014999985694885254\n"
          ]
        }
      ]
    },
    {
      "cell_type": "code",
      "source": [
        "# Resumen del modelo\n",
        "model2.summary()"
      ],
      "metadata": {
        "colab": {
          "base_uri": "https://localhost:8080/"
        },
        "id": "nBVpkUn1QkEO",
        "outputId": "03a7dc0c-d11a-4890-8e95-53c0204e7028"
      },
      "execution_count": 68,
      "outputs": [
        {
          "output_type": "stream",
          "name": "stdout",
          "text": [
            "Model: \"sequential_2\"\n",
            "_________________________________________________________________\n",
            " Layer (type)                Output Shape              Param #   \n",
            "=================================================================\n",
            " module_wrapper_7 (ModuleWra  (None, 32)               672       \n",
            " pper)                                                           \n",
            "                                                                 \n",
            " module_wrapper_8 (ModuleWra  (None, 32)               1056      \n",
            " pper)                                                           \n",
            "                                                                 \n",
            " module_wrapper_9 (ModuleWra  (None, 1)                33        \n",
            " pper)                                                           \n",
            "                                                                 \n",
            "=================================================================\n",
            "Total params: 1,761\n",
            "Trainable params: 1,761\n",
            "Non-trainable params: 0\n",
            "_________________________________________________________________\n"
          ]
        }
      ]
    },
    {
      "cell_type": "markdown",
      "source": [
        "## Modelo 3:\n",
        "\n",
        "Se crea una red neuronal de una capa oculta de 4 neuronas con optimizador adam y se entrena el modelo con 60 epocas."
      ],
      "metadata": {
        "id": "-lYXde6-RK9K"
      }
    },
    {
      "cell_type": "code",
      "source": [
        "# Creación modelo secuencial vacio\n",
        "model3 = Sequential()\n",
        "# Capa de entrada\n",
        "model3.add(Dense(4,input_dim=800, activation='relu'))\n",
        "# Capa oculta\n",
        "model3.add(Dense(4, activation='relu'))\n",
        "# Capa de salida\n",
        "model3.add(Dense(1, activation='sigmoid'))"
      ],
      "metadata": {
        "id": "PD4R2HgYRbxE"
      },
      "execution_count": 69,
      "outputs": []
    },
    {
      "cell_type": "code",
      "source": [
        "# Compilación del modelo con optimizador adam\n",
        "model3.compile(optimizer='adam', loss='binary_crossentropy', metrics=['accuracy'])"
      ],
      "metadata": {
        "id": "A1LC1WVcRbxF"
      },
      "execution_count": 70,
      "outputs": []
    },
    {
      "cell_type": "code",
      "source": [
        "# Entrenamiento del modelo con 60 epocas\n",
        "model3history= model3.fit(X_tf, y_train , epochs=60)"
      ],
      "metadata": {
        "colab": {
          "base_uri": "https://localhost:8080/"
        },
        "outputId": "74a90281-3ecb-4f14-8c9b-fdae3b964094",
        "id": "9xCdPrpARbxI"
      },
      "execution_count": 71,
      "outputs": [
        {
          "output_type": "stream",
          "name": "stdout",
          "text": [
            "Epoch 1/60\n",
            "25/25 [==============================] - 1s 2ms/step - loss: 0.6818 - accuracy: 0.5663\n",
            "Epoch 2/60\n",
            "25/25 [==============================] - 0s 2ms/step - loss: 0.6578 - accuracy: 0.6825\n",
            "Epoch 3/60\n",
            "25/25 [==============================] - 0s 2ms/step - loss: 0.6256 - accuracy: 0.7450\n",
            "Epoch 4/60\n",
            "25/25 [==============================] - 0s 2ms/step - loss: 0.5787 - accuracy: 0.7950\n",
            "Epoch 5/60\n",
            "25/25 [==============================] - 0s 3ms/step - loss: 0.5219 - accuracy: 0.8400\n",
            "Epoch 6/60\n",
            "25/25 [==============================] - 0s 2ms/step - loss: 0.4628 - accuracy: 0.8587\n",
            "Epoch 7/60\n",
            "25/25 [==============================] - 0s 2ms/step - loss: 0.4064 - accuracy: 0.8813\n",
            "Epoch 8/60\n",
            "25/25 [==============================] - 0s 2ms/step - loss: 0.3562 - accuracy: 0.8963\n",
            "Epoch 9/60\n",
            "25/25 [==============================] - 0s 2ms/step - loss: 0.3138 - accuracy: 0.9050\n",
            "Epoch 10/60\n",
            "25/25 [==============================] - 0s 2ms/step - loss: 0.2767 - accuracy: 0.9150\n",
            "Epoch 11/60\n",
            "25/25 [==============================] - 0s 2ms/step - loss: 0.2454 - accuracy: 0.9262\n",
            "Epoch 12/60\n",
            "25/25 [==============================] - 0s 2ms/step - loss: 0.2198 - accuracy: 0.9325\n",
            "Epoch 13/60\n",
            "25/25 [==============================] - 0s 2ms/step - loss: 0.1983 - accuracy: 0.9388\n",
            "Epoch 14/60\n",
            "25/25 [==============================] - 0s 2ms/step - loss: 0.1798 - accuracy: 0.9438\n",
            "Epoch 15/60\n",
            "25/25 [==============================] - 0s 2ms/step - loss: 0.1639 - accuracy: 0.9500\n",
            "Epoch 16/60\n",
            "25/25 [==============================] - 0s 3ms/step - loss: 0.1500 - accuracy: 0.9563\n",
            "Epoch 17/60\n",
            "25/25 [==============================] - 0s 2ms/step - loss: 0.1381 - accuracy: 0.9563\n",
            "Epoch 18/60\n",
            "25/25 [==============================] - 0s 2ms/step - loss: 0.1279 - accuracy: 0.9613\n",
            "Epoch 19/60\n",
            "25/25 [==============================] - 0s 2ms/step - loss: 0.1188 - accuracy: 0.9663\n",
            "Epoch 20/60\n",
            "25/25 [==============================] - 0s 2ms/step - loss: 0.1112 - accuracy: 0.9688\n",
            "Epoch 21/60\n",
            "25/25 [==============================] - 0s 2ms/step - loss: 0.1040 - accuracy: 0.9712\n",
            "Epoch 22/60\n",
            "25/25 [==============================] - 0s 2ms/step - loss: 0.0980 - accuracy: 0.9750\n",
            "Epoch 23/60\n",
            "25/25 [==============================] - 0s 2ms/step - loss: 0.0925 - accuracy: 0.9775\n",
            "Epoch 24/60\n",
            "25/25 [==============================] - 0s 2ms/step - loss: 0.0875 - accuracy: 0.9775\n",
            "Epoch 25/60\n",
            "25/25 [==============================] - 0s 3ms/step - loss: 0.0833 - accuracy: 0.9812\n",
            "Epoch 26/60\n",
            "25/25 [==============================] - 0s 3ms/step - loss: 0.0795 - accuracy: 0.9837\n",
            "Epoch 27/60\n",
            "25/25 [==============================] - 0s 3ms/step - loss: 0.0763 - accuracy: 0.9837\n",
            "Epoch 28/60\n",
            "25/25 [==============================] - 0s 3ms/step - loss: 0.0729 - accuracy: 0.9850\n",
            "Epoch 29/60\n",
            "25/25 [==============================] - 0s 3ms/step - loss: 0.0700 - accuracy: 0.9850\n",
            "Epoch 30/60\n",
            "25/25 [==============================] - 0s 4ms/step - loss: 0.0675 - accuracy: 0.9850\n",
            "Epoch 31/60\n",
            "25/25 [==============================] - 0s 3ms/step - loss: 0.0651 - accuracy: 0.9850\n",
            "Epoch 32/60\n",
            "25/25 [==============================] - 0s 3ms/step - loss: 0.0627 - accuracy: 0.9850\n",
            "Epoch 33/60\n",
            "25/25 [==============================] - 0s 3ms/step - loss: 0.0608 - accuracy: 0.9850\n",
            "Epoch 34/60\n",
            "25/25 [==============================] - 0s 3ms/step - loss: 0.0588 - accuracy: 0.9875\n",
            "Epoch 35/60\n",
            "25/25 [==============================] - 0s 4ms/step - loss: 0.0570 - accuracy: 0.9875\n",
            "Epoch 36/60\n",
            "25/25 [==============================] - 0s 4ms/step - loss: 0.0555 - accuracy: 0.9862\n",
            "Epoch 37/60\n",
            "25/25 [==============================] - 0s 3ms/step - loss: 0.0543 - accuracy: 0.9862\n",
            "Epoch 38/60\n",
            "25/25 [==============================] - 0s 3ms/step - loss: 0.0523 - accuracy: 0.9875\n",
            "Epoch 39/60\n",
            "25/25 [==============================] - 0s 3ms/step - loss: 0.0511 - accuracy: 0.9875\n",
            "Epoch 40/60\n",
            "25/25 [==============================] - 0s 3ms/step - loss: 0.0503 - accuracy: 0.9875\n",
            "Epoch 41/60\n",
            "25/25 [==============================] - 0s 3ms/step - loss: 0.0485 - accuracy: 0.9875\n",
            "Epoch 42/60\n",
            "25/25 [==============================] - 0s 3ms/step - loss: 0.0480 - accuracy: 0.9887\n",
            "Epoch 43/60\n",
            "25/25 [==============================] - 0s 4ms/step - loss: 0.0463 - accuracy: 0.9875\n",
            "Epoch 44/60\n",
            "25/25 [==============================] - 0s 3ms/step - loss: 0.0453 - accuracy: 0.9875\n",
            "Epoch 45/60\n",
            "25/25 [==============================] - 0s 3ms/step - loss: 0.0443 - accuracy: 0.9887\n",
            "Epoch 46/60\n",
            "25/25 [==============================] - 0s 3ms/step - loss: 0.0433 - accuracy: 0.9900\n",
            "Epoch 47/60\n",
            "25/25 [==============================] - 0s 3ms/step - loss: 0.0424 - accuracy: 0.9887\n",
            "Epoch 48/60\n",
            "25/25 [==============================] - 0s 3ms/step - loss: 0.0416 - accuracy: 0.9887\n",
            "Epoch 49/60\n",
            "25/25 [==============================] - 0s 3ms/step - loss: 0.0406 - accuracy: 0.9900\n",
            "Epoch 50/60\n",
            "25/25 [==============================] - 0s 3ms/step - loss: 0.0399 - accuracy: 0.9900\n",
            "Epoch 51/60\n",
            "25/25 [==============================] - 0s 3ms/step - loss: 0.0395 - accuracy: 0.9887\n",
            "Epoch 52/60\n",
            "25/25 [==============================] - 0s 3ms/step - loss: 0.0384 - accuracy: 0.9912\n",
            "Epoch 53/60\n",
            "25/25 [==============================] - 0s 3ms/step - loss: 0.0376 - accuracy: 0.9900\n",
            "Epoch 54/60\n",
            "25/25 [==============================] - 0s 3ms/step - loss: 0.0369 - accuracy: 0.9912\n",
            "Epoch 55/60\n",
            "25/25 [==============================] - 0s 4ms/step - loss: 0.0364 - accuracy: 0.9912\n",
            "Epoch 56/60\n",
            "25/25 [==============================] - 0s 4ms/step - loss: 0.0359 - accuracy: 0.9900\n",
            "Epoch 57/60\n",
            "25/25 [==============================] - 0s 4ms/step - loss: 0.0351 - accuracy: 0.9900\n",
            "Epoch 58/60\n",
            "25/25 [==============================] - 0s 3ms/step - loss: 0.0346 - accuracy: 0.9900\n",
            "Epoch 59/60\n",
            "25/25 [==============================] - 0s 3ms/step - loss: 0.0341 - accuracy: 0.9900\n",
            "Epoch 60/60\n",
            "25/25 [==============================] - 0s 3ms/step - loss: 0.0333 - accuracy: 0.9912\n"
          ]
        }
      ]
    },
    {
      "cell_type": "code",
      "source": [
        "# Evaluación del modelo\n",
        "test_loss, test_acc = model3.evaluate(X_tf_test, y_test)\n",
        "print('Test accuracy:', test_acc)\n",
        "print('Error de generalización', 1-test_acc)"
      ],
      "metadata": {
        "colab": {
          "base_uri": "https://localhost:8080/"
        },
        "outputId": "45e85cb5-3eec-4845-b288-9d0728028954",
        "id": "9a4v4dmHRbxJ"
      },
      "execution_count": 72,
      "outputs": [
        {
          "output_type": "stream",
          "name": "stdout",
          "text": [
            "7/7 [==============================] - 0s 3ms/step - loss: 0.0347 - accuracy: 0.9900\n",
            "Test accuracy: 0.9900000095367432\n",
            "Error de generalización 0.009999990463256836\n"
          ]
        }
      ]
    },
    {
      "cell_type": "code",
      "source": [
        "# Resumen del modelo\n",
        "model3.summary()"
      ],
      "metadata": {
        "colab": {
          "base_uri": "https://localhost:8080/"
        },
        "outputId": "bbc3a9bf-d3bd-4936-bffe-737c8550ff37",
        "id": "etk5rUZeRbxK"
      },
      "execution_count": 73,
      "outputs": [
        {
          "output_type": "stream",
          "name": "stdout",
          "text": [
            "Model: \"sequential_3\"\n",
            "_________________________________________________________________\n",
            " Layer (type)                Output Shape              Param #   \n",
            "=================================================================\n",
            " module_wrapper_10 (ModuleWr  (None, 4)                84        \n",
            " apper)                                                          \n",
            "                                                                 \n",
            " module_wrapper_11 (ModuleWr  (None, 4)                20        \n",
            " apper)                                                          \n",
            "                                                                 \n",
            " module_wrapper_12 (ModuleWr  (None, 1)                5         \n",
            " apper)                                                          \n",
            "                                                                 \n",
            "=================================================================\n",
            "Total params: 109\n",
            "Trainable params: 109\n",
            "Non-trainable params: 0\n",
            "_________________________________________________________________\n"
          ]
        }
      ]
    },
    {
      "cell_type": "markdown",
      "source": [
        "## Mejor modelo deep learning"
      ],
      "metadata": {
        "id": "FnKf-Rz9Dm1S"
      }
    },
    {
      "cell_type": "markdown",
      "source": [
        "A continuación se grafica la red neuronal seleccionada como mejor modelo"
      ],
      "metadata": {
        "id": "ARwcK6naugRN"
      }
    },
    {
      "cell_type": "code",
      "source": [
        "import errno\n",
        "import pydot\n",
        "from tensorflow.keras.utils import plot_model"
      ],
      "metadata": {
        "id": "jkPeXG_Buc5S"
      },
      "execution_count": 74,
      "outputs": []
    },
    {
      "cell_type": "code",
      "source": [
        "plot_model(model, to_file='best_model.png',show_shapes=True)"
      ],
      "metadata": {
        "colab": {
          "base_uri": "https://localhost:8080/",
          "height": 533
        },
        "id": "VSR8zrEnueL4",
        "outputId": "257dd334-ddd7-412a-bfb1-5c1cb0a4c9e0"
      },
      "execution_count": 75,
      "outputs": [
        {
          "output_type": "execute_result",
          "data": {
            "image/png": "[encoded data removed]",
            "text/plain": [
              "<IPython.core.display.Image object>"
            ]
          },
          "metadata": {},
          "execution_count": 75
        }
      ]
    },
    {
      "cell_type": "markdown",
      "source": [
        "# Conclusión\n",
        "\n",
        "El modelo machine learning  y deep learning predice correctamente si un estudiante va a pasar o no un exámen basado en el género, el tipo de comida que se le da al estudiante, el nivel de preparación para el exámen, el nivel de educación de los padres y el promedio que se obtiene a partir de las notas de matemáticas, lectura y escritura. \n",
        "\n",
        "Comprando ambos modelos se concluye que la red nueronal es el mejor modelo para este caso ya que el error de generalizacion es del 0.5% aproximadamente."
      ],
      "metadata": {
        "id": "ztexS1uNKylh"
      }
    }
  ]
}