{
  "nbformat": 4,
  "nbformat_minor": 0,
  "metadata": {
    "colab": {
      "provenance": []
    },
    "kernelspec": {
      "name": "python3",
      "display_name": "Python 3"
    },
    "language_info": {
      "name": "python"
    }
  },
  "cells": [
    {
      "cell_type": "markdown",
      "source": [
        "# **Proyecto Primera Parte: Exploracion de los datos**\n",
        "Maria Paula Alba Gomez <br>\n",
        "Diseño de Software Inteligente <br>\n",
        "Maestria en Inteligencia Artificial<br>\n",
        "\n"
      ],
      "metadata": {
        "id": "ihtj0JpQxt-b"
      }
    },
    {
      "cell_type": "markdown",
      "source": [
        "Conjunto de datos seleccionado: [Students Performance in Exams](https://www.kaggle.com/datasets/spscientist/students-performance-in-exams?select=StudentsPerformance.csv)\n",
        "\n",
        "Para este proyecto se pretende realizar un modelo de clasificación que predice si se pasa un examen o no de acuerdo a ciertas caracteristicas como son el genero,  el tipo de comida que se le da al estudiante, el nivel de preparación para el examen, el nivel de educación de los\n",
        "padres y a partir del promedio de las notas obtenias en matematicas, lectura y escritura.\n",
        "\n",
        "En esta primera parte se presenta la exploración de los datos"
      ],
      "metadata": {
        "id": "GyMraqMXu0DR"
      }
    },
    {
      "cell_type": "markdown",
      "source": [
        "# Importación de Librerias"
      ],
      "metadata": {
        "id": "iKb2XsA8bx0T"
      }
    },
    {
      "cell_type": "markdown",
      "source": [
        "Se importan las librerias necesarias para la ejecion del proyecto."
      ],
      "metadata": {
        "id": "bdkTrnKGwDvL"
      }
    },
    {
      "cell_type": "code",
      "source": [
        "import sys\n",
        "from packaging import version\n",
        "\n",
        "import sklearn\n",
        "\n",
        "import pandas as pd\n",
        "import numpy as np\n",
        "\n",
        "import matplotlib.pyplot as plt\n",
        "import seaborn as sns\n",
        "\n",
        "from pathlib import Path"
      ],
      "metadata": {
        "id": "iJUitAGwbn2Z"
      },
      "execution_count": 55,
      "outputs": []
    },
    {
      "cell_type": "markdown",
      "source": [
        "Se requiere Python 3.7 o superior y  Scikit-Learn ≥ 1.0.1:"
      ],
      "metadata": {
        "id": "e63ggEVAzGiW"
      }
    },
    {
      "cell_type": "code",
      "execution_count": 2,
      "metadata": {
        "colab": {
          "base_uri": "https://localhost:8080/",
          "height": 0
        },
        "id": "S0_y7HJgrJcF",
        "outputId": "a2e9fa7f-83f0-4a35-d17c-842b7b693435"
      },
      "outputs": [
        {
          "output_type": "stream",
          "name": "stdout",
          "text": [
            "1.0.2\n"
          ]
        }
      ],
      "source": [
        "assert sys.version_info >= (3, 7)\n",
        "print(version.parse(sklearn.__version__))"
      ]
    },
    {
      "cell_type": "markdown",
      "source": [
        "Código extra - código para guardar las figuras como PNG de alta resolución para el libro (Tomado del colab de ejemplo presentado en la clase)"
      ],
      "metadata": {
        "id": "SW3JapaFg80Q"
      }
    },
    {
      "cell_type": "code",
      "source": [
        "IMAGES_PATH = Path() / \"images\" / \"end_to_end_project\"\n",
        "IMAGES_PATH.mkdir(parents=True, exist_ok=True)\n",
        "\n",
        "def save_fig(fig_id, tight_layout=True, fig_extension=\"png\", resolution=300):\n",
        "    path = IMAGES_PATH / f\"{fig_id}.{fig_extension}\"\n",
        "    if tight_layout:\n",
        "        plt.tight_layout()\n",
        "    plt.savefig(path, format=fig_extension, dpi=resolution)"
      ],
      "metadata": {
        "id": "yf1rroA-g5lG"
      },
      "execution_count": 3,
      "outputs": []
    },
    {
      "cell_type": "markdown",
      "source": [
        "# Cargue de datos"
      ],
      "metadata": {
        "id": "3KlH96-R_pu-"
      }
    },
    {
      "cell_type": "markdown",
      "source": [
        "El conjunto de datos [Students Performance in Exams](https://www.kaggle.com/datasets/spscientist/students-performance-in-exams?select=StudentsPerformance.csv) fue descargado y subido a la cuenta propia de [GitHub](https://github.com/mariap-alba/DSI).\n",
        "\n"
      ],
      "metadata": {
        "id": "6atdD3-0aSBy"
      }
    },
    {
      "cell_type": "code",
      "source": [
        "url = \"https://raw.githubusercontent.com/mariap-alba/DSI/master/dataset/StudentsPerformance.csv\"\n",
        "dataset = pd.read_csv(url)"
      ],
      "metadata": {
        "id": "kM_MJLRhZfyj"
      },
      "execution_count": 4,
      "outputs": []
    },
    {
      "cell_type": "markdown",
      "source": [
        "# Visualización de los datos"
      ],
      "metadata": {
        "id": "biv7v4YV_w8_"
      }
    },
    {
      "cell_type": "markdown",
      "source": [
        "Se visualiza las primeras 5 lineas del dataset con el metodo head()"
      ],
      "metadata": {
        "id": "ACWNpWQZABK0"
      }
    },
    {
      "cell_type": "code",
      "source": [
        "dataset.head()"
      ],
      "metadata": {
        "colab": {
          "base_uri": "https://localhost:8080/",
          "height": 206
        },
        "id": "akNLLigT_2JA",
        "outputId": "54ee16ec-57e6-424a-e520-d54443db1450"
      },
      "execution_count": 5,
      "outputs": [
        {
          "output_type": "execute_result",
          "data": {
            "text/plain": [
              "   gender race/ethnicity parental level of education         lunch  \\\n",
              "0  female        group B           bachelor's degree      standard   \n",
              "1  female        group C                some college      standard   \n",
              "2  female        group B             master's degree      standard   \n",
              "3    male        group A          associate's degree  free/reduced   \n",
              "4    male        group C                some college      standard   \n",
              "\n",
              "  test preparation course  math score  reading score  writing score  \n",
              "0                    none          72             72             74  \n",
              "1               completed          69             90             88  \n",
              "2                    none          90             95             93  \n",
              "3                    none          47             57             44  \n",
              "4                    none          76             78             75  "
            ],
            "text/html": [
              "\n",
              "  <div id=\"df-c858c3bc-b59b-41b7-a8d1-e27f65a1d11e\">\n",
              "    <div class=\"colab-df-container\">\n",
              "      <div>\n",
              "<style scoped>\n",
              "    .dataframe tbody tr th:only-of-type {\n",
              "        vertical-align: middle;\n",
              "    }\n",
              "\n",
              "    .dataframe tbody tr th {\n",
              "        vertical-align: top;\n",
              "    }\n",
              "\n",
              "    .dataframe thead th {\n",
              "        text-align: right;\n",
              "    }\n",
              "</style>\n",
              "<table border=\"1\" class=\"dataframe\">\n",
              "  <thead>\n",
              "    <tr style=\"text-align: right;\">\n",
              "      <th></th>\n",
              "      <th>gender</th>\n",
              "      <th>race/ethnicity</th>\n",
              "      <th>parental level of education</th>\n",
              "      <th>lunch</th>\n",
              "      <th>test preparation course</th>\n",
              "      <th>math score</th>\n",
              "      <th>reading score</th>\n",
              "      <th>writing score</th>\n",
              "    </tr>\n",
              "  </thead>\n",
              "  <tbody>\n",
              "    <tr>\n",
              "      <th>0</th>\n",
              "      <td>female</td>\n",
              "      <td>group B</td>\n",
              "      <td>bachelor's degree</td>\n",
              "      <td>standard</td>\n",
              "      <td>none</td>\n",
              "      <td>72</td>\n",
              "      <td>72</td>\n",
              "      <td>74</td>\n",
              "    </tr>\n",
              "    <tr>\n",
              "      <th>1</th>\n",
              "      <td>female</td>\n",
              "      <td>group C</td>\n",
              "      <td>some college</td>\n",
              "      <td>standard</td>\n",
              "      <td>completed</td>\n",
              "      <td>69</td>\n",
              "      <td>90</td>\n",
              "      <td>88</td>\n",
              "    </tr>\n",
              "    <tr>\n",
              "      <th>2</th>\n",
              "      <td>female</td>\n",
              "      <td>group B</td>\n",
              "      <td>master's degree</td>\n",
              "      <td>standard</td>\n",
              "      <td>none</td>\n",
              "      <td>90</td>\n",
              "      <td>95</td>\n",
              "      <td>93</td>\n",
              "    </tr>\n",
              "    <tr>\n",
              "      <th>3</th>\n",
              "      <td>male</td>\n",
              "      <td>group A</td>\n",
              "      <td>associate's degree</td>\n",
              "      <td>free/reduced</td>\n",
              "      <td>none</td>\n",
              "      <td>47</td>\n",
              "      <td>57</td>\n",
              "      <td>44</td>\n",
              "    </tr>\n",
              "    <tr>\n",
              "      <th>4</th>\n",
              "      <td>male</td>\n",
              "      <td>group C</td>\n",
              "      <td>some college</td>\n",
              "      <td>standard</td>\n",
              "      <td>none</td>\n",
              "      <td>76</td>\n",
              "      <td>78</td>\n",
              "      <td>75</td>\n",
              "    </tr>\n",
              "  </tbody>\n",
              "</table>\n",
              "</div>\n",
              "      <button class=\"colab-df-convert\" onclick=\"convertToInteractive('df-c858c3bc-b59b-41b7-a8d1-e27f65a1d11e')\"\n",
              "              title=\"Convert this dataframe to an interactive table.\"\n",
              "              style=\"display:none;\">\n",
              "        \n",
              "  <svg xmlns=\"http://www.w3.org/2000/svg\" height=\"24px\"viewBox=\"0 0 24 24\"\n",
              "       width=\"24px\">\n",
              "    <path d=\"M0 0h24v24H0V0z\" fill=\"none\"/>\n",
              "    <path d=\"M18.56 5.44l.94 2.06.94-2.06 2.06-.94-2.06-.94-.94-2.06-.94 2.06-2.06.94zm-11 1L8.5 8.5l.94-2.06 2.06-.94-2.06-.94L8.5 2.5l-.94 2.06-2.06.94zm10 10l.94 2.06.94-2.06 2.06-.94-2.06-.94-.94-2.06-.94 2.06-2.06.94z\"/><path d=\"M17.41 7.96l-1.37-1.37c-.4-.4-.92-.59-1.43-.59-.52 0-1.04.2-1.43.59L10.3 9.45l-7.72 7.72c-.78.78-.78 2.05 0 2.83L4 21.41c.39.39.9.59 1.41.59.51 0 1.02-.2 1.41-.59l7.78-7.78 2.81-2.81c.8-.78.8-2.07 0-2.86zM5.41 20L4 18.59l7.72-7.72 1.47 1.35L5.41 20z\"/>\n",
              "  </svg>\n",
              "      </button>\n",
              "      \n",
              "  <style>\n",
              "    .colab-df-container {\n",
              "      display:flex;\n",
              "      flex-wrap:wrap;\n",
              "      gap: 12px;\n",
              "    }\n",
              "\n",
              "    .colab-df-convert {\n",
              "      background-color: #E8F0FE;\n",
              "      border: none;\n",
              "      border-radius: 50%;\n",
              "      cursor: pointer;\n",
              "      display: none;\n",
              "      fill: #1967D2;\n",
              "      height: 32px;\n",
              "      padding: 0 0 0 0;\n",
              "      width: 32px;\n",
              "    }\n",
              "\n",
              "    .colab-df-convert:hover {\n",
              "      background-color: #E2EBFA;\n",
              "      box-shadow: 0px 1px 2px rgba(60, 64, 67, 0.3), 0px 1px 3px 1px rgba(60, 64, 67, 0.15);\n",
              "      fill: #174EA6;\n",
              "    }\n",
              "\n",
              "    [theme=dark] .colab-df-convert {\n",
              "      background-color: #3B4455;\n",
              "      fill: #D2E3FC;\n",
              "    }\n",
              "\n",
              "    [theme=dark] .colab-df-convert:hover {\n",
              "      background-color: #434B5C;\n",
              "      box-shadow: 0px 1px 3px 1px rgba(0, 0, 0, 0.15);\n",
              "      filter: drop-shadow(0px 1px 2px rgba(0, 0, 0, 0.3));\n",
              "      fill: #FFFFFF;\n",
              "    }\n",
              "  </style>\n",
              "\n",
              "      <script>\n",
              "        const buttonEl =\n",
              "          document.querySelector('#df-c858c3bc-b59b-41b7-a8d1-e27f65a1d11e button.colab-df-convert');\n",
              "        buttonEl.style.display =\n",
              "          google.colab.kernel.accessAllowed ? 'block' : 'none';\n",
              "\n",
              "        async function convertToInteractive(key) {\n",
              "          const element = document.querySelector('#df-c858c3bc-b59b-41b7-a8d1-e27f65a1d11e');\n",
              "          const dataTable =\n",
              "            await google.colab.kernel.invokeFunction('convertToInteractive',\n",
              "                                                     [key], {});\n",
              "          if (!dataTable) return;\n",
              "\n",
              "          const docLinkHtml = 'Like what you see? Visit the ' +\n",
              "            '<a target=\"_blank\" href=https://colab.research.google.com/notebooks/data_table.ipynb>data table notebook</a>'\n",
              "            + ' to learn more about interactive tables.';\n",
              "          element.innerHTML = '';\n",
              "          dataTable['output_type'] = 'display_data';\n",
              "          await google.colab.output.renderOutput(dataTable, element);\n",
              "          const docLink = document.createElement('div');\n",
              "          docLink.innerHTML = docLinkHtml;\n",
              "          element.appendChild(docLink);\n",
              "        }\n",
              "      </script>\n",
              "    </div>\n",
              "  </div>\n",
              "  "
            ]
          },
          "metadata": {},
          "execution_count": 5
        }
      ]
    },
    {
      "cell_type": "markdown",
      "source": [
        "El dataset cuenta con 8 atributos: gender, race/ethnicity, parental level of education, lunch, test preparation course, math score, reading score y writing score."
      ],
      "metadata": {
        "id": "VuOAXcX_Bsa0"
      }
    },
    {
      "cell_type": "markdown",
      "source": [
        "Se realiza una copia del dataset con el metodo copy() para no modificar el dataset original."
      ],
      "metadata": {
        "id": "0Av0e6eWxstT"
      }
    },
    {
      "cell_type": "code",
      "source": [
        "students = dataset.copy()"
      ],
      "metadata": {
        "id": "W7xZUAcjiq7f"
      },
      "execution_count": 6,
      "outputs": []
    },
    {
      "cell_type": "markdown",
      "source": [
        "Se obtiene el promedio de las caractericticas math score, reading score y writing score por cada instancia."
      ],
      "metadata": {
        "id": "uRuhG69mx3s0"
      }
    },
    {
      "cell_type": "code",
      "source": [
        "mean_score= []\n",
        "for i in range(len(dataset)):\n",
        "  suma = dataset['math score'][i] + dataset['reading score'][i] + dataset['writing score'][i]\n",
        "  mean = suma/3\n",
        "  mean_score.append(round(mean,1))\n",
        "\n",
        "print(mean_score)"
      ],
      "metadata": {
        "colab": {
          "base_uri": "https://localhost:8080/",
          "height": 0
        },
        "id": "X5WzGK2shyd7",
        "outputId": "ca8e5d7c-3838-439c-df31-138ca0fba218"
      },
      "execution_count": 7,
      "outputs": [
        {
          "output_type": "stream",
          "name": "stdout",
          "text": [
            "[72.7, 82.3, 92.7, 49.3, 76.3, 77.3, 91.7, 40.7, 65.0, 49.3, 54.7, 45.0, 73.0, 73.3, 53.7, 74.0, 87.7, 26.0, 44.7, 57.7, 66.0, 70.0, 50.3, 71.7, 75.0, 73.0, 59.3, 70.3, 68.3, 69.0, 72.3, 63.0, 64.3, 40.0, 88.7, 80.3, 79.3, 57.7, 84.3, 56.7, 56.7, 66.3, 58.7, 63.3, 53.3, 58.7, 60.7, 71.0, 69.0, 82.7, 52.0, 71.3, 46.3, 80.3, 80.7, 39.0, 84.3, 52.0, 58.3, 9.0, 75.0, 37.3, 59.3, 73.3, 58.7, 64.0, 39.7, 68.7, 58.3, 53.3, 64.7, 60.3, 46.7, 58.0, 46.3, 41.0, 26.0, 79.7, 69.0, 66.0, 48.7, 46.3, 50.3, 66.3, 38.3, 78.3, 82.3, 72.0, 65.0, 80.3, 70.3, 32.3, 73.7, 46.0, 85.7, 80.3, 64.3, 68.3, 62.3, 64.7, 71.0, 72.0, 88.3, 50.3, 91.3, 65.7, 95.7, 64.3, 66.0, 68.7, 88.0, 55.3, 51.3, 54.3, 99.7, 78.3, 80.7, 79.7, 58.3, 63.0, 86.7, 90.7, 91.3, 58.7, 78.7, 89.3, 69.0, 72.0, 79.3, 50.3, 85.0, 43.3, 77.0, 80.0, 76.0, 53.7, 48.7, 60.3, 64.0, 67.0, 73.0, 61.7, 50.3, 49.0, 79.7, 31.3, 82.3, 69.0, 74.7, 97.7, 66.0, 70.7, 65.0, 50.0, 63.3, 82.3, 72.7, 60.0, 78.0, 64.0, 78.0, 82.7, 51.3, 51.3, 88.0, 98.7, 51.7, 70.7, 76.3, 70.7, 73.0, 86.7, 82.0, 66.7, 49.3, 86.3, 52.7, 75.0, 61.3, 99.0, 68.3, 58.7, 49.0, 68.0, 48.7, 65.7, 73.7, 65.3, 48.3, 84.0, 66.7, 79.3, 64.0, 67.0, 79.3, 56.0, 64.3, 54.0, 51.0, 77.7, 79.0, 74.3, 71.7, 64.7, 47.3, 74.3, 68.7, 79.0, 77.0, 61.7, 79.3, 30.0, 54.7, 55.7, 86.3, 80.7, 85.7, 38.3, 71.0, 57.7, 66.0, 81.7, 60.7, 80.3, 63.7, 51.7, 71.7, 53.7, 68.0, 92.3, 68.7, 43.7, 78.7, 85.7, 83.0, 77.3, 65.3, 66.0, 52.3, 81.3, 69.0, 82.0, 54.3, 51.0, 72.7, 77.3, 79.7, 65.3, 63.7, 60.3, 48.3, 79.0, 66.7, 77.3, 52.7, 68.3, 68.3, 77.3, 74.3, 75.7, 73.3, 78.7, 48.3, 94.0, 72.3, 47.3, 73.0, 72.7, 91.7, 72.3, 64.3, 49.7, 52.7, 68.7, 83.0, 78.0, 90.0, 65.7, 77.0, 62.0, 49.0, 46.3, 78.7, 75.3, 43.0, 81.7, 89.0, 79.3, 79.7, 76.7, 71.3, 76.3, 60.0, 71.0, 78.3, 63.0, 43.3, 71.0, 45.3, 84.0, 80.0, 54.0, 77.3, 73.3, 77.3, 68.3, 89.0, 49.0, 63.7, 52.7, 76.3, 61.0, 65.3, 68.0, 66.0, 67.3, 83.3, 77.7, 67.7, 61.3, 76.7, 80.0, 77.3, 49.7, 43.3, 88.7, 61.3, 23.3, 78.0, 49.0, 64.0, 39.7, 57.0, 83.0, 90.3, 65.0, 71.7, 47.7, 29.7, 50.0, 57.0, 65.7, 73.0, 68.7, 73.0, 75.7, 60.0, 88.7, 71.7, 79.0, 62.0, 58.3, 73.7, 53.7, 66.7, 67.7, 61.7, 59.0, 60.7, 86.3, 59.7, 82.3, 56.0, 31.0, 59.0, 55.7, 60.0, 62.7, 55.3, 80.7, 77.3, 62.7, 73.3, 91.7, 67.3, 43.3, 84.0, 93.3, 77.0, 64.0, 83.0, 94.0, 77.0, 44.0, 41.3, 72.7, 69.0, 67.3, 63.3, 72.7, 66.3, 74.0, 70.0, 55.7, 72.0, 44.7, 60.0, 89.7, 64.7, 57.7, 60.0, 46.3, 56.3, 95.7, 58.3, 68.0, 64.3, 79.7, 55.0, 85.3, 71.7, 81.7, 65.7, 65.7, 67.3, 75.3, 71.0, 71.3, 63.0, 55.7, 89.3, 59.7, 57.3, 74.7, 38.0, 63.7, 85.0, 68.3, 59.0, 61.7, 63.0, 67.7, 57.3, 52.0, 68.3, 50.3, 69.0, 71.3, 59.0, 86.3, 75.7, 79.7, 67.0, 77.3, 78.0, 72.7, 65.0, 82.3, 45.0, 75.3, 78.0, 96.3, 72.0, 57.3, 58.7, 46.7, 85.7, 51.7, 100.0, 68.3, 55.3, 51.0, 72.3, 86.0, 65.0, 87.3, 31.7, 68.0, 83.3, 80.3, 86.0, 68.7, 79.3, 62.3, 90.3, 76.7, 68.0, 73.3, 63.0, 71.3, 70.7, 55.7, 65.7, 52.3, 51.7, 71.7, 54.7, 69.7, 58.0, 81.0, 75.3, 66.0, 85.3, 86.3, 62.0, 66.0, 51.3, 71.0, 67.7, 73.0, 78.3, 91.0, 59.3, 92.0, 51.0, 81.3, 68.0, 56.0, 78.0, 88.3, 73.3, 52.3, 54.3, 59.0, 89.3, 82.7, 82.3, 71.0, 74.0, 74.7, 57.3, 87.0, 61.3, 54.3, 51.3, 62.3, 59.0, 44.0, 39.0, 68.7, 69.3, 51.3, 60.3, 87.0, 70.0, 77.3, 56.3, 59.7, 74.0, 91.7, 70.7, 80.3, 79.0, 88.7, 64.3, 80.3, 96.3, 67.7, 64.3, 73.3, 73.3, 88.3, 46.0, 67.7, 46.0, 34.7, 68.7, 64.7, 64.3, 67.0, 76.0, 70.3, 92.7, 74.3, 48.3, 45.3, 97.3, 70.0, 52.7, 67.7, 72.0, 93.0, 57.0, 60.0, 75.3, 49.3, 54.7, 87.0, 54.0, 60.7, 91.3, 78.7, 71.3, 76.0, 74.3, 72.3, 67.0, 56.3, 61.0, 59.7, 56.3, 61.0, 66.7, 74.3, 97.0, 69.0, 23.0, 51.7, 73.0, 76.0, 59.0, 29.3, 78.0, 56.0, 87.7, 69.7, 83.7, 50.7, 62.3, 62.0, 64.0, 61.0, 91.7, 72.0, 89.3, 66.7, 40.0, 83.0, 86.7, 68.7, 50.0, 60.3, 53.7, 94.0, 60.3, 98.7, 67.3, 51.7, 50.7, 50.0, 67.0, 68.0, 73.7, 82.7, 82.7, 69.7, 76.0, 86.7, 78.7, 74.3, 48.0, 84.0, 77.3, 77.7, 65.0, 75.7, 64.7, 64.7, 52.7, 76.3, 53.3, 74.7, 89.7, 69.7, 77.0, 65.3, 69.3, 65.3, 53.7, 87.3, 74.7, 67.3, 65.0, 67.0, 68.7, 56.7, 69.0, 83.0, 69.3, 76.7, 70.0, 53.0, 74.3, 77.7, 74.7, 60.0, 75.7, 76.0, 78.0, 61.3, 71.0, 62.7, 57.0, 37.7, 65.3, 97.7, 76.0, 76.0, 51.7, 88.7, 51.7, 75.7, 73.7, 75.7, 56.0, 84.7, 82.3, 67.0, 71.3, 63.7, 80.7, 65.3, 86.0, 64.7, 62.0, 66.3, 38.7, 59.0, 85.0, 53.7, 89.0, 83.3, 99.0, 82.0, 68.0, 85.7, 74.3, 97.0, 75.3, 81.3, 68.0, 57.7, 84.0, 46.7, 43.7, 75.3, 72.3, 58.7, 83.0, 43.0, 75.0, 48.0, 90.0, 48.7, 56.0, 61.0, 85.0, 64.0, 75.0, 58.7, 75.0, 50.0, 82.3, 68.0, 52.3, 75.0, 71.7, 67.0, 56.3, 85.7, 69.3, 68.3, 77.0, 84.0, 55.3, 90.3, 55.0, 70.0, 58.7, 74.3, 63.0, 53.3, 81.7, 62.3, 60.7, 72.7, 70.0, 66.0, 71.3, 58.3, 49.7, 74.0, 63.7, 73.0, 63.7, 54.0, 69.3, 40.7, 77.7, 87.0, 53.0, 83.7, 81.0, 57.7, 83.7, 42.3, 76.0, 29.7, 64.7, 59.3, 56.7, 65.3, 69.7, 83.3, 48.3, 66.0, 70.0, 78.3, 61.0, 54.7, 69.3, 76.3, 92.0, 84.7, 75.7, 76.7, 71.0, 42.0, 78.0, 54.7, 39.3, 47.0, 61.7, 82.3, 78.3, 89.0, 56.0, 69.0, 66.7, 85.3, 89.0, 87.0, 50.7, 80.0, 52.7, 62.3, 64.7, 70.0, 78.7, 58.3, 59.3, 83.0, 60.7, 82.7, 51.0, 66.0, 64.7, 78.7, 56.0, 72.0, 45.7, 57.7, 34.3, 75.7, 56.3, 86.3, 87.0, 56.0, 66.3, 74.7, 68.3, 64.0, 88.3, 70.0, 60.3, 96.7, 69.3, 75.0, 49.0, 77.3, 56.0, 84.7, 39.7, 74.0, 93.7, 84.0, 54.7, 48.0, 74.7, 50.3, 54.7, 72.7, 81.3, 87.3, 55.3, 70.0, 82.3, 57.3, 70.3, 71.3, 64.3, 70.3, 69.3, 48.3, 52.0, 72.7, 96.0, 61.7, 69.3, 47.7, 87.3, 87.3, 63.3, 79.0, 63.3, 34.7, 30.7, 73.3, 61.3, 75.0, 86.0, 75.0, 41.0, 97.7, 78.3, 80.7, 52.0, 84.7, 71.3, 68.0, 46.7, 78.3, 59.7, 58.3, 54.0, 68.0, 100.0, 52.3, 71.3, 92.7, 68.7, 44.7, 68.0, 61.3, 71.0, 66.0, 57.3, 65.7, 44.3, 51.7, 70.3, 60.3, 68.3, 73.0, 91.7, 63.7, 59.0, 57.3, 83.7, 71.3, 70.0, 88.3, 70.3, 61.3, 62.3, 57.7, 81.3, 55.7, 50.3, 68.3, 79.3, 78.3, 73.3, 54.7, 66.7, 63.7, 84.0, 97.3, 55.7, 75.7, 59.3, 51.7, 100.0, 72.0, 62.3, 68.0, 66.0, 62.0, 70.3, 79.7, 96.3, 73.0, 54.3, 58.3, 61.3, 74.3, 60.7, 61.7, 48.0, 93.3, 18.3, 79.0, 83.3, 85.3, 77.0, 54.0, 50.0, 77.3, 44.7, 78.7, 80.7, 75.0, 69.0, 69.3, 62.7, 94.0, 57.3, 65.0, 74.3, 83.0]\n"
          ]
        }
      ]
    },
    {
      "cell_type": "markdown",
      "source": [
        "Se agrega al dataset una nueva caracteristica llamada mean_score el cual contiene el promedio de las notas obtenidas en matematicas, lectura y escritura de cada uno de los estudiantes."
      ],
      "metadata": {
        "id": "_eYdNYUfyHzC"
      }
    },
    {
      "cell_type": "code",
      "source": [
        "students['mean_score'] = mean_score\n",
        "students.head()"
      ],
      "metadata": {
        "colab": {
          "base_uri": "https://localhost:8080/",
          "height": 250
        },
        "id": "v88Nys5Oi0Qg",
        "outputId": "924d6bcd-3ed0-47d1-f010-cb908c2b60f6"
      },
      "execution_count": 59,
      "outputs": [
        {
          "output_type": "execute_result",
          "data": {
            "text/plain": [
              "   gender race/ethnicity parental level of education         lunch  \\\n",
              "0  female        group B           bachelor's degree      standard   \n",
              "1  female        group C                some college      standard   \n",
              "2  female        group B             master's degree      standard   \n",
              "3    male        group A          associate's degree  free/reduced   \n",
              "4    male        group C                some college      standard   \n",
              "\n",
              "  test preparation course  math score  reading score  writing score  \\\n",
              "0                    none          72             72             74   \n",
              "1               completed          69             90             88   \n",
              "2                    none          90             95             93   \n",
              "3                    none          47             57             44   \n",
              "4                    none          76             78             75   \n",
              "\n",
              "   mean_score  pass_test  \n",
              "0        72.7          1  \n",
              "1        82.3          1  \n",
              "2        92.7          1  \n",
              "3        49.3          0  \n",
              "4        76.3          1  "
            ],
            "text/html": [
              "\n",
              "  <div id=\"df-5f789897-d27e-4650-b7ac-bb28c732d1aa\">\n",
              "    <div class=\"colab-df-container\">\n",
              "      <div>\n",
              "<style scoped>\n",
              "    .dataframe tbody tr th:only-of-type {\n",
              "        vertical-align: middle;\n",
              "    }\n",
              "\n",
              "    .dataframe tbody tr th {\n",
              "        vertical-align: top;\n",
              "    }\n",
              "\n",
              "    .dataframe thead th {\n",
              "        text-align: right;\n",
              "    }\n",
              "</style>\n",
              "<table border=\"1\" class=\"dataframe\">\n",
              "  <thead>\n",
              "    <tr style=\"text-align: right;\">\n",
              "      <th></th>\n",
              "      <th>gender</th>\n",
              "      <th>race/ethnicity</th>\n",
              "      <th>parental level of education</th>\n",
              "      <th>lunch</th>\n",
              "      <th>test preparation course</th>\n",
              "      <th>math score</th>\n",
              "      <th>reading score</th>\n",
              "      <th>writing score</th>\n",
              "      <th>mean_score</th>\n",
              "      <th>pass_test</th>\n",
              "    </tr>\n",
              "  </thead>\n",
              "  <tbody>\n",
              "    <tr>\n",
              "      <th>0</th>\n",
              "      <td>female</td>\n",
              "      <td>group B</td>\n",
              "      <td>bachelor's degree</td>\n",
              "      <td>standard</td>\n",
              "      <td>none</td>\n",
              "      <td>72</td>\n",
              "      <td>72</td>\n",
              "      <td>74</td>\n",
              "      <td>72.7</td>\n",
              "      <td>1</td>\n",
              "    </tr>\n",
              "    <tr>\n",
              "      <th>1</th>\n",
              "      <td>female</td>\n",
              "      <td>group C</td>\n",
              "      <td>some college</td>\n",
              "      <td>standard</td>\n",
              "      <td>completed</td>\n",
              "      <td>69</td>\n",
              "      <td>90</td>\n",
              "      <td>88</td>\n",
              "      <td>82.3</td>\n",
              "      <td>1</td>\n",
              "    </tr>\n",
              "    <tr>\n",
              "      <th>2</th>\n",
              "      <td>female</td>\n",
              "      <td>group B</td>\n",
              "      <td>master's degree</td>\n",
              "      <td>standard</td>\n",
              "      <td>none</td>\n",
              "      <td>90</td>\n",
              "      <td>95</td>\n",
              "      <td>93</td>\n",
              "      <td>92.7</td>\n",
              "      <td>1</td>\n",
              "    </tr>\n",
              "    <tr>\n",
              "      <th>3</th>\n",
              "      <td>male</td>\n",
              "      <td>group A</td>\n",
              "      <td>associate's degree</td>\n",
              "      <td>free/reduced</td>\n",
              "      <td>none</td>\n",
              "      <td>47</td>\n",
              "      <td>57</td>\n",
              "      <td>44</td>\n",
              "      <td>49.3</td>\n",
              "      <td>0</td>\n",
              "    </tr>\n",
              "    <tr>\n",
              "      <th>4</th>\n",
              "      <td>male</td>\n",
              "      <td>group C</td>\n",
              "      <td>some college</td>\n",
              "      <td>standard</td>\n",
              "      <td>none</td>\n",
              "      <td>76</td>\n",
              "      <td>78</td>\n",
              "      <td>75</td>\n",
              "      <td>76.3</td>\n",
              "      <td>1</td>\n",
              "    </tr>\n",
              "  </tbody>\n",
              "</table>\n",
              "</div>\n",
              "      <button class=\"colab-df-convert\" onclick=\"convertToInteractive('df-5f789897-d27e-4650-b7ac-bb28c732d1aa')\"\n",
              "              title=\"Convert this dataframe to an interactive table.\"\n",
              "              style=\"display:none;\">\n",
              "        \n",
              "  <svg xmlns=\"http://www.w3.org/2000/svg\" height=\"24px\"viewBox=\"0 0 24 24\"\n",
              "       width=\"24px\">\n",
              "    <path d=\"M0 0h24v24H0V0z\" fill=\"none\"/>\n",
              "    <path d=\"M18.56 5.44l.94 2.06.94-2.06 2.06-.94-2.06-.94-.94-2.06-.94 2.06-2.06.94zm-11 1L8.5 8.5l.94-2.06 2.06-.94-2.06-.94L8.5 2.5l-.94 2.06-2.06.94zm10 10l.94 2.06.94-2.06 2.06-.94-2.06-.94-.94-2.06-.94 2.06-2.06.94z\"/><path d=\"M17.41 7.96l-1.37-1.37c-.4-.4-.92-.59-1.43-.59-.52 0-1.04.2-1.43.59L10.3 9.45l-7.72 7.72c-.78.78-.78 2.05 0 2.83L4 21.41c.39.39.9.59 1.41.59.51 0 1.02-.2 1.41-.59l7.78-7.78 2.81-2.81c.8-.78.8-2.07 0-2.86zM5.41 20L4 18.59l7.72-7.72 1.47 1.35L5.41 20z\"/>\n",
              "  </svg>\n",
              "      </button>\n",
              "      \n",
              "  <style>\n",
              "    .colab-df-container {\n",
              "      display:flex;\n",
              "      flex-wrap:wrap;\n",
              "      gap: 12px;\n",
              "    }\n",
              "\n",
              "    .colab-df-convert {\n",
              "      background-color: #E8F0FE;\n",
              "      border: none;\n",
              "      border-radius: 50%;\n",
              "      cursor: pointer;\n",
              "      display: none;\n",
              "      fill: #1967D2;\n",
              "      height: 32px;\n",
              "      padding: 0 0 0 0;\n",
              "      width: 32px;\n",
              "    }\n",
              "\n",
              "    .colab-df-convert:hover {\n",
              "      background-color: #E2EBFA;\n",
              "      box-shadow: 0px 1px 2px rgba(60, 64, 67, 0.3), 0px 1px 3px 1px rgba(60, 64, 67, 0.15);\n",
              "      fill: #174EA6;\n",
              "    }\n",
              "\n",
              "    [theme=dark] .colab-df-convert {\n",
              "      background-color: #3B4455;\n",
              "      fill: #D2E3FC;\n",
              "    }\n",
              "\n",
              "    [theme=dark] .colab-df-convert:hover {\n",
              "      background-color: #434B5C;\n",
              "      box-shadow: 0px 1px 3px 1px rgba(0, 0, 0, 0.15);\n",
              "      filter: drop-shadow(0px 1px 2px rgba(0, 0, 0, 0.3));\n",
              "      fill: #FFFFFF;\n",
              "    }\n",
              "  </style>\n",
              "\n",
              "      <script>\n",
              "        const buttonEl =\n",
              "          document.querySelector('#df-5f789897-d27e-4650-b7ac-bb28c732d1aa button.colab-df-convert');\n",
              "        buttonEl.style.display =\n",
              "          google.colab.kernel.accessAllowed ? 'block' : 'none';\n",
              "\n",
              "        async function convertToInteractive(key) {\n",
              "          const element = document.querySelector('#df-5f789897-d27e-4650-b7ac-bb28c732d1aa');\n",
              "          const dataTable =\n",
              "            await google.colab.kernel.invokeFunction('convertToInteractive',\n",
              "                                                     [key], {});\n",
              "          if (!dataTable) return;\n",
              "\n",
              "          const docLinkHtml = 'Like what you see? Visit the ' +\n",
              "            '<a target=\"_blank\" href=https://colab.research.google.com/notebooks/data_table.ipynb>data table notebook</a>'\n",
              "            + ' to learn more about interactive tables.';\n",
              "          element.innerHTML = '';\n",
              "          dataTable['output_type'] = 'display_data';\n",
              "          await google.colab.output.renderOutput(dataTable, element);\n",
              "          const docLink = document.createElement('div');\n",
              "          docLink.innerHTML = docLinkHtml;\n",
              "          element.appendChild(docLink);\n",
              "        }\n",
              "      </script>\n",
              "    </div>\n",
              "  </div>\n",
              "  "
            ]
          },
          "metadata": {},
          "execution_count": 59
        }
      ]
    },
    {
      "cell_type": "markdown",
      "source": [
        "Si el estudiante supera la nota de 65 en el prmedio de las tres materias se le asigna 1 que quiere decir que aprueba el examen, en caso contrario se le asigna 0"
      ],
      "metadata": {
        "id": "C0sw9_1Zz2ag"
      }
    },
    {
      "cell_type": "code",
      "source": [
        "pass_test= []\n",
        "for i in range(len(students)):\n",
        "  if students['mean_score'][i] >= 65:\n",
        "    pass_test.append(1)\n",
        "  else:\n",
        "    pass_test.append(0)\n",
        "\n",
        "print(pass_test)"
      ],
      "metadata": {
        "colab": {
          "base_uri": "https://localhost:8080/",
          "height": 0
        },
        "id": "u3GGbmT2zAK6",
        "outputId": "337b20e8-e1df-474f-a8a3-2ca84fe97e31"
      },
      "execution_count": 60,
      "outputs": [
        {
          "output_type": "stream",
          "name": "stdout",
          "text": [
            "[1, 1, 1, 0, 1, 1, 1, 0, 1, 0, 0, 0, 1, 1, 0, 1, 1, 0, 0, 0, 1, 1, 0, 1, 1, 1, 0, 1, 1, 1, 1, 0, 0, 0, 1, 1, 1, 0, 1, 0, 0, 1, 0, 0, 0, 0, 0, 1, 1, 1, 0, 1, 0, 1, 1, 0, 1, 0, 0, 0, 1, 0, 0, 1, 0, 0, 0, 1, 0, 0, 0, 0, 0, 0, 0, 0, 0, 1, 1, 1, 0, 0, 0, 1, 0, 1, 1, 1, 1, 1, 1, 0, 1, 0, 1, 1, 0, 1, 0, 0, 1, 1, 1, 0, 1, 1, 1, 0, 1, 1, 1, 0, 0, 0, 1, 1, 1, 1, 0, 0, 1, 1, 1, 0, 1, 1, 1, 1, 1, 0, 1, 0, 1, 1, 1, 0, 0, 0, 0, 1, 1, 0, 0, 0, 1, 0, 1, 1, 1, 1, 1, 1, 1, 0, 0, 1, 1, 0, 1, 0, 1, 1, 0, 0, 1, 1, 0, 1, 1, 1, 1, 1, 1, 1, 0, 1, 0, 1, 0, 1, 1, 0, 0, 1, 0, 1, 1, 1, 0, 1, 1, 1, 0, 1, 1, 0, 0, 0, 0, 1, 1, 1, 1, 0, 0, 1, 1, 1, 1, 0, 1, 0, 0, 0, 1, 1, 1, 0, 1, 0, 1, 1, 0, 1, 0, 0, 1, 0, 1, 1, 1, 0, 1, 1, 1, 1, 1, 1, 0, 1, 1, 1, 0, 0, 1, 1, 1, 1, 0, 0, 0, 1, 1, 1, 0, 1, 1, 1, 1, 1, 1, 1, 0, 1, 1, 0, 1, 1, 1, 1, 0, 0, 0, 1, 1, 1, 1, 1, 1, 0, 0, 0, 1, 1, 0, 1, 1, 1, 1, 1, 1, 1, 0, 1, 1, 0, 0, 1, 0, 1, 1, 0, 1, 1, 1, 1, 1, 0, 0, 0, 1, 0, 1, 1, 1, 1, 1, 1, 1, 0, 1, 1, 1, 0, 0, 1, 0, 0, 1, 0, 0, 0, 0, 1, 1, 1, 1, 0, 0, 0, 0, 1, 1, 1, 1, 1, 0, 1, 1, 1, 0, 0, 1, 0, 1, 1, 0, 0, 0, 1, 0, 1, 0, 0, 0, 0, 0, 0, 0, 1, 1, 0, 1, 1, 1, 0, 1, 1, 1, 0, 1, 1, 1, 0, 0, 1, 1, 1, 0, 1, 1, 1, 1, 0, 1, 0, 0, 1, 0, 0, 0, 0, 0, 1, 0, 1, 0, 1, 0, 1, 1, 1, 1, 1, 1, 1, 1, 1, 0, 0, 1, 0, 0, 1, 0, 0, 1, 1, 0, 0, 0, 1, 0, 0, 1, 0, 1, 1, 0, 1, 1, 1, 1, 1, 1, 1, 1, 1, 0, 1, 1, 1, 1, 0, 0, 0, 1, 0, 1, 1, 0, 0, 1, 1, 1, 1, 0, 1, 1, 1, 1, 1, 1, 0, 1, 1, 1, 1, 0, 1, 1, 0, 1, 0, 0, 1, 0, 1, 0, 1, 1, 1, 1, 1, 0, 1, 0, 1, 1, 1, 1, 1, 0, 1, 0, 1, 1, 0, 1, 1, 1, 0, 0, 0, 1, 1, 1, 1, 1, 1, 0, 1, 0, 0, 0, 0, 0, 0, 0, 1, 1, 0, 0, 1, 1, 1, 0, 0, 1, 1, 1, 1, 1, 1, 0, 1, 1, 1, 0, 1, 1, 1, 0, 1, 0, 0, 1, 0, 0, 1, 1, 1, 1, 1, 0, 0, 1, 1, 0, 1, 1, 1, 0, 0, 1, 0, 0, 1, 0, 0, 1, 1, 1, 1, 1, 1, 1, 0, 0, 0, 0, 0, 1, 1, 1, 1, 0, 0, 1, 1, 0, 0, 1, 0, 1, 1, 1, 0, 0, 0, 0, 0, 1, 1, 1, 1, 0, 1, 1, 1, 0, 0, 0, 1, 0, 1, 1, 0, 0, 0, 1, 1, 1, 1, 1, 1, 1, 1, 1, 1, 0, 1, 1, 1, 1, 1, 0, 0, 0, 1, 0, 1, 1, 1, 1, 1, 1, 1, 0, 1, 1, 1, 1, 1, 1, 0, 1, 1, 1, 1, 1, 0, 1, 1, 1, 0, 1, 1, 1, 0, 1, 0, 0, 0, 1, 1, 1, 1, 0, 1, 0, 1, 1, 1, 0, 1, 1, 1, 1, 0, 1, 1, 1, 0, 0, 1, 0, 0, 1, 0, 1, 1, 1, 1, 1, 1, 1, 1, 1, 1, 1, 0, 1, 0, 0, 1, 1, 0, 1, 0, 1, 0, 1, 0, 0, 0, 1, 0, 1, 0, 1, 0, 1, 1, 0, 1, 1, 1, 0, 1, 1, 1, 1, 1, 0, 1, 0, 1, 0, 1, 0, 0, 1, 0, 0, 1, 1, 1, 1, 0, 0, 1, 0, 1, 0, 0, 1, 0, 1, 1, 0, 1, 1, 0, 1, 0, 1, 0, 0, 0, 0, 1, 1, 1, 0, 1, 1, 1, 0, 0, 1, 1, 1, 1, 1, 1, 1, 0, 1, 0, 0, 0, 0, 1, 1, 1, 0, 1, 1, 1, 1, 1, 0, 1, 0, 0, 0, 1, 1, 0, 0, 1, 0, 1, 0, 1, 0, 1, 0, 1, 0, 0, 0, 1, 0, 1, 1, 0, 1, 1, 1, 0, 1, 1, 0, 1, 1, 1, 0, 1, 0, 1, 0, 1, 1, 1, 0, 0, 1, 0, 0, 1, 1, 1, 0, 1, 1, 0, 1, 1, 0, 1, 1, 0, 0, 1, 1, 0, 1, 0, 1, 1, 0, 1, 0, 0, 0, 1, 0, 1, 1, 1, 0, 1, 1, 1, 0, 1, 1, 1, 0, 1, 0, 0, 0, 1, 1, 0, 1, 1, 1, 0, 1, 0, 1, 1, 0, 1, 0, 0, 1, 0, 1, 1, 1, 0, 0, 0, 1, 1, 1, 1, 1, 0, 0, 0, 1, 0, 0, 1, 1, 1, 1, 0, 1, 0, 1, 1, 0, 1, 0, 0, 1, 1, 0, 1, 1, 0, 1, 1, 1, 1, 0, 0, 0, 1, 0, 0, 0, 1, 0, 1, 1, 1, 1, 0, 0, 1, 0, 1, 1, 1, 1, 1, 0, 1, 0, 1, 1, 1]\n"
          ]
        }
      ]
    },
    {
      "cell_type": "markdown",
      "source": [
        "Se agraga la nueva columna llamada pass_test que contiene 0 (no aprueba) y 1(aprueba) "
      ],
      "metadata": {
        "id": "un5sdFT40REA"
      }
    },
    {
      "cell_type": "code",
      "source": [
        "students['pass_test'] = pass_test\n",
        "students.head()"
      ],
      "metadata": {
        "colab": {
          "base_uri": "https://localhost:8080/",
          "height": 250
        },
        "id": "oRJcDDgEkx8G",
        "outputId": "f32ca5f8-cea2-4af8-99aa-44c1b21d4eea"
      },
      "execution_count": 61,
      "outputs": [
        {
          "output_type": "execute_result",
          "data": {
            "text/plain": [
              "   gender race/ethnicity parental level of education         lunch  \\\n",
              "0  female        group B           bachelor's degree      standard   \n",
              "1  female        group C                some college      standard   \n",
              "2  female        group B             master's degree      standard   \n",
              "3    male        group A          associate's degree  free/reduced   \n",
              "4    male        group C                some college      standard   \n",
              "\n",
              "  test preparation course  math score  reading score  writing score  \\\n",
              "0                    none          72             72             74   \n",
              "1               completed          69             90             88   \n",
              "2                    none          90             95             93   \n",
              "3                    none          47             57             44   \n",
              "4                    none          76             78             75   \n",
              "\n",
              "   mean_score  pass_test  \n",
              "0        72.7          1  \n",
              "1        82.3          1  \n",
              "2        92.7          1  \n",
              "3        49.3          0  \n",
              "4        76.3          1  "
            ],
            "text/html": [
              "\n",
              "  <div id=\"df-27564465-826e-44f2-8a0a-93f8d135a83f\">\n",
              "    <div class=\"colab-df-container\">\n",
              "      <div>\n",
              "<style scoped>\n",
              "    .dataframe tbody tr th:only-of-type {\n",
              "        vertical-align: middle;\n",
              "    }\n",
              "\n",
              "    .dataframe tbody tr th {\n",
              "        vertical-align: top;\n",
              "    }\n",
              "\n",
              "    .dataframe thead th {\n",
              "        text-align: right;\n",
              "    }\n",
              "</style>\n",
              "<table border=\"1\" class=\"dataframe\">\n",
              "  <thead>\n",
              "    <tr style=\"text-align: right;\">\n",
              "      <th></th>\n",
              "      <th>gender</th>\n",
              "      <th>race/ethnicity</th>\n",
              "      <th>parental level of education</th>\n",
              "      <th>lunch</th>\n",
              "      <th>test preparation course</th>\n",
              "      <th>math score</th>\n",
              "      <th>reading score</th>\n",
              "      <th>writing score</th>\n",
              "      <th>mean_score</th>\n",
              "      <th>pass_test</th>\n",
              "    </tr>\n",
              "  </thead>\n",
              "  <tbody>\n",
              "    <tr>\n",
              "      <th>0</th>\n",
              "      <td>female</td>\n",
              "      <td>group B</td>\n",
              "      <td>bachelor's degree</td>\n",
              "      <td>standard</td>\n",
              "      <td>none</td>\n",
              "      <td>72</td>\n",
              "      <td>72</td>\n",
              "      <td>74</td>\n",
              "      <td>72.7</td>\n",
              "      <td>1</td>\n",
              "    </tr>\n",
              "    <tr>\n",
              "      <th>1</th>\n",
              "      <td>female</td>\n",
              "      <td>group C</td>\n",
              "      <td>some college</td>\n",
              "      <td>standard</td>\n",
              "      <td>completed</td>\n",
              "      <td>69</td>\n",
              "      <td>90</td>\n",
              "      <td>88</td>\n",
              "      <td>82.3</td>\n",
              "      <td>1</td>\n",
              "    </tr>\n",
              "    <tr>\n",
              "      <th>2</th>\n",
              "      <td>female</td>\n",
              "      <td>group B</td>\n",
              "      <td>master's degree</td>\n",
              "      <td>standard</td>\n",
              "      <td>none</td>\n",
              "      <td>90</td>\n",
              "      <td>95</td>\n",
              "      <td>93</td>\n",
              "      <td>92.7</td>\n",
              "      <td>1</td>\n",
              "    </tr>\n",
              "    <tr>\n",
              "      <th>3</th>\n",
              "      <td>male</td>\n",
              "      <td>group A</td>\n",
              "      <td>associate's degree</td>\n",
              "      <td>free/reduced</td>\n",
              "      <td>none</td>\n",
              "      <td>47</td>\n",
              "      <td>57</td>\n",
              "      <td>44</td>\n",
              "      <td>49.3</td>\n",
              "      <td>0</td>\n",
              "    </tr>\n",
              "    <tr>\n",
              "      <th>4</th>\n",
              "      <td>male</td>\n",
              "      <td>group C</td>\n",
              "      <td>some college</td>\n",
              "      <td>standard</td>\n",
              "      <td>none</td>\n",
              "      <td>76</td>\n",
              "      <td>78</td>\n",
              "      <td>75</td>\n",
              "      <td>76.3</td>\n",
              "      <td>1</td>\n",
              "    </tr>\n",
              "  </tbody>\n",
              "</table>\n",
              "</div>\n",
              "      <button class=\"colab-df-convert\" onclick=\"convertToInteractive('df-27564465-826e-44f2-8a0a-93f8d135a83f')\"\n",
              "              title=\"Convert this dataframe to an interactive table.\"\n",
              "              style=\"display:none;\">\n",
              "        \n",
              "  <svg xmlns=\"http://www.w3.org/2000/svg\" height=\"24px\"viewBox=\"0 0 24 24\"\n",
              "       width=\"24px\">\n",
              "    <path d=\"M0 0h24v24H0V0z\" fill=\"none\"/>\n",
              "    <path d=\"M18.56 5.44l.94 2.06.94-2.06 2.06-.94-2.06-.94-.94-2.06-.94 2.06-2.06.94zm-11 1L8.5 8.5l.94-2.06 2.06-.94-2.06-.94L8.5 2.5l-.94 2.06-2.06.94zm10 10l.94 2.06.94-2.06 2.06-.94-2.06-.94-.94-2.06-.94 2.06-2.06.94z\"/><path d=\"M17.41 7.96l-1.37-1.37c-.4-.4-.92-.59-1.43-.59-.52 0-1.04.2-1.43.59L10.3 9.45l-7.72 7.72c-.78.78-.78 2.05 0 2.83L4 21.41c.39.39.9.59 1.41.59.51 0 1.02-.2 1.41-.59l7.78-7.78 2.81-2.81c.8-.78.8-2.07 0-2.86zM5.41 20L4 18.59l7.72-7.72 1.47 1.35L5.41 20z\"/>\n",
              "  </svg>\n",
              "      </button>\n",
              "      \n",
              "  <style>\n",
              "    .colab-df-container {\n",
              "      display:flex;\n",
              "      flex-wrap:wrap;\n",
              "      gap: 12px;\n",
              "    }\n",
              "\n",
              "    .colab-df-convert {\n",
              "      background-color: #E8F0FE;\n",
              "      border: none;\n",
              "      border-radius: 50%;\n",
              "      cursor: pointer;\n",
              "      display: none;\n",
              "      fill: #1967D2;\n",
              "      height: 32px;\n",
              "      padding: 0 0 0 0;\n",
              "      width: 32px;\n",
              "    }\n",
              "\n",
              "    .colab-df-convert:hover {\n",
              "      background-color: #E2EBFA;\n",
              "      box-shadow: 0px 1px 2px rgba(60, 64, 67, 0.3), 0px 1px 3px 1px rgba(60, 64, 67, 0.15);\n",
              "      fill: #174EA6;\n",
              "    }\n",
              "\n",
              "    [theme=dark] .colab-df-convert {\n",
              "      background-color: #3B4455;\n",
              "      fill: #D2E3FC;\n",
              "    }\n",
              "\n",
              "    [theme=dark] .colab-df-convert:hover {\n",
              "      background-color: #434B5C;\n",
              "      box-shadow: 0px 1px 3px 1px rgba(0, 0, 0, 0.15);\n",
              "      filter: drop-shadow(0px 1px 2px rgba(0, 0, 0, 0.3));\n",
              "      fill: #FFFFFF;\n",
              "    }\n",
              "  </style>\n",
              "\n",
              "      <script>\n",
              "        const buttonEl =\n",
              "          document.querySelector('#df-27564465-826e-44f2-8a0a-93f8d135a83f button.colab-df-convert');\n",
              "        buttonEl.style.display =\n",
              "          google.colab.kernel.accessAllowed ? 'block' : 'none';\n",
              "\n",
              "        async function convertToInteractive(key) {\n",
              "          const element = document.querySelector('#df-27564465-826e-44f2-8a0a-93f8d135a83f');\n",
              "          const dataTable =\n",
              "            await google.colab.kernel.invokeFunction('convertToInteractive',\n",
              "                                                     [key], {});\n",
              "          if (!dataTable) return;\n",
              "\n",
              "          const docLinkHtml = 'Like what you see? Visit the ' +\n",
              "            '<a target=\"_blank\" href=https://colab.research.google.com/notebooks/data_table.ipynb>data table notebook</a>'\n",
              "            + ' to learn more about interactive tables.';\n",
              "          element.innerHTML = '';\n",
              "          dataTable['output_type'] = 'display_data';\n",
              "          await google.colab.output.renderOutput(dataTable, element);\n",
              "          const docLink = document.createElement('div');\n",
              "          docLink.innerHTML = docLinkHtml;\n",
              "          element.appendChild(docLink);\n",
              "        }\n",
              "      </script>\n",
              "    </div>\n",
              "  </div>\n",
              "  "
            ]
          },
          "metadata": {},
          "execution_count": 61
        }
      ]
    },
    {
      "cell_type": "markdown",
      "source": [
        "Mediante el método info() se puede obtener una descripción rápida de los datos, como es el número total de filas, el tipo de cada atributo y el número de valores no nulos."
      ],
      "metadata": {
        "id": "Ze30uK-LCddU"
      }
    },
    {
      "cell_type": "code",
      "source": [
        "students.info()"
      ],
      "metadata": {
        "colab": {
          "base_uri": "https://localhost:8080/",
          "height": 0
        },
        "id": "x16brtTtDCgP",
        "outputId": "756c638f-fd19-436a-cb43-16e42f30bab1"
      },
      "execution_count": 11,
      "outputs": [
        {
          "output_type": "stream",
          "name": "stdout",
          "text": [
            "<class 'pandas.core.frame.DataFrame'>\n",
            "RangeIndex: 1000 entries, 0 to 999\n",
            "Data columns (total 10 columns):\n",
            " #   Column                       Non-Null Count  Dtype  \n",
            "---  ------                       --------------  -----  \n",
            " 0   gender                       1000 non-null   object \n",
            " 1   race/ethnicity               1000 non-null   object \n",
            " 2   parental level of education  1000 non-null   object \n",
            " 3   lunch                        1000 non-null   object \n",
            " 4   test preparation course      1000 non-null   object \n",
            " 5   math score                   1000 non-null   int64  \n",
            " 6   reading score                1000 non-null   int64  \n",
            " 7   writing score                1000 non-null   int64  \n",
            " 8   mean_score                   1000 non-null   float64\n",
            " 9   pass_test                    1000 non-null   int64  \n",
            "dtypes: float64(1), int64(4), object(5)\n",
            "memory usage: 78.2+ KB\n"
          ]
        }
      ]
    },
    {
      "cell_type": "markdown",
      "source": [
        "En el conjunto de datos se encuentra 1000 instancias. Se observa que no se encuentran datos nulos.\n",
        "\n",
        "Los 5 primeros atributos observamos que son datos categoricos y los 5 ultimos atributos son datos númericos."
      ],
      "metadata": {
        "id": "s93d6k4_dCat"
      }
    },
    {
      "cell_type": "markdown",
      "source": [
        "Con metodo describe() se puede observar el resumen de los datos numericos."
      ],
      "metadata": {
        "id": "5YTNd6K5dzqc"
      }
    },
    {
      "cell_type": "code",
      "source": [
        "students.describe()"
      ],
      "metadata": {
        "colab": {
          "base_uri": "https://localhost:8080/",
          "height": 300
        },
        "id": "BiWDxcwxd69p",
        "outputId": "853c4730-e964-4ce9-b91f-05143cac2b32"
      },
      "execution_count": 12,
      "outputs": [
        {
          "output_type": "execute_result",
          "data": {
            "text/plain": [
              "       math score  reading score  writing score   mean_score    pass_test\n",
              "count  1000.00000    1000.000000    1000.000000  1000.000000  1000.000000\n",
              "mean     66.08900      69.169000      68.054000    67.769800     0.601000\n",
              "std      15.16308      14.600192      15.195657    14.257197     0.489938\n",
              "min       0.00000      17.000000      10.000000     9.000000     0.000000\n",
              "25%      57.00000      59.000000      57.750000    58.300000     0.000000\n",
              "50%      66.00000      70.000000      69.000000    68.300000     1.000000\n",
              "75%      77.00000      79.000000      79.000000    77.700000     1.000000\n",
              "max     100.00000     100.000000     100.000000   100.000000     1.000000"
            ],
            "text/html": [
              "\n",
              "  <div id=\"df-4286a5fc-e151-4aa6-ae35-86d5989b6b4c\">\n",
              "    <div class=\"colab-df-container\">\n",
              "      <div>\n",
              "<style scoped>\n",
              "    .dataframe tbody tr th:only-of-type {\n",
              "        vertical-align: middle;\n",
              "    }\n",
              "\n",
              "    .dataframe tbody tr th {\n",
              "        vertical-align: top;\n",
              "    }\n",
              "\n",
              "    .dataframe thead th {\n",
              "        text-align: right;\n",
              "    }\n",
              "</style>\n",
              "<table border=\"1\" class=\"dataframe\">\n",
              "  <thead>\n",
              "    <tr style=\"text-align: right;\">\n",
              "      <th></th>\n",
              "      <th>math score</th>\n",
              "      <th>reading score</th>\n",
              "      <th>writing score</th>\n",
              "      <th>mean_score</th>\n",
              "      <th>pass_test</th>\n",
              "    </tr>\n",
              "  </thead>\n",
              "  <tbody>\n",
              "    <tr>\n",
              "      <th>count</th>\n",
              "      <td>1000.00000</td>\n",
              "      <td>1000.000000</td>\n",
              "      <td>1000.000000</td>\n",
              "      <td>1000.000000</td>\n",
              "      <td>1000.000000</td>\n",
              "    </tr>\n",
              "    <tr>\n",
              "      <th>mean</th>\n",
              "      <td>66.08900</td>\n",
              "      <td>69.169000</td>\n",
              "      <td>68.054000</td>\n",
              "      <td>67.769800</td>\n",
              "      <td>0.601000</td>\n",
              "    </tr>\n",
              "    <tr>\n",
              "      <th>std</th>\n",
              "      <td>15.16308</td>\n",
              "      <td>14.600192</td>\n",
              "      <td>15.195657</td>\n",
              "      <td>14.257197</td>\n",
              "      <td>0.489938</td>\n",
              "    </tr>\n",
              "    <tr>\n",
              "      <th>min</th>\n",
              "      <td>0.00000</td>\n",
              "      <td>17.000000</td>\n",
              "      <td>10.000000</td>\n",
              "      <td>9.000000</td>\n",
              "      <td>0.000000</td>\n",
              "    </tr>\n",
              "    <tr>\n",
              "      <th>25%</th>\n",
              "      <td>57.00000</td>\n",
              "      <td>59.000000</td>\n",
              "      <td>57.750000</td>\n",
              "      <td>58.300000</td>\n",
              "      <td>0.000000</td>\n",
              "    </tr>\n",
              "    <tr>\n",
              "      <th>50%</th>\n",
              "      <td>66.00000</td>\n",
              "      <td>70.000000</td>\n",
              "      <td>69.000000</td>\n",
              "      <td>68.300000</td>\n",
              "      <td>1.000000</td>\n",
              "    </tr>\n",
              "    <tr>\n",
              "      <th>75%</th>\n",
              "      <td>77.00000</td>\n",
              "      <td>79.000000</td>\n",
              "      <td>79.000000</td>\n",
              "      <td>77.700000</td>\n",
              "      <td>1.000000</td>\n",
              "    </tr>\n",
              "    <tr>\n",
              "      <th>max</th>\n",
              "      <td>100.00000</td>\n",
              "      <td>100.000000</td>\n",
              "      <td>100.000000</td>\n",
              "      <td>100.000000</td>\n",
              "      <td>1.000000</td>\n",
              "    </tr>\n",
              "  </tbody>\n",
              "</table>\n",
              "</div>\n",
              "      <button class=\"colab-df-convert\" onclick=\"convertToInteractive('df-4286a5fc-e151-4aa6-ae35-86d5989b6b4c')\"\n",
              "              title=\"Convert this dataframe to an interactive table.\"\n",
              "              style=\"display:none;\">\n",
              "        \n",
              "  <svg xmlns=\"http://www.w3.org/2000/svg\" height=\"24px\"viewBox=\"0 0 24 24\"\n",
              "       width=\"24px\">\n",
              "    <path d=\"M0 0h24v24H0V0z\" fill=\"none\"/>\n",
              "    <path d=\"M18.56 5.44l.94 2.06.94-2.06 2.06-.94-2.06-.94-.94-2.06-.94 2.06-2.06.94zm-11 1L8.5 8.5l.94-2.06 2.06-.94-2.06-.94L8.5 2.5l-.94 2.06-2.06.94zm10 10l.94 2.06.94-2.06 2.06-.94-2.06-.94-.94-2.06-.94 2.06-2.06.94z\"/><path d=\"M17.41 7.96l-1.37-1.37c-.4-.4-.92-.59-1.43-.59-.52 0-1.04.2-1.43.59L10.3 9.45l-7.72 7.72c-.78.78-.78 2.05 0 2.83L4 21.41c.39.39.9.59 1.41.59.51 0 1.02-.2 1.41-.59l7.78-7.78 2.81-2.81c.8-.78.8-2.07 0-2.86zM5.41 20L4 18.59l7.72-7.72 1.47 1.35L5.41 20z\"/>\n",
              "  </svg>\n",
              "      </button>\n",
              "      \n",
              "  <style>\n",
              "    .colab-df-container {\n",
              "      display:flex;\n",
              "      flex-wrap:wrap;\n",
              "      gap: 12px;\n",
              "    }\n",
              "\n",
              "    .colab-df-convert {\n",
              "      background-color: #E8F0FE;\n",
              "      border: none;\n",
              "      border-radius: 50%;\n",
              "      cursor: pointer;\n",
              "      display: none;\n",
              "      fill: #1967D2;\n",
              "      height: 32px;\n",
              "      padding: 0 0 0 0;\n",
              "      width: 32px;\n",
              "    }\n",
              "\n",
              "    .colab-df-convert:hover {\n",
              "      background-color: #E2EBFA;\n",
              "      box-shadow: 0px 1px 2px rgba(60, 64, 67, 0.3), 0px 1px 3px 1px rgba(60, 64, 67, 0.15);\n",
              "      fill: #174EA6;\n",
              "    }\n",
              "\n",
              "    [theme=dark] .colab-df-convert {\n",
              "      background-color: #3B4455;\n",
              "      fill: #D2E3FC;\n",
              "    }\n",
              "\n",
              "    [theme=dark] .colab-df-convert:hover {\n",
              "      background-color: #434B5C;\n",
              "      box-shadow: 0px 1px 3px 1px rgba(0, 0, 0, 0.15);\n",
              "      filter: drop-shadow(0px 1px 2px rgba(0, 0, 0, 0.3));\n",
              "      fill: #FFFFFF;\n",
              "    }\n",
              "  </style>\n",
              "\n",
              "      <script>\n",
              "        const buttonEl =\n",
              "          document.querySelector('#df-4286a5fc-e151-4aa6-ae35-86d5989b6b4c button.colab-df-convert');\n",
              "        buttonEl.style.display =\n",
              "          google.colab.kernel.accessAllowed ? 'block' : 'none';\n",
              "\n",
              "        async function convertToInteractive(key) {\n",
              "          const element = document.querySelector('#df-4286a5fc-e151-4aa6-ae35-86d5989b6b4c');\n",
              "          const dataTable =\n",
              "            await google.colab.kernel.invokeFunction('convertToInteractive',\n",
              "                                                     [key], {});\n",
              "          if (!dataTable) return;\n",
              "\n",
              "          const docLinkHtml = 'Like what you see? Visit the ' +\n",
              "            '<a target=\"_blank\" href=https://colab.research.google.com/notebooks/data_table.ipynb>data table notebook</a>'\n",
              "            + ' to learn more about interactive tables.';\n",
              "          element.innerHTML = '';\n",
              "          dataTable['output_type'] = 'display_data';\n",
              "          await google.colab.output.renderOutput(dataTable, element);\n",
              "          const docLink = document.createElement('div');\n",
              "          docLink.innerHTML = docLinkHtml;\n",
              "          element.appendChild(docLink);\n",
              "        }\n",
              "      </script>\n",
              "    </div>\n",
              "  </div>\n",
              "  "
            ]
          },
          "metadata": {},
          "execution_count": 12
        }
      ]
    },
    {
      "cell_type": "markdown",
      "source": [
        "Con ayuda de los histogramas se viasualizas las instancias en el eje vertical y lo valores en el eje horizontal. Unicamnete se observal los datos numericos."
      ],
      "metadata": {
        "id": "hzl3WFoGBy1Z"
      }
    },
    {
      "cell_type": "code",
      "source": [
        "# código extra - las siguientes 5 líneas definen los tamaños de fuente por defecto\n",
        "plt.rc('font', size=14)\n",
        "plt.rc('axes', labelsize=14, titlesize=14)\n",
        "plt.rc('legend', fontsize=14)\n",
        "plt.rc('xtick', labelsize=10)\n",
        "plt.rc('ytick', labelsize=10)\n",
        "\n",
        "students.hist(bins=50, figsize=(12, 8))\n",
        "save_fig(\"Histogramas\")  # extra code\n",
        "plt.show()"
      ],
      "metadata": {
        "colab": {
          "base_uri": "https://localhost:8080/",
          "height": 577
        },
        "id": "rQVzXpNahQ3e",
        "outputId": "f193f8a2-d8f2-488b-c928-63903cb79f22"
      },
      "execution_count": 13,
      "outputs": [
        {
          "output_type": "display_data",
          "data": {
            "text/plain": [
              "<Figure size 864x576 with 6 Axes>"
            ],
            "image/png": "[encoded data removed]"
          },
          "metadata": {
            "needs_background": "light"
          }
        }
      ]
    },
    {
      "cell_type": "markdown",
      "source": [
        "# Matriz de Correlación"
      ],
      "metadata": {
        "id": "ImZwLgqsRsVC"
      }
    },
    {
      "cell_type": "markdown",
      "source": [
        "La Matriz de Correlación muestra la relación existente entre las caractericticas númericas."
      ],
      "metadata": {
        "id": "iUKlc6x10nqB"
      }
    },
    {
      "cell_type": "code",
      "source": [
        "corr_matrix = students.corr()"
      ],
      "metadata": {
        "id": "dz4lRQ_2RwBa"
      },
      "execution_count": 19,
      "outputs": []
    },
    {
      "cell_type": "code",
      "source": [
        "corr_matrix[\"pass_test\"].sort_values(ascending=False)"
      ],
      "metadata": {
        "colab": {
          "base_uri": "https://localhost:8080/",
          "height": 0
        },
        "id": "dKr_0ifYR6cZ",
        "outputId": "6ea87625-9318-463e-fa58-1d8ae7da49ac"
      },
      "execution_count": 20,
      "outputs": [
        {
          "output_type": "execute_result",
          "data": {
            "text/plain": [
              "pass_test        1.000000\n",
              "mean_score       0.799173\n",
              "writing score    0.780311\n",
              "reading score    0.779514\n",
              "math score       0.721887\n",
              "Name: pass_test, dtype: float64"
            ]
          },
          "metadata": {},
          "execution_count": 20
        }
      ]
    },
    {
      "cell_type": "markdown",
      "source": [
        "El siguiente mapa de calor muestra la matriz de correlación donde se observa que hay una relación directamente proporcional entre las variables y la variable a predecir(pass_test) ya que el valor se acerca a 1."
      ],
      "metadata": {
        "id": "cg2KYyoG0wxp"
      }
    },
    {
      "cell_type": "code",
      "source": [
        "fig, ax = plt.subplots(figsize=(12,8)) \n",
        "sns.heatmap(corr_matrix, annot=True, cmap='YlGnBu', ax=ax)\n",
        "save_fig(\"Matriz de Correlacion\")  # extra code"
      ],
      "metadata": {
        "colab": {
          "base_uri": "https://localhost:8080/",
          "height": 577
        },
        "id": "DSJcHy8_pW-F",
        "outputId": "e1963857-f9e1-47f6-96b1-d626aa3d859e"
      },
      "execution_count": 23,
      "outputs": [
        {
          "output_type": "display_data",
          "data": {
            "text/plain": [
              "<Figure size 864x576 with 2 Axes>"
            ],
            "image/png": "[encoded data removed]"
          },
          "metadata": {
            "needs_background": "light"
          }
        }
      ]
    },
    {
      "cell_type": "code",
      "source": [],
      "metadata": {
        "id": "WLSs3Onk1H0c"
      },
      "execution_count": null,
      "outputs": []
    },
    {
      "cell_type": "markdown",
      "source": [
        "Para comprobar la correlación entre los atributos, se utiliza la función scatter_matrix(), que compara entre si cada uno de las datos numéricos."
      ],
      "metadata": {
        "id": "lGHzYUv415FE"
      }
    },
    {
      "cell_type": "code",
      "source": [
        "from pandas.plotting import scatter_matrix\n",
        "\n",
        "scatter_matrix(students, figsize=(12, 8))\n",
        "save_fig(\"Scatter Matrix\")  # extra code\n",
        "plt.show()"
      ],
      "metadata": {
        "colab": {
          "base_uri": "https://localhost:8080/",
          "height": 577
        },
        "id": "ZB4XRjq6XVR4",
        "outputId": "366b1c90-314f-46ad-d3cb-2db6b15f0df1"
      },
      "execution_count": 27,
      "outputs": [
        {
          "output_type": "display_data",
          "data": {
            "text/plain": [
              "<Figure size 864x576 with 25 Axes>"
            ],
            "image/png": "[encoded data removed]"
          },
          "metadata": {
            "needs_background": "light"
          }
        }
      ]
    },
    {
      "cell_type": "markdown",
      "source": [
        "# División de datos train y test"
      ],
      "metadata": {
        "id": "vZzeGUOq9OgI"
      }
    },
    {
      "cell_type": "markdown",
      "source": [
        "Se divide la variable a predecir del resto de los datos"
      ],
      "metadata": {
        "id": "UOJ7R6cVRE9G"
      }
    },
    {
      "cell_type": "code",
      "source": [
        "X_data = students.drop('pass_test', axis=1)\n",
        "y_data = students['pass_test']"
      ],
      "metadata": {
        "id": "tAIdxaW2MBQZ"
      },
      "execution_count": 14,
      "outputs": []
    },
    {
      "cell_type": "code",
      "source": [
        "X_data"
      ],
      "metadata": {
        "id": "G3C8eUgnMivw",
        "colab": {
          "base_uri": "https://localhost:8080/",
          "height": 424
        },
        "outputId": "9da54437-b007-495b-f62a-279fe43104f7"
      },
      "execution_count": 15,
      "outputs": [
        {
          "output_type": "execute_result",
          "data": {
            "text/plain": [
              "     gender race/ethnicity parental level of education         lunch  \\\n",
              "0    female        group B           bachelor's degree      standard   \n",
              "1    female        group C                some college      standard   \n",
              "2    female        group B             master's degree      standard   \n",
              "3      male        group A          associate's degree  free/reduced   \n",
              "4      male        group C                some college      standard   \n",
              "..      ...            ...                         ...           ...   \n",
              "995  female        group E             master's degree      standard   \n",
              "996    male        group C                 high school  free/reduced   \n",
              "997  female        group C                 high school  free/reduced   \n",
              "998  female        group D                some college      standard   \n",
              "999  female        group D                some college  free/reduced   \n",
              "\n",
              "    test preparation course  math score  reading score  writing score  \\\n",
              "0                      none          72             72             74   \n",
              "1                 completed          69             90             88   \n",
              "2                      none          90             95             93   \n",
              "3                      none          47             57             44   \n",
              "4                      none          76             78             75   \n",
              "..                      ...         ...            ...            ...   \n",
              "995               completed          88             99             95   \n",
              "996                    none          62             55             55   \n",
              "997               completed          59             71             65   \n",
              "998               completed          68             78             77   \n",
              "999                    none          77             86             86   \n",
              "\n",
              "     mean_score  \n",
              "0          72.7  \n",
              "1          82.3  \n",
              "2          92.7  \n",
              "3          49.3  \n",
              "4          76.3  \n",
              "..          ...  \n",
              "995        94.0  \n",
              "996        57.3  \n",
              "997        65.0  \n",
              "998        74.3  \n",
              "999        83.0  \n",
              "\n",
              "[1000 rows x 9 columns]"
            ],
            "text/html": [
              "\n",
              "  <div id=\"df-60092737-34da-4ff2-ace0-8f32e3546413\">\n",
              "    <div class=\"colab-df-container\">\n",
              "      <div>\n",
              "<style scoped>\n",
              "    .dataframe tbody tr th:only-of-type {\n",
              "        vertical-align: middle;\n",
              "    }\n",
              "\n",
              "    .dataframe tbody tr th {\n",
              "        vertical-align: top;\n",
              "    }\n",
              "\n",
              "    .dataframe thead th {\n",
              "        text-align: right;\n",
              "    }\n",
              "</style>\n",
              "<table border=\"1\" class=\"dataframe\">\n",
              "  <thead>\n",
              "    <tr style=\"text-align: right;\">\n",
              "      <th></th>\n",
              "      <th>gender</th>\n",
              "      <th>race/ethnicity</th>\n",
              "      <th>parental level of education</th>\n",
              "      <th>lunch</th>\n",
              "      <th>test preparation course</th>\n",
              "      <th>math score</th>\n",
              "      <th>reading score</th>\n",
              "      <th>writing score</th>\n",
              "      <th>mean_score</th>\n",
              "    </tr>\n",
              "  </thead>\n",
              "  <tbody>\n",
              "    <tr>\n",
              "      <th>0</th>\n",
              "      <td>female</td>\n",
              "      <td>group B</td>\n",
              "      <td>bachelor's degree</td>\n",
              "      <td>standard</td>\n",
              "      <td>none</td>\n",
              "      <td>72</td>\n",
              "      <td>72</td>\n",
              "      <td>74</td>\n",
              "      <td>72.7</td>\n",
              "    </tr>\n",
              "    <tr>\n",
              "      <th>1</th>\n",
              "      <td>female</td>\n",
              "      <td>group C</td>\n",
              "      <td>some college</td>\n",
              "      <td>standard</td>\n",
              "      <td>completed</td>\n",
              "      <td>69</td>\n",
              "      <td>90</td>\n",
              "      <td>88</td>\n",
              "      <td>82.3</td>\n",
              "    </tr>\n",
              "    <tr>\n",
              "      <th>2</th>\n",
              "      <td>female</td>\n",
              "      <td>group B</td>\n",
              "      <td>master's degree</td>\n",
              "      <td>standard</td>\n",
              "      <td>none</td>\n",
              "      <td>90</td>\n",
              "      <td>95</td>\n",
              "      <td>93</td>\n",
              "      <td>92.7</td>\n",
              "    </tr>\n",
              "    <tr>\n",
              "      <th>3</th>\n",
              "      <td>male</td>\n",
              "      <td>group A</td>\n",
              "      <td>associate's degree</td>\n",
              "      <td>free/reduced</td>\n",
              "      <td>none</td>\n",
              "      <td>47</td>\n",
              "      <td>57</td>\n",
              "      <td>44</td>\n",
              "      <td>49.3</td>\n",
              "    </tr>\n",
              "    <tr>\n",
              "      <th>4</th>\n",
              "      <td>male</td>\n",
              "      <td>group C</td>\n",
              "      <td>some college</td>\n",
              "      <td>standard</td>\n",
              "      <td>none</td>\n",
              "      <td>76</td>\n",
              "      <td>78</td>\n",
              "      <td>75</td>\n",
              "      <td>76.3</td>\n",
              "    </tr>\n",
              "    <tr>\n",
              "      <th>...</th>\n",
              "      <td>...</td>\n",
              "      <td>...</td>\n",
              "      <td>...</td>\n",
              "      <td>...</td>\n",
              "      <td>...</td>\n",
              "      <td>...</td>\n",
              "      <td>...</td>\n",
              "      <td>...</td>\n",
              "      <td>...</td>\n",
              "    </tr>\n",
              "    <tr>\n",
              "      <th>995</th>\n",
              "      <td>female</td>\n",
              "      <td>group E</td>\n",
              "      <td>master's degree</td>\n",
              "      <td>standard</td>\n",
              "      <td>completed</td>\n",
              "      <td>88</td>\n",
              "      <td>99</td>\n",
              "      <td>95</td>\n",
              "      <td>94.0</td>\n",
              "    </tr>\n",
              "    <tr>\n",
              "      <th>996</th>\n",
              "      <td>male</td>\n",
              "      <td>group C</td>\n",
              "      <td>high school</td>\n",
              "      <td>free/reduced</td>\n",
              "      <td>none</td>\n",
              "      <td>62</td>\n",
              "      <td>55</td>\n",
              "      <td>55</td>\n",
              "      <td>57.3</td>\n",
              "    </tr>\n",
              "    <tr>\n",
              "      <th>997</th>\n",
              "      <td>female</td>\n",
              "      <td>group C</td>\n",
              "      <td>high school</td>\n",
              "      <td>free/reduced</td>\n",
              "      <td>completed</td>\n",
              "      <td>59</td>\n",
              "      <td>71</td>\n",
              "      <td>65</td>\n",
              "      <td>65.0</td>\n",
              "    </tr>\n",
              "    <tr>\n",
              "      <th>998</th>\n",
              "      <td>female</td>\n",
              "      <td>group D</td>\n",
              "      <td>some college</td>\n",
              "      <td>standard</td>\n",
              "      <td>completed</td>\n",
              "      <td>68</td>\n",
              "      <td>78</td>\n",
              "      <td>77</td>\n",
              "      <td>74.3</td>\n",
              "    </tr>\n",
              "    <tr>\n",
              "      <th>999</th>\n",
              "      <td>female</td>\n",
              "      <td>group D</td>\n",
              "      <td>some college</td>\n",
              "      <td>free/reduced</td>\n",
              "      <td>none</td>\n",
              "      <td>77</td>\n",
              "      <td>86</td>\n",
              "      <td>86</td>\n",
              "      <td>83.0</td>\n",
              "    </tr>\n",
              "  </tbody>\n",
              "</table>\n",
              "<p>1000 rows × 9 columns</p>\n",
              "</div>\n",
              "      <button class=\"colab-df-convert\" onclick=\"convertToInteractive('df-60092737-34da-4ff2-ace0-8f32e3546413')\"\n",
              "              title=\"Convert this dataframe to an interactive table.\"\n",
              "              style=\"display:none;\">\n",
              "        \n",
              "  <svg xmlns=\"http://www.w3.org/2000/svg\" height=\"24px\"viewBox=\"0 0 24 24\"\n",
              "       width=\"24px\">\n",
              "    <path d=\"M0 0h24v24H0V0z\" fill=\"none\"/>\n",
              "    <path d=\"M18.56 5.44l.94 2.06.94-2.06 2.06-.94-2.06-.94-.94-2.06-.94 2.06-2.06.94zm-11 1L8.5 8.5l.94-2.06 2.06-.94-2.06-.94L8.5 2.5l-.94 2.06-2.06.94zm10 10l.94 2.06.94-2.06 2.06-.94-2.06-.94-.94-2.06-.94 2.06-2.06.94z\"/><path d=\"M17.41 7.96l-1.37-1.37c-.4-.4-.92-.59-1.43-.59-.52 0-1.04.2-1.43.59L10.3 9.45l-7.72 7.72c-.78.78-.78 2.05 0 2.83L4 21.41c.39.39.9.59 1.41.59.51 0 1.02-.2 1.41-.59l7.78-7.78 2.81-2.81c.8-.78.8-2.07 0-2.86zM5.41 20L4 18.59l7.72-7.72 1.47 1.35L5.41 20z\"/>\n",
              "  </svg>\n",
              "      </button>\n",
              "      \n",
              "  <style>\n",
              "    .colab-df-container {\n",
              "      display:flex;\n",
              "      flex-wrap:wrap;\n",
              "      gap: 12px;\n",
              "    }\n",
              "\n",
              "    .colab-df-convert {\n",
              "      background-color: #E8F0FE;\n",
              "      border: none;\n",
              "      border-radius: 50%;\n",
              "      cursor: pointer;\n",
              "      display: none;\n",
              "      fill: #1967D2;\n",
              "      height: 32px;\n",
              "      padding: 0 0 0 0;\n",
              "      width: 32px;\n",
              "    }\n",
              "\n",
              "    .colab-df-convert:hover {\n",
              "      background-color: #E2EBFA;\n",
              "      box-shadow: 0px 1px 2px rgba(60, 64, 67, 0.3), 0px 1px 3px 1px rgba(60, 64, 67, 0.15);\n",
              "      fill: #174EA6;\n",
              "    }\n",
              "\n",
              "    [theme=dark] .colab-df-convert {\n",
              "      background-color: #3B4455;\n",
              "      fill: #D2E3FC;\n",
              "    }\n",
              "\n",
              "    [theme=dark] .colab-df-convert:hover {\n",
              "      background-color: #434B5C;\n",
              "      box-shadow: 0px 1px 3px 1px rgba(0, 0, 0, 0.15);\n",
              "      filter: drop-shadow(0px 1px 2px rgba(0, 0, 0, 0.3));\n",
              "      fill: #FFFFFF;\n",
              "    }\n",
              "  </style>\n",
              "\n",
              "      <script>\n",
              "        const buttonEl =\n",
              "          document.querySelector('#df-60092737-34da-4ff2-ace0-8f32e3546413 button.colab-df-convert');\n",
              "        buttonEl.style.display =\n",
              "          google.colab.kernel.accessAllowed ? 'block' : 'none';\n",
              "\n",
              "        async function convertToInteractive(key) {\n",
              "          const element = document.querySelector('#df-60092737-34da-4ff2-ace0-8f32e3546413');\n",
              "          const dataTable =\n",
              "            await google.colab.kernel.invokeFunction('convertToInteractive',\n",
              "                                                     [key], {});\n",
              "          if (!dataTable) return;\n",
              "\n",
              "          const docLinkHtml = 'Like what you see? Visit the ' +\n",
              "            '<a target=\"_blank\" href=https://colab.research.google.com/notebooks/data_table.ipynb>data table notebook</a>'\n",
              "            + ' to learn more about interactive tables.';\n",
              "          element.innerHTML = '';\n",
              "          dataTable['output_type'] = 'display_data';\n",
              "          await google.colab.output.renderOutput(dataTable, element);\n",
              "          const docLink = document.createElement('div');\n",
              "          docLink.innerHTML = docLinkHtml;\n",
              "          element.appendChild(docLink);\n",
              "        }\n",
              "      </script>\n",
              "    </div>\n",
              "  </div>\n",
              "  "
            ]
          },
          "metadata": {},
          "execution_count": 15
        }
      ]
    },
    {
      "cell_type": "markdown",
      "source": [
        "Mediante train_test_split se dividen los datos en entrenamiento (70%) y prueba(30%) con los datos estrateficados."
      ],
      "metadata": {
        "id": "LBWNW61SRNSa"
      }
    },
    {
      "cell_type": "code",
      "source": [
        "from sklearn.model_selection import train_test_split\n",
        "X_train, X_test, y_train, y_test = train_test_split(X_data, y_data, test_size=0.3, random_state=42 , stratify=y_data)"
      ],
      "metadata": {
        "id": "yqwwcsWvJ3gV"
      },
      "execution_count": 16,
      "outputs": []
    },
    {
      "cell_type": "markdown",
      "source": [
        "Como se observa en los dos histogramas los datos quedaron correctamente estratificados en la variable a predecir."
      ],
      "metadata": {
        "id": "wIoD9MXb4An9"
      }
    },
    {
      "cell_type": "code",
      "source": [
        "y_train.hist(bins=50, figsize=(8,6))\n",
        "save_fig(\"Histograma Y_train\")  # extra code\n",
        "plt.show()"
      ],
      "metadata": {
        "colab": {
          "base_uri": "https://localhost:8080/",
          "height": 433
        },
        "id": "306hPTCxmH3S",
        "outputId": "5786bf87-d7ca-4f97-ba02-dc4a97416cb2"
      },
      "execution_count": 24,
      "outputs": [
        {
          "output_type": "display_data",
          "data": {
            "text/plain": [
              "<Figure size 576x432 with 1 Axes>"
            ],
            "image/png": "[encoded data removed]"
          },
          "metadata": {
            "needs_background": "light"
          }
        }
      ]
    },
    {
      "cell_type": "code",
      "source": [
        "y_test.hist(bins=50, figsize=(8, 6))\n",
        "save_fig(\"Histograma Y_test\")  # extra code\n",
        "plt.show()"
      ],
      "metadata": {
        "colab": {
          "base_uri": "https://localhost:8080/",
          "height": 433
        },
        "id": "I5hEvd-wmceL",
        "outputId": "467e788d-973f-4de6-b823-e27a4081b59e"
      },
      "execution_count": 25,
      "outputs": [
        {
          "output_type": "display_data",
          "data": {
            "text/plain": [
              "<Figure size 576x432 with 1 Axes>"
            ],
            "image/png": "[encoded data removed]"
          },
          "metadata": {
            "needs_background": "light"
          }
        }
      ]
    },
    {
      "cell_type": "markdown",
      "source": [
        "# Preparacion de los datos"
      ],
      "metadata": {
        "id": "6b3ieQnxZITp"
      }
    },
    {
      "cell_type": "markdown",
      "source": [
        "## Limpieza de datos"
      ],
      "metadata": {
        "id": "es4GlawxZLg7"
      }
    },
    {
      "cell_type": "markdown",
      "source": [
        "Como se observo con metodo info() el dataset no cuenta con datos, se verifica la información mediante la función matrix de Missingo el cual permite visualizar donde se encuentran los datos nulos en caso de que exitan. \n",
        "\n",
        "Para este caso se comprueba que todos las caractericticas cuentan con 1000 instancias en total."
      ],
      "metadata": {
        "id": "tEJ9pItQ4Kvh"
      }
    },
    {
      "cell_type": "code",
      "source": [
        "import missingno as msno\n",
        "msno.matrix(students, figsize=(12,8))\n",
        "save_fig(\"Visualizacion datos faltantes\")  # extra code"
      ],
      "metadata": {
        "colab": {
          "base_uri": "https://localhost:8080/",
          "height": 682
        },
        "id": "vO3thGUaZPtK",
        "outputId": "1a8c661b-21cb-48b0-f40b-009fa937c6bf"
      },
      "execution_count": 63,
      "outputs": [
        {
          "output_type": "stream",
          "name": "stderr",
          "text": [
            "<ipython-input-3-f3badef8a755>:7: UserWarning: This figure includes Axes that are not compatible with tight_layout, so results might be incorrect.\n",
            "  plt.tight_layout()\n"
          ]
        },
        {
          "output_type": "display_data",
          "data": {
            "text/plain": [
              "<Figure size 864x576 with 2 Axes>"
            ],
            "image/png": "[encoded data removed]"
          },
          "metadata": {
            "needs_background": "light"
          }
        }
      ]
    },
    {
      "cell_type": "markdown",
      "source": [
        "## Tratamiento de datos categoricos"
      ],
      "metadata": {
        "id": "Y8Hm9-3AaA2_"
      }
    },
    {
      "cell_type": "markdown",
      "source": [
        "Para convertir los datos categoricos en datos númericos se utiliza la libreria OneHotEncoder que asigna el valor de 1 a la categoria presente y cero a las demas."
      ],
      "metadata": {
        "id": "fNWa60zW5T2O"
      }
    },
    {
      "cell_type": "code",
      "source": [
        "X_data_categoricos = ['gender', 'race/ethnicity','parental level of education','lunch','test preparation course']\n",
        "X_data_categoricos"
      ],
      "metadata": {
        "colab": {
          "base_uri": "https://localhost:8080/",
          "height": 0
        },
        "id": "C6q_ODs-ah92",
        "outputId": "a0dad599-1d3f-4322-dbcd-f28ab214b8b1"
      },
      "execution_count": 39,
      "outputs": [
        {
          "output_type": "execute_result",
          "data": {
            "text/plain": [
              "['gender',\n",
              " 'race/ethnicity',\n",
              " 'parental level of education',\n",
              " 'lunch',\n",
              " 'test preparation course']"
            ]
          },
          "metadata": {},
          "execution_count": 39
        }
      ]
    },
    {
      "cell_type": "code",
      "source": [
        "from sklearn.preprocessing import OneHotEncoder\n",
        "\n",
        "onehot = OneHotEncoder()\n",
        "X_data_onehot = onehot.fit_transform(X_data[X_data_categoricos])"
      ],
      "metadata": {
        "id": "eHz6wzsdaHS5"
      },
      "execution_count": 41,
      "outputs": []
    },
    {
      "cell_type": "code",
      "source": [
        "X_data_onehot.toarray()"
      ],
      "metadata": {
        "colab": {
          "base_uri": "https://localhost:8080/",
          "height": 0
        },
        "id": "WNRrk98RcAXP",
        "outputId": "86c60a55-933d-4e1b-fcdc-b737151a2451"
      },
      "execution_count": 42,
      "outputs": [
        {
          "output_type": "execute_result",
          "data": {
            "text/plain": [
              "array([[1., 0., 0., ..., 1., 0., 1.],\n",
              "       [1., 0., 0., ..., 1., 1., 0.],\n",
              "       [1., 0., 0., ..., 1., 0., 1.],\n",
              "       ...,\n",
              "       [1., 0., 0., ..., 0., 1., 0.],\n",
              "       [1., 0., 0., ..., 1., 1., 0.],\n",
              "       [1., 0., 0., ..., 0., 0., 1.]])"
            ]
          },
          "metadata": {},
          "execution_count": 42
        }
      ]
    },
    {
      "cell_type": "code",
      "source": [
        "onehot.categories_"
      ],
      "metadata": {
        "colab": {
          "base_uri": "https://localhost:8080/",
          "height": 0
        },
        "id": "m4nCViK3f0pN",
        "outputId": "dcfc0a22-2178-49c5-98cd-95b0bb49e2dd"
      },
      "execution_count": 43,
      "outputs": [
        {
          "output_type": "execute_result",
          "data": {
            "text/plain": [
              "[array(['female', 'male'], dtype=object),\n",
              " array(['group A', 'group B', 'group C', 'group D', 'group E'],\n",
              "       dtype=object),\n",
              " array([\"associate's degree\", \"bachelor's degree\", 'high school',\n",
              "        \"master's degree\", 'some college', 'some high school'],\n",
              "       dtype=object),\n",
              " array(['free/reduced', 'standard'], dtype=object),\n",
              " array(['completed', 'none'], dtype=object)]"
            ]
          },
          "metadata": {},
          "execution_count": 43
        }
      ]
    },
    {
      "cell_type": "markdown",
      "source": [
        "## Escalado de datos numerico"
      ],
      "metadata": {
        "id": "Pjy7vj9ZgjIP"
      }
    },
    {
      "cell_type": "markdown",
      "source": [
        "Para normalizar los datos númericos se utiliza la herramienta StandardScaler el cual obtiene el valor medio y lo divide por la desviación estandar."
      ],
      "metadata": {
        "id": "vkf1dqov58vB"
      }
    },
    {
      "cell_type": "code",
      "source": [
        "X_data_num = ['math score','reading score','writing score'] \n",
        "X_data_num"
      ],
      "metadata": {
        "colab": {
          "base_uri": "https://localhost:8080/",
          "height": 0
        },
        "id": "GFKD0IRBgh_h",
        "outputId": "c8dedbdd-add0-4558-ceca-406bd6da312e"
      },
      "execution_count": 44,
      "outputs": [
        {
          "output_type": "execute_result",
          "data": {
            "text/plain": [
              "['math score', 'reading score', 'writing score']"
            ]
          },
          "metadata": {},
          "execution_count": 44
        }
      ]
    },
    {
      "cell_type": "code",
      "source": [
        "from sklearn.preprocessing import StandardScaler\n",
        "\n",
        "std_scaler = StandardScaler()\n",
        "X_data_scaled = std_scaler.fit_transform(X_data[X_data_num])"
      ],
      "metadata": {
        "id": "6pjLwTX4lBDI"
      },
      "execution_count": 45,
      "outputs": []
    },
    {
      "cell_type": "code",
      "source": [
        "X_data_scaled"
      ],
      "metadata": {
        "colab": {
          "base_uri": "https://localhost:8080/",
          "height": 0
        },
        "id": "eZc7kua0lRzW",
        "outputId": "b8a675e5-ee78-4541-b84e-0848cefc2ac0"
      },
      "execution_count": 46,
      "outputs": [
        {
          "output_type": "execute_result",
          "data": {
            "text/plain": [
              "array([[ 0.39002351,  0.19399858,  0.39149181],\n",
              "       [ 0.19207553,  1.42747598,  1.31326868],\n",
              "       [ 1.57771141,  1.77010859,  1.64247471],\n",
              "       ...,\n",
              "       [-0.46775108,  0.12547206, -0.20107904],\n",
              "       [ 0.12609287,  0.60515772,  0.58901542],\n",
              "       [ 0.71993682,  1.15336989,  1.18158627]])"
            ]
          },
          "metadata": {},
          "execution_count": 46
        }
      ]
    },
    {
      "cell_type": "markdown",
      "source": [
        "# Pipeline"
      ],
      "metadata": {
        "id": "ADfYohlllg_8"
      }
    },
    {
      "cell_type": "markdown",
      "source": [
        "Los Pipiline permiten realizar el procesdo de limpieza, normalizacion y transformación de datos categoricos de una forma más rapida sin ejecutar tantas lineas de codigo."
      ],
      "metadata": {
        "id": "bUqexbEZ6hS9"
      }
    },
    {
      "cell_type": "code",
      "source": [
        "from sklearn.pipeline import Pipeline"
      ],
      "metadata": {
        "id": "B3Mu4QSpmXmy"
      },
      "execution_count": 49,
      "outputs": []
    },
    {
      "cell_type": "markdown",
      "source": [
        "## Pipeline datos numericos"
      ],
      "metadata": {
        "id": "OZLbSPPNlkXg"
      }
    },
    {
      "cell_type": "markdown",
      "source": [
        "Se crea un pipeline para lod datos numericos que permite normalizar los datos con StandarScaler"
      ],
      "metadata": {
        "id": "YyqjmP9P61xM"
      }
    },
    {
      "cell_type": "code",
      "source": [
        "num_pipeline = Pipeline([(\"standardize\", StandardScaler())])\n",
        "X_data_pipeline_num = num_pipeline.fit_transform(X_data[X_data_num])"
      ],
      "metadata": {
        "id": "krbNxQyIlVoB"
      },
      "execution_count": 50,
      "outputs": []
    },
    {
      "cell_type": "code",
      "source": [
        "X_data_pipeline_num"
      ],
      "metadata": {
        "colab": {
          "base_uri": "https://localhost:8080/",
          "height": 0
        },
        "id": "uYQgK_ygl6Gx",
        "outputId": "1ef548dd-d7af-47dd-9d3c-d9ac96a0365a"
      },
      "execution_count": 51,
      "outputs": [
        {
          "output_type": "execute_result",
          "data": {
            "text/plain": [
              "array([[ 0.39002351,  0.19399858,  0.39149181],\n",
              "       [ 0.19207553,  1.42747598,  1.31326868],\n",
              "       [ 1.57771141,  1.77010859,  1.64247471],\n",
              "       ...,\n",
              "       [-0.46775108,  0.12547206, -0.20107904],\n",
              "       [ 0.12609287,  0.60515772,  0.58901542],\n",
              "       [ 0.71993682,  1.15336989,  1.18158627]])"
            ]
          },
          "metadata": {},
          "execution_count": 51
        }
      ]
    },
    {
      "cell_type": "markdown",
      "source": [
        "## Pipeline datos categoricos"
      ],
      "metadata": {
        "id": "jktahH_EmRfb"
      }
    },
    {
      "cell_type": "markdown",
      "source": [
        "Se crea un pipeline para los datos categoricos que permite la transformación de categoricos a numericos mediante OneHotEncoder."
      ],
      "metadata": {
        "id": "xLXCJCas6-S0"
      }
    },
    {
      "cell_type": "code",
      "source": [
        "cat_pipeline = Pipeline([(\"categoricos\", OneHotEncoder())])\n",
        "X_data_pipeline_cat = cat_pipeline.fit_transform(X_data[X_data_categoricos])"
      ],
      "metadata": {
        "id": "1aWcrQg3mUnq"
      },
      "execution_count": 52,
      "outputs": []
    },
    {
      "cell_type": "code",
      "source": [
        "X_data_pipeline_cat.toarray()"
      ],
      "metadata": {
        "colab": {
          "base_uri": "https://localhost:8080/",
          "height": 0
        },
        "id": "3nr2B2drmt5X",
        "outputId": "78c2fd27-13b4-4d1d-a3b5-f92f57bdbe93"
      },
      "execution_count": 54,
      "outputs": [
        {
          "output_type": "execute_result",
          "data": {
            "text/plain": [
              "array([[1., 0., 0., ..., 1., 0., 1.],\n",
              "       [1., 0., 0., ..., 1., 1., 0.],\n",
              "       [1., 0., 0., ..., 1., 0., 1.],\n",
              "       ...,\n",
              "       [1., 0., 0., ..., 0., 1., 0.],\n",
              "       [1., 0., 0., ..., 1., 1., 0.],\n",
              "       [1., 0., 0., ..., 0., 0., 1.]])"
            ]
          },
          "metadata": {},
          "execution_count": 54
        }
      ]
    },
    {
      "cell_type": "markdown",
      "source": [
        "# Conclusiones"
      ],
      "metadata": {
        "id": "MupXY9eO7M3X"
      }
    },
    {
      "cell_type": "markdown",
      "source": [
        "\n",
        "\n",
        "*   La visualización de datos permite deteminar la variable a predecir e identificar las caracteristicas que tienen más relación con la variable a predecir.\n",
        "*   La estrateficación ayuda a que los datos esten distribuidos equitativamente en los datos de entrenamiento y los datos de prueba.\n",
        "*   Los Pipeline permite realizar multiples tareas para los datos categoricos y los datos numericos sin tener que ejecutar varias lineas de codigo.\n",
        "*   La variable a predecir 'pass_test' es un problema de clasificacion ya que los resultados son 0 para cuando no se apruba el examen y 1 para cuando se aprueba el examen.\n",
        "\n",
        "\n",
        "\n"
      ],
      "metadata": {
        "id": "oUDM_ztw7PY0"
      }
    }
  ]
}